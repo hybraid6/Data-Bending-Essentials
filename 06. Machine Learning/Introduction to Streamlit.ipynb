{
 "cells": [
  {
   "cell_type": "markdown",
   "id": "83922a98",
   "metadata": {},
   "source": [
    "# Introduction to Streamlit"
   ]
  },
  {
   "cell_type": "markdown",
   "id": "4f5cc544",
   "metadata": {},
   "source": [
    "#### What is Streamlit?\n",
    "Streamlit is an open-source Python framework that makes it easy to create web applications from Python scripts. It is designed for data scientists, machine learning engineers, and developers who want to quickly build interactive applications without dealing with the complexities of front-end web development.\n",
    "\n",
    "#### Benefits of Streamlit\n",
    "- **Easy to use**: No need to learn HTML, CSS, or JavaScript to create web apps.\n",
    "- **Interactive**: Build interactive dashboards, machine learning demos, or data visualization tools.\n",
    "- **Live updates**: Streamlit automatically reruns your app whenever the code changes or a user interacts with a widget.\n",
    "\n",
    "#### **Applications of Streamlit**\n",
    "- Data visualization dashboards\n",
    "- Machine learning model demos\n",
    "- Interactive tools for exploring datasets\n",
    "- Data apps for real-time analytics\n",
    "\n",
    "#### **Why Use Streamlit for ML?**\n",
    "- **Interactive model demos**: Allows users to input parameters and see the machine learning model’s output in real-time.\n",
    "- **Quick deployment**: You can turn a Python script into a fully interactive app in minutes.\n",
    "- **Integration with ML tools**: Works seamlessly with libraries like scikit-learn, TensorFlow, and PyTorch.\n",
    "\n",
    "#### **Streamlit vs Flask/Dash**\n",
    "- **Flask**: A general-purpose web framework, but requires HTML/CSS/JavaScript for front-end development.\n",
    "- **Dash**: More focused on data visualization but requires more setup compared to Streamlit.\n",
    "- **Streamlit**: Simplicity and speed in creating web apps, especially for data science and machine learning.\n",
    "\n",
    "\n",
    "More: https://docs.streamlit.io/develop/quick-reference/cheat-sheet"
   ]
  },
  {
   "cell_type": "markdown",
   "id": "ed0676c6",
   "metadata": {},
   "source": [
    "\n",
    "## **1. Setting Up Streamlit**\n",
    "\n",
    "#### **Installation**\n",
    "To install Streamlit, open your terminal or command prompt and run:\n",
    "\n",
    "```bash\n",
    "pip install streamlit\n",
    "```\n",
    "\n",
    "#### **Running Your First Streamlit App**\n",
    "\n",
    "1. Create a new Python file, e.g., `stream1.py`.\n",
    "2. Add the following code to the file:\n",
    "   ```python\n",
    "   import streamlit as st\n",
    "   \n",
    "   st.title(\"Hello, Stream, I'm lit!\")\n",
    "   st.write(\"Welcome to my Streamlit app.\")\n",
    "   st.write(\"You can STREAM and be LIT here without NETFLIX.\")\n",
    "   ```\n",
    "\n",
    "3. In your terminal, run the command:\n",
    "   ```bash\n",
    "   streamlit run \"file path\\stream1.py\"\n",
    "   ```"
   ]
  },
  {
   "cell_type": "code",
   "execution_count": 1,
   "id": "1b619eb7",
   "metadata": {},
   "outputs": [
    {
     "name": "stdout",
     "output_type": "stream",
     "text": [
      "stream1.py creation executed successfully!\n"
     ]
    }
   ],
   "source": [
    "# Create the file stream1.py in write mode\n",
    "with open(\"stream1.py\", \"w\") as file:\n",
    "    # Writing the Streamlit code into the file\n",
    "    file.write(\"\"\"\n",
    "import streamlit as st\n",
    "\n",
    "st.title(\"Hello, Stream, I'm lit!\")\n",
    "st.write(\"Welcome to my Streamlit app.\")\n",
    "st.write(\"You can STREAM here without NETFLIX.\")\n",
    "st.write(\"And you can be LIT without a LIGHTER.\")\n",
    "\n",
    "\"\"\")\n",
    "\n",
    "print(\"stream1.py creation executed successfully!\")"
   ]
  },
  {
   "cell_type": "markdown",
   "id": "17120169",
   "metadata": {},
   "source": [
    "## **3. Basic Features of Streamlit**\n",
    "\n",
    "Streamlit offers a variety of functions to display text, data, and interactive widgets."
   ]
  },
  {
   "cell_type": "markdown",
   "id": "4eb0b213",
   "metadata": {},
   "source": [
    "#### **Displaying Text and Markdown**\n",
    "You can display different types of text using `st.write()` and `st.markdown()`:\n",
    "\n",
    "```python\n",
    "st.title(\"Streamlit Basics\")\n",
    "st.header(\"This is a header\")\n",
    "st.subheader(\"This is a subheader\")\n",
    "st.write(\"This is regular text using `st.write()`\")\n",
    "st.markdown(\"**This text is bold in markdown**\")\n",
    "```"
   ]
  },
  {
   "cell_type": "code",
   "execution_count": 2,
   "id": "c2ee1575",
   "metadata": {},
   "outputs": [],
   "source": [
    "# Create stream_text.py in write mode\n",
    "with open(\"stream_text.py\", \"w\") as file:\n",
    "    \n",
    "    # Write the following Streamlit code into the file \n",
    "    file.write(\"\"\"\n",
    "import streamlit as st\n",
    "\n",
    "st.title(\"Streamlit Basics\")\n",
    "st.header(\"This is a header\")\n",
    "st.subheader(\"This is a subheader\")\n",
    "st.write(\"This is regular text using `st.write()`\")\n",
    "st.markdown(\"**This text is bold in markdown**\")\n",
    "\n",
    "\"\"\")\n",
    "    \n",
    "\n",
    "# Run 'streamlit run \"file path\\stream_text.py\"' in your terminal"
   ]
  },
  {
   "cell_type": "markdown",
   "id": "12cf8701",
   "metadata": {},
   "source": [
    "#### **Displaying DataFrames**\n",
    "Streamlit can display dataframes and tables easily"
   ]
  },
  {
   "cell_type": "code",
   "execution_count": 3,
   "id": "9f89f3d1",
   "metadata": {},
   "outputs": [],
   "source": [
    "with open(\"stream_df.py\", \"w\") as file:\n",
    "    file.write(\"\"\"\n",
    "import streamlit as st\n",
    "import pandas as pd\n",
    "# Sample data\n",
    "data = {\n",
    "    'Name': ['Mai', 'Azula', 'Toph'],\n",
    "    'Age': [14, 15, 12],\n",
    "    'Bending Style': ['Non Bender', 'Fire bender', 'Earth Bender']\n",
    "}\n",
    "\n",
    "df = pd.DataFrame(data)\n",
    "\n",
    "st.write(\"### DataFrame Example\")\n",
    "st.dataframe(df)  # Display the dataframe\n",
    "\n",
    "    \"\"\")"
   ]
  },
  {
   "cell_type": "markdown",
   "id": "302a3ecb",
   "metadata": {},
   "source": [
    "#### **Displaying Charts**\n",
    "Streamlit integrates with libraries like Matplotlib and Plotly, but also has built-in charting tools"
   ]
  },
  {
   "cell_type": "code",
   "execution_count": 4,
   "id": "7b5830f6",
   "metadata": {},
   "outputs": [],
   "source": [
    "with open(\"stream_chart.py\", \"w\") as file:\n",
    "    file.write(\"\"\"\n",
    "import streamlit as st\n",
    "import pandas as pd\n",
    "import numpy as np\n",
    "\n",
    "# Example line chart\n",
    "chart_data = pd.DataFrame(\n",
    "    np.random.randn(20, 3),\n",
    "    columns=['a', 'b', 'c'])\n",
    "\n",
    "st.line_chart(chart_data)\n",
    "\"\"\")"
   ]
  },
  {
   "cell_type": "markdown",
   "id": "51f8e0b7",
   "metadata": {},
   "source": [
    "#### **Adding Widgets**\n",
    "Streamlit has built-in widgets that allow for user interaction"
   ]
  },
  {
   "cell_type": "code",
   "execution_count": 5,
   "id": "3985393b",
   "metadata": {},
   "outputs": [],
   "source": [
    "with open(\"stream_widget.py\", \"w\") as file:\n",
    "    file.write(\"\"\"\n",
    "import streamlit as st\n",
    "# Slider widget\n",
    "x = st.slider(\"Select a value\", 0, 100)\n",
    "st.write(f\"You selected: {x}\")\n",
    "\n",
    "# Text input widget\n",
    "name = st.text_input(\"Enter your name\")\n",
    "st.write(f\"Hello, {name}!\")\n",
    "\n",
    "# Button widget\n",
    "if st.button('Click me'):\n",
    "    st.write(\"Button clicked!\")\n",
    "    \"\"\")"
   ]
  },
  {
   "cell_type": "markdown",
   "id": "04665618",
   "metadata": {},
   "source": [
    "## **4. Creating a Simple Streamlit App**"
   ]
  },
  {
   "cell_type": "markdown",
   "id": "7cf3bb58",
   "metadata": {},
   "source": [
    "#### Example: User Input Form\n",
    "\n",
    "Let’s create a simple user input form where users can enter their name, age, and select their favorite number."
   ]
  },
  {
   "cell_type": "code",
   "execution_count": 6,
   "id": "50ecd350",
   "metadata": {},
   "outputs": [],
   "source": [
    "with open(\"stream_user_input_form.py\", \"w\") as file:\n",
    "    file.write(\"\"\"\n",
    "import streamlit as st\n",
    "st.title(\"Simple User Input Form\")\n",
    "\n",
    "# Create text input for name\n",
    "name = st.text_input(\"Enter your name\")\n",
    "\n",
    "# Create slider for age\n",
    "age = st.slider(\"Select your age\", 18, 100)\n",
    "\n",
    "# Create a select box for favorite number\n",
    "favorite_number = st.selectbox(\"Select your favorite number\", [1, 2, 3, 4, 5])\n",
    "\n",
    "# Display the input back to the user\n",
    "st.write(f\"Hello, {name}! You are {age} years old and your favorite number is {favorite_number}.\")\n",
    "\"\"\")"
   ]
  },
  {
   "cell_type": "markdown",
   "id": "4e459262",
   "metadata": {},
   "source": [
    "## **5. Building a Simple Machine Learning App in Streamlit**\n",
    "\n",
    "Let's build a simple machine learning application that classifies iris flower species using the **Iris dataset** and a **Random Forest Classifier**."
   ]
  },
  {
   "cell_type": "code",
   "execution_count": 7,
   "id": "89054f93",
   "metadata": {},
   "outputs": [],
   "source": [
    "with open(\"stream_user_iris_flower_classifier.py\", \"w\") as file:\n",
    "    file.write('''\n",
    "#### Step 1: Import Libraries\n",
    "import streamlit as st\n",
    "import pandas as pd\n",
    "import numpy as np\n",
    "from sklearn.datasets import load_iris\n",
    "from sklearn.ensemble import RandomForestClassifier\n",
    "\n",
    "\n",
    "#### Step 2: Load the Data\n",
    "# We will load the famous Iris dataset using `sklearn` and display it in our app.\n",
    "\n",
    "\n",
    "# Load the Iris dataset\n",
    "iris = load_iris()\n",
    "df = pd.DataFrame(iris.data, columns=iris.feature_names)\n",
    "\n",
    "# Add a column for the target variable (species)\n",
    "df['species'] = iris.target\n",
    "\n",
    "# Map the target integers to the actual class names\n",
    "df['species_name'] = pd.Categorical.from_codes(iris.target, iris.target_names)\n",
    "\n",
    "# Add a title and description to the app\n",
    "st.title(\"Iris Flower Classification\")\n",
    "st.write(\"\"\"\n",
    "This app uses **Random Forest Classifier** to predict the type of Iris flower based on input features.\n",
    "\"\"\")\n",
    "\n",
    "# Display the dataset\n",
    "st.write(\"### Iris Dataset\", df)\n",
    "\n",
    "\n",
    "#### Step 3: Create User Inputs (Widgets)\n",
    "\n",
    "# Use Streamlit's widgets to allow users to input values for the model features.\n",
    "\n",
    "\n",
    "# Create sliders for user input\n",
    "st.sidebar.header('User Input Parameters')\n",
    "\n",
    "def user_input_features():\n",
    "\n",
    "\n",
    "    # Slider for Sepal Length\n",
    "    # Set the label, minimum value, maximum value, and default value (mean) for the slider\n",
    "    sepal_length = st.sidebar.slider(\n",
    "        'Sepal length',  # Label displayed for the slider\n",
    "        float(df['sepal length (cm)'].min()),  # Minimum value from the dataset\n",
    "        float(df['sepal length (cm)'].max()),  # Maximum value from the dataset\n",
    "        float(df['sepal length (cm)'].mean())  # Default value set to the mean of sepal lengths\n",
    "    )\n",
    "\n",
    "    # Slider for Sepal Width\n",
    "    # Similar to the sepal length slider, but for sepal width\n",
    "    sepal_width = st.sidebar.slider(\n",
    "        'Sepal width',  # Label for the slider\n",
    "        float(df['sepal width (cm)'].min()),  # Minimum value from the dataset\n",
    "        float(df['sepal width (cm)'].max()),  # Maximum value from the dataset\n",
    "        float(df['sepal width (cm)'].mean())  # Default value set to the mean of sepal widths\n",
    "    )\n",
    "\n",
    "    # Slider for Petal Length\n",
    "    # Slider to input petal length with appropriate labels and values\n",
    "    petal_length = st.sidebar.slider(\n",
    "        'Petal length',  # Label for the slider\n",
    "        float(df['petal length (cm)'].min()),  # Minimum value from the dataset\n",
    "        float(df['petal length (cm)'].max()),  # Maximum value from the dataset\n",
    "        float(df['petal length (cm)'].mean())  # Default value set to the mean of petal lengths\n",
    "    )\n",
    "\n",
    "    # Slider for Petal Width\n",
    "    # Slider for petal width with similar structure to previous sliders\n",
    "    petal_width = st.sidebar.slider(\n",
    "        'Petal width',  # Label for the slider\n",
    "        float(df['petal width (cm)'].min()),  # Minimum value from the dataset\n",
    "        float(df['petal width (cm)'].max()),  # Maximum value from the dataset\n",
    "        float(df['petal width (cm)'].mean())  # Default value set to the mean of petal widths\n",
    "    )\n",
    "\n",
    "    data = {'sepal length (cm)': sepal_length,\n",
    "            'sepal width (cm)': sepal_width,\n",
    "            'petal length (cm)': petal_length,\n",
    "            'petal width (cm)': petal_width}\n",
    "    features = pd.DataFrame(data, index=[0])\n",
    "    return features\n",
    "\n",
    "input_df = user_input_features()\n",
    "\n",
    "\n",
    "#### Step 4: Train the Model and Make Predictions\n",
    "\n",
    "# We'll use a Random Forest Classifier to train the model and predict the class based on user inputs.\n",
    "\n",
    "# Train the model using the entire Iris dataset\n",
    "X = pd.DataFrame(iris.data, columns=iris.feature_names)  # Convert to DataFrame\n",
    "Y = iris.target\n",
    "clf = RandomForestClassifier()\n",
    "clf.fit(X, Y)\n",
    "\n",
    "# Make predictions\n",
    "prediction = clf.predict(input_df)\n",
    "prediction_proba = clf.predict_proba(input_df)\n",
    "\n",
    "st.subheader('Prediction')\n",
    "st.write(iris.target_names[prediction])\n",
    "\n",
    "st.subheader('Prediction Probability')\n",
    "st.write(prediction_proba)\n",
    "\n",
    "\n",
    "#### Step 5: Visualizing Results\n",
    "\n",
    "# You can use Streamlit's `st.line_chart()` or `st.bar_chart()` to show charts or integrate Matplotlib/Plotly for custom visualizations.\n",
    "\n",
    "\n",
    "# Visualization Example: Show the feature importance\n",
    "st.subheader('Feature Importance')\n",
    "import matplotlib.pyplot as plt\n",
    "\n",
    "importance = clf.feature_importances_\n",
    "features = iris.feature_names\n",
    "plt.barh(features, importance)\n",
    "st.pyplot(plt)\n",
    "\n",
    "''')"
   ]
  },
  {
   "cell_type": "markdown",
   "id": "d661f413",
   "metadata": {},
   "source": [
    "### 6. Deploying Streamlit Apps"
   ]
  },
  {
   "cell_type": "markdown",
   "id": "86e31081",
   "metadata": {},
   "source": [
    "#### **Local Deployment**\n",
    "- By default, you run Streamlit locally using the command `streamlit run app.py`. The app opens in your browser, but others on your network can access it by visiting your IP address.\n",
    "\n",
    "#### **Cloud Deployment (Streamlit Cloud)**\n",
    "Streamlit provides a platform called **Streamlit Cloud** for easy deployment. Here’s how you can deploy your app:\n",
    "\n",
    "1. Push your app to a GitHub repository.\n",
    "2. Create an account on [Streamlit Cloud](https://streamlit.io/cloud).\n",
    "3. Link your GitHub repository.\n",
    "4. Deploy and share the link!\n",
    "\n",
    "You can also deploy Streamlit apps to other platforms like **Heroku**, **AWS**, or **Google Cloud**."
   ]
  },
  {
   "cell_type": "code",
   "execution_count": null,
   "id": "6ea8f68f-bc7f-408c-b498-ef6764c5ada2",
   "metadata": {},
   "outputs": [],
   "source": []
  },
  {
   "cell_type": "markdown",
   "id": "97352250-24d5-416d-ac9e-e9edd87c8e9c",
   "metadata": {},
   "source": [
    "---\n",
    "_**Your Dataness**_,  \n",
    "**`Obinna Oliseneku`** (_**Hybraid**_)  \n",
    "**[LinkedIn](https://www.linkedin.com/in/obinnao/)** | **[GitHub](https://github.com/hybraid6)**  "
   ]
  }
 ],
 "metadata": {
  "kernelspec": {
   "display_name": "Python 3 (ipykernel)",
   "language": "python",
   "name": "python3"
  },
  "language_info": {
   "codemirror_mode": {
    "name": "ipython",
    "version": 3
   },
   "file_extension": ".py",
   "mimetype": "text/x-python",
   "name": "python",
   "nbconvert_exporter": "python",
   "pygments_lexer": "ipython3",
   "version": "3.12.7"
  }
 },
 "nbformat": 4,
 "nbformat_minor": 5
}
