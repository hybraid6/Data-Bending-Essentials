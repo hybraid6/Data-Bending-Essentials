{
 "cells": [
  {
   "cell_type": "markdown",
   "id": "e8a3f7cb",
   "metadata": {},
   "source": [
    "# Introduction to APIs"
   ]
  },
  {
   "cell_type": "markdown",
   "id": "fd3d015e",
   "metadata": {},
   "source": [
    "### **1. What is an API?**\n",
    "\n",
    "**Definition**:  \n",
    "An API is a set of **rules that allows one application to interact with another.** It defines the methods and data formats that programs should use to communicate with each other.\n",
    "\n",
    "- **Acronym**: API stands for \"Application Programming Interface.\"\n",
    "- **Purpose**: It acts like a messenger, taking a request from a user or system, sending it to another system, and then returning the response.\n",
    "\n",
    "#### **Real-World Example:**\n",
    "- Think of an API as a waiter in a restaurant. The waiter takes your order (request), delivers it to the kitchen (server), and brings back your food (response). You don’t need to know how the kitchen works; you just use the waiter (API) to get what you want. \n",
    "- You can also think of an API like a USB cable that connects a laptop to a phone, allowing them to communicate and exchange data."
   ]
  },
  {
   "cell_type": "markdown",
   "id": "7fa011c0",
   "metadata": {},
   "source": [
    "### **2. Types of APIs**\n",
    "\n",
    "There are various types of APIs, but we will focus on **Web APIs**, which allow applications to communicate over the web.\n",
    "\n",
    "- **Web APIs: Web APIs allow communication between servers and clients over the internet using HTTP/HTTPS (HyperText Transfer Protocol/ HyperText Transfer Protocol Secure).** They often return data in formats like JSON or XML. (HTTP/HTTPS are the protocols or rules used by Web APIs to communicate over the internet. Most modern Web APIs use HTTPS to ensure secure data transfer.)\n",
    "Example: RESTful APIs, GraphQL, SOAP.\n",
    "  \n",
    "  **Use Case**: When you use a weather app that shows data from a weather service, the app is using an API to fetch the data from a website.\n",
    "        \n",
    "___\n",
    "Other types of API include: Operating System APIs, Hardware APIs, Database APIs etc"
   ]
  },
  {
   "cell_type": "markdown",
   "id": "8ac606f1",
   "metadata": {},
   "source": [
    "### **3. Key Terms**\n",
    "\n",
    "1. **Request**: When you ask an API for information or services. This request is made through a URL (Uniform Resource Locator).\n",
    "   \n",
    "   **Example**: When you type a website URL into your browser, that’s a request.\n",
    "\n",
    "2. **Response**: The data returned by the API based on your request.\n",
    "   \n",
    "   **Example**: When the website loads, that’s the response from the server.\n",
    "\n",
    "3. **Endpoints**: The specific part of an API where you send your requests. (the particular webpage in the website that you're requesting for).\n",
    "\n",
    "4. **HTTP Methods**:\n",
    "   - **GET**: Retrieves data.\n",
    "   - **POST**: Sends data to create/update resources.\n",
    "   - **PUT**: Updates existing resources.\n",
    "   - **DELETE**: Deletes resources."
   ]
  },
  {
   "cell_type": "markdown",
   "id": "60d272ec",
   "metadata": {},
   "source": [
    "### **4. What Makes an API Request?**\n",
    "\n",
    "A request is made using:\n",
    "\n",
    "1. **URL**: The endpoint to send your request to.\n",
    "2. **HTTP Method**: Defines the type of request (GET, POST, etc.).\n",
    "3. **Headers**: Additional information sent along with the request (e.g., authentication tokens).\n",
    "4. **Body**: The actual data you’re sending (used mostly with POST and PUT)."
   ]
  },
  {
   "cell_type": "markdown",
   "id": "a76c0a25",
   "metadata": {},
   "source": [
    "### **5. API Response Format**\n",
    "\n",
    "APIs commonly return data in the following formats:\n",
    "- **JSON (JavaScript Object Notation)**: Lightweight and easy to read.\n",
    "- **XML (eXtensible Markup Language)**: More structured but less commonly used than JSON.\n",
    "\n",
    "**Example of JSON**:\n",
    "```json\n",
    "{\n",
    "  \"location\": \"Lagos\",\n",
    "  \"temperature\": 32,\n",
    "  \"condition\": \"Sunny\"\n",
    "}\n",
    "```"
   ]
  },
  {
   "cell_type": "markdown",
   "id": "80d644e0",
   "metadata": {},
   "source": [
    "### **6. Tools for Working with APIs**\n",
    "\n",
    "- **Postman**: A popular tool to manually test APIs by sending requests and viewing responses.\n",
    "- **Curl**: A command-line tool to interact with APIs.\n",
    "- **Python’s `requests` library**: One of the easiest ways to work with APIs programmatically."
   ]
  },
  {
   "cell_type": "markdown",
   "id": "3a2e3096",
   "metadata": {},
   "source": [
    "## 7. Making a Simple API Request in Python\n",
    "\n",
    "We’ll use the `requests` library to interact with a public API -OpenWeatherMap for weather data (Which is an example of a RESTful Web API)."
   ]
  },
  {
   "cell_type": "markdown",
   "id": "26f049fc",
   "metadata": {},
   "source": [
    "#### Step 1: Install  and import the `requests` library"
   ]
  },
  {
   "cell_type": "code",
   "execution_count": null,
   "id": "74201d33",
   "metadata": {},
   "outputs": [],
   "source": [
    "# Uncomment if you haven't installed already\n",
    "# !pip install requests\n",
    "\n",
    "import requests"
   ]
  },
  {
   "cell_type": "markdown",
   "id": "2cf999d8",
   "metadata": {},
   "source": [
    "#### Step 2: API Key Setup"
   ]
  },
  {
   "cell_type": "code",
   "execution_count": null,
   "id": "24625ef1",
   "metadata": {},
   "outputs": [],
   "source": [
    "# Many APIs require an API key to access their data. I have set up an API key with OpenWeather for this problem."
   ]
  },
  {
   "cell_type": "markdown",
   "id": "69d9fed7",
   "metadata": {},
   "source": [
    "#### Step 3: Making a GET Request to a Weather API"
   ]
  },
  {
   "cell_type": "code",
   "execution_count": null,
   "id": "785b33c5",
   "metadata": {},
   "outputs": [],
   "source": [
    "# The base URL of the API endpoint\n",
    "url = \"http://api.openweathermap.org/data/2.5/weather\""
   ]
  },
  {
   "cell_type": "code",
   "execution_count": null,
   "id": "8f07f400",
   "metadata": {},
   "outputs": [],
   "source": [
    "# Your API key\n",
    "api_key = \"\" # set up an API key and write it here\n",
    "\n",
    "# Parameters to pass to the API (e.g., city name and API key)\n",
    "params = {\n",
    "    'q': 'Lagos',   # The city you want to get weather data for\n",
    "    'appid': api_key,  # Your API key\n",
    "    'units': 'metric',  # Metric units for temperature\n",
    "}"
   ]
  },
  {
   "cell_type": "markdown",
   "id": "bce49cfd",
   "metadata": {},
   "source": [
    "#### Note that:\n",
    "- Every API has a detailed documentation page that outlines the base URL, the various endpoints you can use, the parameters to pass to the API and other guidelines. \n",
    "- You can find those of OpenWeatherMap here: https://openweathermap.org/api#current"
   ]
  },
  {
   "cell_type": "code",
   "execution_count": null,
   "id": "f8042cba",
   "metadata": {},
   "outputs": [],
   "source": [
    "# Send a GET request to the API\n",
    "response = requests.get(url, params=params)\n",
    "\n",
    "# Check if the request was successful\n",
    "response.status_code == 200"
   ]
  },
  {
   "cell_type": "code",
   "execution_count": null,
   "id": "977ecb81",
   "metadata": {},
   "outputs": [],
   "source": [
    "# Display the weather data as JSON\n",
    "response.json()"
   ]
  },
  {
   "cell_type": "code",
   "execution_count": null,
   "id": "39945bcf",
   "metadata": {
    "scrolled": true
   },
   "outputs": [],
   "source": [
    "# Parse the JSON response from the API to extract the weather data\n",
    "weather_data = response.json()\n",
    "\n",
    "# Print the name of the city from the parsed weather data\n",
    "print(f\"City: {weather_data['name']}\")\n",
    "\n",
    "# Print the current temperature in the city (in °C) from the 'main' section of the weather data\n",
    "print(f\"Temperature: {weather_data['main']['temp']}°C\")\n",
    "\n",
    "# Print the description of the current weather (e.g., clear, cloudy, etc.) from the 'weather' section of the data\n",
    "print(f\"Weather: {weather_data['weather'][0]['description']}\")"
   ]
  },
  {
   "cell_type": "markdown",
   "id": "a408465e",
   "metadata": {},
   "source": [
    "### 8. Let's use the OpenWeatherMap API to retrieve weather data for multiple cities and analyze the temperature and weather conditions using pandas."
   ]
  },
  {
   "cell_type": "markdown",
   "id": "68b11281",
   "metadata": {},
   "source": [
    "#### Problem Statement:\n",
    "1. **API Task**: Retrieve current weather data for at least five different cities using the OpenWeatherMap API.\n",
    "2. **Data Requirements**: For each city, collect the following data points:\n",
    "   - City Name\n",
    "   - Temperature (in °C)\n",
    "   - Weather Description (e.g., clear, rainy, cloudy)\n",
    "   - Humidity (%)\n",
    "   - Wind Speed (m/s)\n",
    "\n",
    "3. **Analysis Task**: After collecting the data, store it in a pandas DataFrame and perform the following analyses:\n",
    "   - Display the average temperature across all cities.\n",
    "   - Identify the city with the highest wind speed.\n",
    "   - Count how many cities are experiencing clear weather."
   ]
  },
  {
   "cell_type": "code",
   "execution_count": null,
   "id": "bab51d49",
   "metadata": {},
   "outputs": [],
   "source": [
    "# Your OpenWeatherMap API key\n",
    "api_key = \"\""
   ]
  },
  {
   "cell_type": "code",
   "execution_count": null,
   "id": "9c42aea8",
   "metadata": {},
   "outputs": [],
   "source": [
    "# List of cities to get weather data for\n",
    "cities = ['Lagos', 'Warri', 'Benin', 'New York', 'Tokyo', 'London', 'Sydney', 'Toronto']"
   ]
  },
  {
   "cell_type": "code",
   "execution_count": null,
   "id": "6195e5d2",
   "metadata": {},
   "outputs": [],
   "source": [
    "# Initialize an empty list to store the weather data\n",
    "weather_data = []"
   ]
  },
  {
   "cell_type": "code",
   "execution_count": null,
   "id": "e83175bd",
   "metadata": {},
   "outputs": [],
   "source": [
    "# Base URL of the API endpoint\n",
    "url = \"http://api.openweathermap.org/data/2.5/weather\""
   ]
  },
  {
   "cell_type": "code",
   "execution_count": null,
   "id": "7763d22f",
   "metadata": {
    "scrolled": true
   },
   "outputs": [],
   "source": [
    "# Loop through each city to get weather data\n",
    "for city in cities:\n",
    "    # Parameters for the API request\n",
    "    params = {\n",
    "        'q': city,\n",
    "        'appid': api_key,\n",
    "        'units': 'metric'  # Get temperature in Celsius\n",
    "    }\n",
    "    \n",
    "    # Send a GET request to the API\n",
    "    response = requests.get(url, params=params)\n",
    "    \n",
    "    # Check if the request was successful\n",
    "    if response.status_code == 200:\n",
    "        # Parse the JSON response\n",
    "        data = response.json()\n",
    "        \n",
    "        # Extract relevant information\n",
    "        city_name = data['name']\n",
    "        temperature = data['main']['temp']\n",
    "        weather_description = data['weather'][0]['description']\n",
    "        humidity = data['main']['humidity']\n",
    "        wind_speed = data['wind']['speed']\n",
    "        \n",
    "        # Append the data to the list\n",
    "        weather_data.append({\n",
    "            'City': city_name,\n",
    "            'Temperature (°C)': temperature,\n",
    "            'Weather Description': weather_description,\n",
    "            'Humidity (%)': humidity,\n",
    "            'Wind Speed (m/s)': wind_speed\n",
    "        })\n",
    "    else:\n",
    "        print(f\"Failed to retrieve data for {city}: {response.status_code}\")\n",
    "\n",
    "# Create a DataFrame from the collected weather data\n",
    "import pandas as pd\n",
    "df = pd.DataFrame(weather_data)\n",
    "\n",
    "# Display the DataFrame\n",
    "print(\"\\nWeather Data:\")\n",
    "df"
   ]
  },
  {
   "cell_type": "code",
   "execution_count": null,
   "id": "e55a8719",
   "metadata": {},
   "outputs": [],
   "source": [
    "# Analyze the data\n",
    "average_temperature = df['Temperature (°C)'].mean()\n",
    "highest_wind_city = df.loc[df['Wind Speed (m/s)'].idxmax(), 'City']\n",
    "clear_weather_count = df[df['Weather Description'].str.contains('clear', case=False)].shape[0]\n",
    "\n",
    "# Print the analysis results\n",
    "print(f\"\\nAverage Temperature across all cities: {average_temperature:.2f}°C\")\n",
    "print(f\"City with the highest wind speed: {highest_wind_city}\")\n",
    "print(f\"Number of cities experiencing clear weather: {clear_weather_count}\")"
   ]
  },
  {
   "cell_type": "markdown",
   "id": "858ba24b",
   "metadata": {},
   "source": [
    "### 9. Let's use the `OpenWeatherMap 5-Day/3-Hour Forecast API` to get a 5-day forecast for multiple cities and perform some simple analysis using pandas.\n",
    "\n",
    "This API provides weather data for the next 5 days in 3-hour intervals, which allows you to forecast weather trends over the next few days."
   ]
  },
  {
   "cell_type": "markdown",
   "id": "7d456a54",
   "metadata": {},
   "source": [
    "#### Problem Statement:\n",
    "1. **API Task**: Retrieve the 5-day weather forecast for at least five different cities using the OpenWeatherMap 5-Day/3-Hour Forecast API.\n",
    "2. **Data Requirements**: For each city, collect the following data points:\n",
    "   - City Name\n",
    "   - Date and Time (for each 3-hour interval)\n",
    "   - Forecasted Temperature (in °C)\n",
    "   - Weather Description (e.g., clear, rainy, cloudy)\n",
    "   - Humidity (%)\n",
    "   - Wind Speed (m/s)\n",
    "\n",
    "3. **Analysis Task**: After collecting the data, store it in a pandas DataFrame and perform the following analyses:\n",
    "   - Calculate the average forecasted temperature for each city over the next 5 days.\n",
    "   - Identify the time and date when the highest temperature is expected in each city.\n",
    "   - Plot temperature trends over the next 5 days for one of the cities."
   ]
  },
  {
   "cell_type": "code",
   "execution_count": null,
   "id": "9b2a11e7",
   "metadata": {},
   "outputs": [],
   "source": [
    "# Your OpenWeatherMap API key\n",
    "#api_key = \n",
    "\n",
    "# List of cities to get 5-day weather forecast for\n",
    "cities = ['Lagos', 'Warri', 'Benin', 'New York', 'Tokyo', 'London', 'Sydney', 'Moscow', 'Rome', 'Los Angeles']\n",
    "\n",
    "# Initialize an empty list to store the forecast data\n",
    "forecast_data = []\n",
    "\n",
    "# Base URL of the API endpoint for the 5-day forecast\n",
    "url = \"http://api.openweathermap.org/data/2.5/forecast\""
   ]
  },
  {
   "cell_type": "code",
   "execution_count": null,
   "id": "94779a7a",
   "metadata": {},
   "outputs": [],
   "source": [
    "# Loop through each city to get the 5-day weather forecast\n",
    "for city in cities:\n",
    "    # Parameters for the API request\n",
    "    params = {\n",
    "        'q': city,\n",
    "        'appid': api_key,\n",
    "        'units': 'metric'  # Get temperature in Celsius\n",
    "    }\n",
    "    \n",
    "    # Send a GET request to the API\n",
    "    response = requests.get(url, params=params)\n",
    "    \n",
    "    # Check if the request was successful\n",
    "    if response.status_code == 200:\n",
    "        city_forecast = response.json()\n",
    "        \n",
    "        # Extract relevant information for each 3-hour interval in the forecast\n",
    "        for forecast in city_forecast['list']:\n",
    "            forecast_data.append({\n",
    "                'City': city_forecast['city']['name'],\n",
    "                'Date & Time': forecast['dt_txt'],\n",
    "                'Temperature (°C)': forecast['main']['temp'],\n",
    "                'Weather Description': forecast['weather'][0]['description'],\n",
    "                'Humidity (%)': forecast['main']['humidity'],\n",
    "                'Wind Speed (m/s)': forecast['wind']['speed']\n",
    "            })\n",
    "    else:\n",
    "        print(f\"Failed to retrieve forecast for {city}: {response.status_code}\")\n",
    "\n",
    "# Create a DataFrame from the collected forecast data\n",
    "import pandas as pd\n",
    "df = pd.DataFrame(forecast_data)\n",
    "\n",
    "# Display the DataFrame\n",
    "print(\"\\n5-Day Weather Forecast:\")\n",
    "df"
   ]
  },
  {
   "cell_type": "code",
   "execution_count": null,
   "id": "4356c7e7-5cfb-4704-b868-60f0c9a10500",
   "metadata": {},
   "outputs": [],
   "source": [
    "df[df[\"City\"] == 'Moscow']"
   ]
  },
  {
   "cell_type": "code",
   "execution_count": null,
   "id": "36d6fa8a",
   "metadata": {},
   "outputs": [],
   "source": [
    "# Analyze the data\n",
    "average_temperature = df.groupby('City')['Temperature (°C)'].mean()\n",
    "highest_temp_time = df.loc[df.groupby('City')['Temperature (°C)'].idxmax()]\n",
    "\n",
    "# Print the analysis results\n",
    "print(\"\\nAverage Forecasted Temperature over the next 5 days:\")\n",
    "print(average_temperature)\n",
    "\n",
    "print(\"\\nTime of Highest Forecasted Temperature:\")\n",
    "print(highest_temp_time[['City', 'Date & Time', 'Temperature (°C)']])"
   ]
  },
  {
   "cell_type": "code",
   "execution_count": null,
   "id": "9bf43d06",
   "metadata": {},
   "outputs": [],
   "source": [
    "import matplotlib.pyplot as plt  # Import the plotting library\n",
    "\n",
    "# Filter the DataFrame to get only the weather data for Lagos\n",
    "lagos_forecast = df[df['City'] == 'Lagos']\n",
    "\n",
    "# Create a new figure for the plot with a specified size (width=12, height=6)\n",
    "plt.figure(figsize=(12, 6))\n",
    "\n",
    "# Plot the temperature trend for Lagos over time, using the 'Date & Time' as the x-axis and 'Temperature (°C)' as the y-axis\n",
    "# 'marker='o'' adds circle markers at each data point\n",
    "plt.plot(lagos_forecast['Date & Time'], lagos_forecast['Temperature (°C)'], marker='o')\n",
    "\n",
    "# Add a title to the plot\n",
    "plt.title('Temperature Trends in Lagos Over the Next 5 Days')\n",
    "\n",
    "# Label the x-axis (Date & Time) and the y-axis (Temperature in °C)\n",
    "plt.xlabel('Date & Time')\n",
    "plt.ylabel('Temperature (°C)')\n",
    "\n",
    "# Rotate the x-axis labels (date and time) by 45 degrees for better readability\n",
    "plt.xticks(rotation=45)\n",
    "\n",
    "# Add a grid to the plot for easier visualization of the data points\n",
    "plt.grid()\n",
    "\n",
    "# Display the plot\n",
    "plt.show()"
   ]
  },
  {
   "cell_type": "code",
   "execution_count": null,
   "id": "4d0eb6e9",
   "metadata": {},
   "outputs": [],
   "source": [
    "url = \"https://icanhazdadjoke.com/\"\n",
    "headers = {\"Accept\": \"text/plain\"}\n",
    "response = requests.get(url, headers=headers)\n",
    "\n",
    "if response.status_code == 200:\n",
    "    print(response.text)\n",
    "else:\n",
    "    print(\"Failed to retrieve a joke\")"
   ]
  },
  {
   "cell_type": "code",
   "execution_count": null,
   "id": "7c448f8e",
   "metadata": {},
   "outputs": [],
   "source": []
  },
  {
   "cell_type": "markdown",
   "id": "d587df89-0af2-4da9-8518-47b1bdd4d08a",
   "metadata": {},
   "source": [
    "---\n",
    "_**Your Dataness**_,  \n",
    "**`Obinna Oliseneku`** (_**Hybraid**_)  \n",
    "**[LinkedIn](https://www.linkedin.com/in/obinnao/)** | **[GitHub](https://github.com/hybraid6)**  "
   ]
  }
 ],
 "metadata": {
  "kernelspec": {
   "display_name": "Python 3 (ipykernel)",
   "language": "python",
   "name": "python3"
  },
  "language_info": {
   "codemirror_mode": {
    "name": "ipython",
    "version": 3
   },
   "file_extension": ".py",
   "mimetype": "text/x-python",
   "name": "python",
   "nbconvert_exporter": "python",
   "pygments_lexer": "ipython3",
   "version": "3.12.7"
  }
 },
 "nbformat": 4,
 "nbformat_minor": 5
}
