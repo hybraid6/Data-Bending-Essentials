{
 "cells": [
  {
   "cell_type": "markdown",
   "id": "33370f8e",
   "metadata": {},
   "source": [
    "# Data Visualization with Python"
   ]
  },
  {
   "cell_type": "markdown",
   "id": "7266e91c",
   "metadata": {},
   "source": [
    "- Data visualization is the graphical representation of information and data. By using visual elements like charts, graphs, and maps, data visualization tools provide an accessible way to see and understand trends, outliers, and patterns in data."
   ]
  },
  {
   "cell_type": "markdown",
   "id": "0eb832b6",
   "metadata": {},
   "source": [
    "#### Why learn data visualization?\n",
    "- Learning data visualization is essential for interpreting data effectively. \n",
    "- It helps in making data-driven decisions, discovering insights, and communicating findings in a clear and compelling manner."
   ]
  },
  {
   "cell_type": "markdown",
   "id": "57147ae1",
   "metadata": {},
   "source": [
    "#### Introduction to Plotly\n",
    "\n",
    "- Plotly is an interactive, open-source plotting library that supports over 40 unique chart types, covering a wide range of statistical, financial, geographic, scientific, and 3-dimensional use cases. \n",
    "- Plotly can be used to create beautiful and interactive visualizations in Python."
   ]
  },
  {
   "cell_type": "code",
   "execution_count": null,
   "id": "e13f8095",
   "metadata": {},
   "outputs": [],
   "source": [
    "# Import necessary libraries\n",
    "import pandas as pd\n",
    "import seaborn as sns\n",
    "import matplotlib.pyplot as plt\n",
    "import plotly.express as px\n",
    "import plotly.graph_objects as go"
   ]
  },
  {
   "cell_type": "code",
   "execution_count": null,
   "id": "91f9db33",
   "metadata": {
    "scrolled": true
   },
   "outputs": [],
   "source": [
    "# Load and display the Gapminder dataset\n",
    "df = px.data.gapminder()\n",
    "\n",
    "df.head()"
   ]
  },
  {
   "cell_type": "code",
   "execution_count": null,
   "id": "67ee8714",
   "metadata": {},
   "outputs": [],
   "source": [
    "df.info()"
   ]
  },
  {
   "cell_type": "code",
   "execution_count": null,
   "id": "49122afe",
   "metadata": {},
   "outputs": [],
   "source": [
    "df['year'].value_counts()"
   ]
  },
  {
   "cell_type": "markdown",
   "id": "cc13d09d",
   "metadata": {},
   "source": [
    "### 1. Line Chart\n",
    "- **Explanation**: A line chart displays information as a series of data points called 'markers' connected by straight line segments. It is similar to an area chart but without the filled area.\n",
    "- **Best Use**: Use a line chart to visualize data points over a continuous interval or time period. It's ideal for showing trends over time, such as stock prices, temperature changes, or sales figures.\n"
   ]
  },
  {
   "cell_type": "code",
   "execution_count": null,
   "id": "20e77bb2",
   "metadata": {},
   "outputs": [],
   "source": [
    "help(px.line)"
   ]
  },
  {
   "cell_type": "code",
   "execution_count": null,
   "id": "11eb089f",
   "metadata": {},
   "outputs": [],
   "source": [
    "df[df['country'].isin(selected_countries)]"
   ]
  },
  {
   "cell_type": "code",
   "execution_count": null,
   "id": "5492d2c5",
   "metadata": {},
   "outputs": [],
   "source": [
    "# Line chart showing population growth over time for selected countries.\n",
    "\n",
    "selected_countries = ['China', 'India', 'United States', 'Indonesia', 'Brazil', 'Nigeria']\n",
    "\n",
    "fig = px.line(df[df['country'].isin(selected_countries)], x='year', y='pop', color='country',\n",
    "              width= 1000, height= 600, title='Population Growth Over Time for Selected Countries')\n",
    "\n",
    "fig.show()"
   ]
  },
  {
   "cell_type": "markdown",
   "id": "fe09b8b5",
   "metadata": {},
   "source": [
    "**Insights**:\n",
    "- **Population Growth**:\n",
    "  - **China** and **India** show significant population growth, reflecting their status as the two most populous countries.\n",
    "  - **United States** shows steady growth.\n",
    "  - **Indonesia** and **Brazil** also show substantial growth, but at a slower pace compared to China and India."
   ]
  },
  {
   "cell_type": "markdown",
   "id": "41202d14",
   "metadata": {},
   "source": [
    "###  2. Area Chart\n",
    "\n",
    "- **Explanation**: An area chart is similar to a line chart but with the area below the line filled in. It is useful for showing trends over time among related attributes.\n",
    "- **Best Use**: Use an area chart when you want to display the cumulative effect or the overall volume. It works well for data that represents part-to-whole relationships or when the total value is significant."
   ]
  },
  {
   "cell_type": "code",
   "execution_count": null,
   "id": "90af9d1d",
   "metadata": {},
   "outputs": [],
   "source": [
    "help(px.area)"
   ]
  },
  {
   "cell_type": "code",
   "execution_count": null,
   "id": "bb5a529f",
   "metadata": {},
   "outputs": [],
   "source": [
    "# Area chart showing GDP per capita over time for different continents.\n",
    "\n",
    "fig = px.area(df, x='year', y='gdpPercap', color='continent', line_group='country', title='GDP per Capita Over Time by Continent')\n",
    "fig.show()"
   ]
  },
  {
   "cell_type": "code",
   "execution_count": null,
   "id": "adab61f1",
   "metadata": {},
   "outputs": [],
   "source": [
    "df2 = df[[\"country\", \"continent\",\"year\", \"gdpPercap\"]]\n",
    "\n",
    "df3 = df2.groupby(['continent', 'year'])['gdpPercap'].mean().reset_index()"
   ]
  },
  {
   "cell_type": "code",
   "execution_count": null,
   "id": "2188b63e",
   "metadata": {},
   "outputs": [],
   "source": [
    "df3"
   ]
  },
  {
   "cell_type": "markdown",
   "id": "8f1cd376",
   "metadata": {},
   "source": [
    "**Insights**:\n",
    "- **Trends in Economic Growth**:\n",
    "  - **Europe** and **North America** show consistent and high economic growth over the years.\n",
    "  - **Asia** shows a significant upward trend, particularly in recent decades, indicating rapid economic growth in countries like China and India.\n",
    "  - **Africa** and **South America** have lower GDP per capita values, but Africa shows gradual improvement, while South America exhibits a mix of growth and stagnation in different periods.\n",
    "  - **Oceania** has a small representation but shows high GDP per capita, driven mainly by Australia and New Zealand.\n"
   ]
  },
  {
   "cell_type": "code",
   "execution_count": null,
   "id": "e614e779",
   "metadata": {},
   "outputs": [],
   "source": [
    "# Practice Question: Create an area chart showing population over time by continent."
   ]
  },
  {
   "cell_type": "markdown",
   "id": "da126a98",
   "metadata": {},
   "source": [
    "### 3. Bar Chart\n",
    "- **Explanation**: A bar chart represents categorical data with rectangular bars with heights or lengths proportional to the values they represent.\n",
    "- **Best Use**: Use a bar chart to compare different categories of data. It works well for showing relative quantities, such as the population of different countries or sales figures for different products.\n"
   ]
  },
  {
   "cell_type": "code",
   "execution_count": null,
   "id": "47cbb651",
   "metadata": {},
   "outputs": [],
   "source": [
    "df.head()"
   ]
  },
  {
   "cell_type": "code",
   "execution_count": null,
   "id": "1b498635",
   "metadata": {
    "scrolled": true
   },
   "outputs": [],
   "source": [
    "avg_lifeExp = df.groupby('continent')['lifeExp'].agg(['mean', 'sum']).reset_index()\n",
    "avg_lifeExp                                                     "
   ]
  },
  {
   "cell_type": "code",
   "execution_count": null,
   "id": "38a9fbee",
   "metadata": {},
   "outputs": [],
   "source": [
    "avg_lifeExp = df.groupby('continent')['lifeExp'].mean().reset_index()\n",
    "avg_lifeExp"
   ]
  },
  {
   "cell_type": "code",
   "execution_count": null,
   "id": "4d065106",
   "metadata": {},
   "outputs": [],
   "source": [
    "help(px.bar)"
   ]
  },
  {
   "cell_type": "code",
   "execution_count": null,
   "id": "cead317d",
   "metadata": {},
   "outputs": [],
   "source": [
    "# Bar chart showing the average life expectancy by continent.\n",
    "\n",
    "avg_lifeExp = df.groupby('continent')['lifeExp'].mean().reset_index()\n",
    "fig = px.bar(avg_lifeExp, x='continent', y='lifeExp', title='Average Life Expectancy by Continent')\n",
    "fig.show()"
   ]
  },
  {
   "cell_type": "markdown",
   "id": "278d1982",
   "metadata": {},
   "source": [
    "**Insights**:\n",
    "- **Life Expectancy**:\n",
    "  - **Europe** and **Oceania** have the highest average life expectancy.\n",
    "  - **Africa** has the lowest, indicating significant health challenges and disparities."
   ]
  },
  {
   "cell_type": "markdown",
   "id": "683f55a7",
   "metadata": {},
   "source": [
    "### 4. Histogram Chart\n",
    "- **Explanation**: A histogram is a graphical representation of the distribution of numerical data. It groups data into bins or intervals and counts the number of data points in each bin.\n",
    "- **Best Use**: Use a histogram when you need to understand the distribution of a dataset, especially for continuous data. It's great for identifying the frequency of different ranges of values within your data.\n"
   ]
  },
  {
   "cell_type": "code",
   "execution_count": null,
   "id": "3cdb7db1",
   "metadata": {},
   "outputs": [],
   "source": [
    "help(px.histogram)"
   ]
  },
  {
   "cell_type": "code",
   "execution_count": null,
   "id": "81f1b2df",
   "metadata": {},
   "outputs": [],
   "source": [
    "# Histogram of life expectancy.\n",
    "\n",
    "fig = px.histogram(df, x='lifeExp', title='Distribution of Life Expectancy')\n",
    "fig.show()"
   ]
  },
  {
   "cell_type": "markdown",
   "id": "e7381750",
   "metadata": {},
   "source": [
    "**Insights**:\n",
    "- **Distribution**:\n",
    "  - Most countries have a life expectancy between 50 and 80 years.\n",
    "  - There are peaks around 60 and 70 years, indicating common ranges of life expectancy.\n",
    "  - Few countries have life expectancy below 50, which could indicate poor health conditions and economic challenges."
   ]
  },
  {
   "cell_type": "code",
   "execution_count": null,
   "id": "f8dae22f",
   "metadata": {},
   "outputs": [],
   "source": [
    "df[df['lifeExp'] < 30]"
   ]
  },
  {
   "cell_type": "code",
   "execution_count": null,
   "id": "9f4a2e91",
   "metadata": {},
   "outputs": [],
   "source": [
    "# Practice Question: Create a histogram showing the distribution of GDP per capita."
   ]
  },
  {
   "cell_type": "markdown",
   "id": "e7fd56a7",
   "metadata": {},
   "source": [
    "### 5. Scatter Plot\n",
    "- **Explanation**: A scatter plot uses dots to represent the values of two different variables. The position of each dot on the horizontal and vertical axis indicates values for an individual data point.\n",
    "- **Best Use**: Use a scatter plot to determine the relationship or correlation between two variables. It's useful for spotting trends, clusters, and outliers.\n"
   ]
  },
  {
   "cell_type": "code",
   "execution_count": null,
   "id": "8e2af5ca",
   "metadata": {},
   "outputs": [],
   "source": [
    "help(px.scatter)"
   ]
  },
  {
   "cell_type": "code",
   "execution_count": null,
   "id": "1dafbddb",
   "metadata": {},
   "outputs": [],
   "source": [
    "# Scatter plot of GDP per capita vs life expectancy.\n",
    "\n",
    "fig = px.scatter(df, x='gdpPercap', y='lifeExp', color='continent', hover_name='country', log_x=True, title='GDP per Capita vs Life Expectancy')\n",
    "fig.show()\n"
   ]
  },
  {
   "cell_type": "code",
   "execution_count": null,
   "id": "b51a18c6",
   "metadata": {},
   "outputs": [],
   "source": [
    "df[['gdpPercap', 'lifeExp']].corr()"
   ]
  },
  {
   "cell_type": "markdown",
   "id": "90597598",
   "metadata": {},
   "source": [
    "**Insights**:\n",
    "- **Correlation**:\n",
    "  - There is a positive correlation between GDP per capita and life expectancy.\n",
    "  - Wealthier countries tend to have higher life expectancy.\n",
    "  - Outliers include countries with high GDP but relatively lower life expectancy and vice versa, indicating factors other than economic wealth impacting health outcomes."
   ]
  },
  {
   "cell_type": "code",
   "execution_count": null,
   "id": "33f09cd9",
   "metadata": {},
   "outputs": [],
   "source": [
    "# Practice Question: Create a scatter plot showing life expectancy vs population, colored by continent."
   ]
  },
  {
   "cell_type": "markdown",
   "id": "f700bd3c",
   "metadata": {},
   "source": [
    "### 6. Box Plot\n",
    "- **Explanation**: A box plot (or box-and-whisker plot) displays the distribution of a dataset based on a five-number summary: minimum, first quartile, median, third quartile, and maximum.\n",
    "- **Best Use**: Use a box plot to understand the spread and skewness of your data. It’s particularly useful for identifying outliers and comparing distributions across multiple groups."
   ]
  },
  {
   "cell_type": "code",
   "execution_count": null,
   "id": "97220920",
   "metadata": {},
   "outputs": [],
   "source": [
    "# Box plot of GDP per capita by continent.\n",
    "\n",
    "fig = px.box(df, x='continent', y='gdpPercap', title='GDP per Capita by Continent')\n",
    "fig.show()"
   ]
  },
  {
   "cell_type": "markdown",
   "id": "3bba9cf6",
   "metadata": {},
   "source": [
    "**Insights**:\n",
    "- **Economic Disparities**:\n",
    "  - **Europe** and **North America** show higher median GDP per capita.\n",
    "  - **Africa** and **Asia** have lower median GDP per capita, but Asia has a wide range, indicating significant economic disparities within the continent.\n",
    "  - **Oceania** shows high GDP per capita with less variation."
   ]
  },
  {
   "cell_type": "markdown",
   "id": "263b5b5f",
   "metadata": {},
   "source": [
    "**More on the boxplot:**\n",
    "- A `box plot` is a way of statistically representing the *distribution* of the data through five main dimensions:\n",
    "\n",
    "*   **Minimum:** The smallest number in the dataset excluding the outliers.\n",
    "*   **First quartile:** Middle number between the `minimum` and the `median`.\n",
    "*   **Second quartile (Median):** Middle number of the (sorted) dataset.\n",
    "*   **Third quartile:** Middle number between `median` and `maximum`.\n",
    "*   **Maximum:** The largest number in the dataset excluding the outliers."
   ]
  },
  {
   "cell_type": "markdown",
   "id": "505aedd7",
   "metadata": {},
   "source": [
    "<img src=\"https://cf-courses-data.s3.us.cloud-object-storage.appdomain.cloud/IBMDeveloperSkillsNetwork-DV0101EN-SkillsNetwork/labs/Module%203/images/boxplot_complete.png\" width=\"440,\" align=\"center\">"
   ]
  },
  {
   "cell_type": "markdown",
   "id": "0605acee",
   "metadata": {},
   "source": [
    "### 7. Pie Chart\n",
    "- **Explanation**: A pie chart is a circular statistical graphic divided into slices to illustrate numerical proportions. Each slice represents a category’s contribution to the whole.\n",
    "- **Best Use**: Use a pie chart to show the proportion of different categories within a whole. It's best for displaying data with a small number of categories that sum up to a meaningful whole, like market share or budget distribution."
   ]
  },
  {
   "cell_type": "code",
   "execution_count": null,
   "id": "7fe2312c",
   "metadata": {},
   "outputs": [],
   "source": [
    "df[df['year'] == 2007]"
   ]
  },
  {
   "cell_type": "code",
   "execution_count": null,
   "id": "8e1a2781",
   "metadata": {},
   "outputs": [],
   "source": [
    "latest_year = df['year'].max()\n",
    "pop_by_continent = df[df['year'] == latest_year].groupby('continent')['pop'].sum().reset_index()\n",
    "pop_by_continent"
   ]
  },
  {
   "cell_type": "code",
   "execution_count": null,
   "id": "f150b59b",
   "metadata": {},
   "outputs": [],
   "source": [
    "# Pie chart showing the proportion of the world population by continent,\n",
    "# i.e the population distribution by continent for a specific year.\n",
    "\n",
    "latest_year = df['year'].max()\n",
    "pop_by_continent = df[df['year'] == latest_year].groupby('continent')['pop'].sum().reset_index()\n",
    "fig = px.pie(pop_by_continent, values='pop', names='continent', title='World Population by Continent')\n",
    "fig.show()"
   ]
  },
  {
   "cell_type": "markdown",
   "id": "b18c8af5",
   "metadata": {},
   "source": [
    "**Insights**:\n",
    "- **Demographic Distribution**:\n",
    "  - **Asia** holds the largest proportion of the world population.\n",
    "  - **Africa** has a significant share, reflecting its growing population.\n",
    "  - **Europe**, **North America**, and **Oceania** have smaller shares."
   ]
  },
  {
   "cell_type": "markdown",
   "id": "e4cf3e74",
   "metadata": {},
   "source": [
    "### 8. Heatmap\n",
    "- **Explanation**: A heatmap is a data visualization technique that shows the magnitude of a phenomenon as color in two dimensions.\n",
    "- **Best Use**: Use a heatmap to visualize the correlation between variables in a dataset. It's excellent for showing relationships between two factors and for spotting patterns, correlations, or anomalies.\n"
   ]
  },
  {
   "cell_type": "code",
   "execution_count": null,
   "id": "b23c0cf3",
   "metadata": {},
   "outputs": [],
   "source": [
    "corr_matrix = df[['gdpPercap', 'lifeExp', 'pop']].corr()\n",
    "\n",
    "corr_matrix"
   ]
  },
  {
   "cell_type": "code",
   "execution_count": null,
   "id": "81fc139a",
   "metadata": {},
   "outputs": [],
   "source": [
    "# Heatmap of the correlation between different variables.\n",
    "\n",
    "corr_matrix = df[['gdpPercap', 'lifeExp', 'pop']].corr()\n",
    "sns.heatmap(corr_matrix, annot=True, cmap='coolwarm')\n",
    "plt.title('Correlation Heatmap')\n",
    "plt.show()"
   ]
  },
  {
   "cell_type": "markdown",
   "id": "15d9500e",
   "metadata": {},
   "source": [
    "**Insights**:\n",
    "- **Correlations**:\n",
    "  - Strong positive correlation between GDP per capita and life expectancy.\n",
    "  - Population shows less correlation with GDP per capita and life expectancy, indicating other factors at play in determining economic wealth and health outcomes.\n"
   ]
  },
  {
   "cell_type": "code",
   "execution_count": null,
   "id": "a2d1e7f1-3e96-48d8-91c3-1ec81f35604a",
   "metadata": {},
   "outputs": [],
   "source": []
  },
  {
   "cell_type": "markdown",
   "id": "4a42073c-e857-43cc-a9db-a72b6d09d569",
   "metadata": {},
   "source": [
    "---\n",
    "_**Your Dataness**_,  \n",
    "`Obinna Oliseneku` (_**Hybraid**_)  \n",
    "**[LinkedIn](https://www.linkedin.com/in/obinnao/)** | **[GitHub](https://github.com/hybraid6)**  "
   ]
  }
 ],
 "metadata": {
  "kernelspec": {
   "display_name": "Python 3 (ipykernel)",
   "language": "python",
   "name": "python3"
  },
  "language_info": {
   "codemirror_mode": {
    "name": "ipython",
    "version": 3
   },
   "file_extension": ".py",
   "mimetype": "text/x-python",
   "name": "python",
   "nbconvert_exporter": "python",
   "pygments_lexer": "ipython3",
   "version": "3.12.7"
  }
 },
 "nbformat": 4,
 "nbformat_minor": 5
}
