{
 "cells": [
  {
   "cell_type": "markdown",
   "id": "be9d3fe7",
   "metadata": {},
   "source": [
    "## Create a program that acts as a basic shopping list manager.\n",
    "\n",
    "**Instructions:**\n",
    "1. Create a dictionary 'shopping_list' that will store item names as keys and their quantities as values.\n",
    "2. Create a function 'add_item' that prompts the user to input an item name and quantity, then adds the item to the shopping list.\n",
    "3. Create a function 'remove_item' that prompts the user to input an item name, then removes the item from the shopping list.\n",
    "4. Create a function 'update_quantity' that prompts the user to input an item name and new quantity, then updates the quantity of the item in the shopping list.\n",
    "5. Create a function 'display_list' that prints all items and their quantities in the shopping list.\n",
    "6. Create a main function 'shopping_list_manager' that does the following:\n",
    "   - Prints a menu with options to add, remove, update, display, or exit.\n",
    "   - Prompts the user to select an option and calls the corresponding function.\n",
    "   - Continues to show the menu until the user chooses to exit."
   ]
  },
  {
   "cell_type": "code",
   "execution_count": null,
   "id": "d1445c5a",
   "metadata": {},
   "outputs": [],
   "source": [
    "x = {}\n",
    "\n",
    "x['one'] = 1\n",
    "\n",
    "x"
   ]
  },
  {
   "cell_type": "code",
   "execution_count": null,
   "id": "bcad58ae",
   "metadata": {},
   "outputs": [],
   "source": [
    "x['two'] = 4\n",
    "\n",
    "x"
   ]
  },
  {
   "cell_type": "code",
   "execution_count": null,
   "id": "4bb92009",
   "metadata": {},
   "outputs": [],
   "source": [
    "y = {}"
   ]
  },
  {
   "cell_type": "code",
   "execution_count": null,
   "id": "a4209d44",
   "metadata": {},
   "outputs": [],
   "source": [
    "if y:\n",
    "    print('x has something')"
   ]
  },
  {
   "cell_type": "code",
   "execution_count": null,
   "id": "b626ee8b",
   "metadata": {},
   "outputs": [],
   "source": [
    "del x['one']\n",
    "\n",
    "x"
   ]
  },
  {
   "cell_type": "code",
   "execution_count": null,
   "id": "ee215ef2",
   "metadata": {},
   "outputs": [],
   "source": [
    "def add_item(shopping_list):\n",
    "    item = input('Enter item name: ')\n",
    "    quantity = int(input(f'How many {item}s do you want? '))\n",
    "    shopping_list[item] = quantity\n",
    "    \n",
    "def remove_item(shopping_list):\n",
    "    item = input('Enter the name of item to be removed')\n",
    "    if item in shopping_list:\n",
    "        del shopping_list[item]\n",
    "    else:\n",
    "        print('Item not in shopping list')\n",
    "    \n",
    "    \n",
    "\n",
    "def update_quantity(shopping_list):\n",
    "    item = input('Enter item name: ')\n",
    "    quantity = int(input('What is the new quantity?'))\n",
    "    if item in shopping_list:\n",
    "        shopping_list[item] = quantity\n",
    "    else:\n",
    "        print('Item not in shopping list')\n",
    "        \n",
    "        \n",
    "def display_list(shopping_list):\n",
    "    if shopping_list:\n",
    "        for item, quantity in shopping_list.items():\n",
    "            print (item, quantity)\n",
    "    else:\n",
    "        print('shopping list is empty')\n",
    "    "
   ]
  },
  {
   "cell_type": "code",
   "execution_count": null,
   "id": "3eff4127",
   "metadata": {},
   "outputs": [],
   "source": [
    "def shopping_list_manager():\n",
    "    shopping_list = {}\n",
    "    \n",
    "    while True:\n",
    "        print(\"menu\")\n",
    "        print(\"1. Add item\")\n",
    "        print(\"2. Remove item\")\n",
    "        print(\"3. Update quantity\")\n",
    "        print(\"4. Display list\")\n",
    "        print(\"5. Exit\")\n",
    "        \n",
    "        choice = input(\"Choose an option from the menu: \")\n",
    "        \n",
    "        \n",
    "        if choice == '1':\n",
    "            add_item(shopping_list)\n",
    "            \n",
    "        if choice == '2':\n",
    "            remove_item(shopping_list)\n",
    "        \n",
    "        if choice == '3':\n",
    "            update_quantity(shopping_list)\n",
    "            \n",
    "        if choice == '4':\n",
    "            display_list(shopping_list)\n",
    "            \n",
    "        elif choice == '5':\n",
    "            print(\"Closing the shopping list manager\")\n",
    "            break\n",
    "            \n",
    "        else:\n",
    "            print('Please enter a valid option.')\n",
    "        "
   ]
  },
  {
   "cell_type": "code",
   "execution_count": null,
   "id": "f2901d28",
   "metadata": {},
   "outputs": [],
   "source": [
    "shopping_list_manager()"
   ]
  },
  {
   "cell_type": "code",
   "execution_count": null,
   "id": "fe775d23",
   "metadata": {},
   "outputs": [],
   "source": []
  },
  {
   "cell_type": "markdown",
   "id": "30bd6196",
   "metadata": {},
   "source": [
    "---\n",
    "_**Your Dataness**_,  \n",
    "`Obinna Oliseneku` (_**Hybraid**_)  \n",
    "**[LinkedIn](https://www.linkedin.com/in/obinnao/)** | **[GitHub](https://github.com/hybraid6)**  "
   ]
  }
 ],
 "metadata": {
  "kernelspec": {
   "display_name": "Python 3 (ipykernel)",
   "language": "python",
   "name": "python3"
  },
  "language_info": {
   "codemirror_mode": {
    "name": "ipython",
    "version": 3
   },
   "file_extension": ".py",
   "mimetype": "text/x-python",
   "name": "python",
   "nbconvert_exporter": "python",
   "pygments_lexer": "ipython3",
   "version": "3.10.9"
  }
 },
 "nbformat": 4,
 "nbformat_minor": 5
}
