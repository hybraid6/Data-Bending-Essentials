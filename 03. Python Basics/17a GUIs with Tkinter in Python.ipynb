{
 "cells": [
  {
   "cell_type": "markdown",
   "id": "0bcbface",
   "metadata": {},
   "source": [
    "# Creating Stunning GUIs with Tkinter\n",
    "\n",
    "\n",
    "\n",
    "- Tkinter is the standard Python interface to the Tk GUI toolkit.\n",
    "- It is included with the standard Python distribution, so you don't need to install anything extra.\n",
    "- Tkinter allows you to create graphical user interfaces (GUIs) with widgets like buttons, labels, and text boxes.\n"
   ]
  },
  {
   "cell_type": "markdown",
   "id": "bd5e3dd9",
   "metadata": {},
   "source": [
    "## Intro"
   ]
  },
  {
   "cell_type": "markdown",
   "id": "e53c2909",
   "metadata": {},
   "source": [
    "##### To start working with the Python GUI Tkinter module, the initial step is to import it :"
   ]
  },
  {
   "cell_type": "code",
   "execution_count": 2,
   "id": "c58a6ad6",
   "metadata": {},
   "outputs": [],
   "source": [
    "import tkinter as tk"
   ]
  },
  {
   "cell_type": "markdown",
   "id": "5a85398c",
   "metadata": {},
   "source": [
    "##### A window is an instance of Tkinter’s “Tk class”. Go ahead and create a new window and assign it to the variable “window”:"
   ]
  },
  {
   "cell_type": "code",
   "execution_count": null,
   "id": "a1a60ebc",
   "metadata": {},
   "outputs": [],
   "source": [
    "window = tk.Tk()"
   ]
  },
  {
   "cell_type": "code",
   "execution_count": null,
   "id": "2ab586c9",
   "metadata": {},
   "outputs": [],
   "source": [
    "# Execute the following to display your Tkinter in a new window\n",
    "window.mainloop()"
   ]
  },
  {
   "cell_type": "markdown",
   "id": "45deba27",
   "metadata": {},
   "source": [
    "- The command window.mainloop() initiates the Tkinter event loop, which listens for events like button clicks or keypresses. \n",
    "- It blocks any code that follows it from running until the window is closed. \n",
    "- Once you close the window, you can continue with the rest of your program."
   ]
  },
  {
   "cell_type": "markdown",
   "id": "ab6ffae5",
   "metadata": {},
   "source": [
    "##### Adding a Widget\n",
    "- We can add some functionalities by incorporating a widget. \n",
    "- The tk.Label class is a great starting point for displaying text in a window."
   ]
  },
  {
   "cell_type": "code",
   "execution_count": null,
   "id": "d600aae6",
   "metadata": {},
   "outputs": [],
   "source": [
    "# Simply create a Label widget with the text \"Hello, Tkinter\" and assign it to the variable greeting\n",
    "greeting = tk.Label(text=\"Hello, Tkinter\")"
   ]
  },
  {
   "cell_type": "markdown",
   "id": "95a07935",
   "metadata": {},
   "source": [
    "- The previously created window remains unchanged. \n",
    "- Although you have created a Label widget, it has not yet been added to the window. \n",
    "- To add widgets to a window, there are various methods available. \n",
    "- Currently, you can use the .pack() method of the Label widget."
   ]
  },
  {
   "cell_type": "code",
   "execution_count": null,
   "id": "75ac506f",
   "metadata": {},
   "outputs": [],
   "source": [
    "greeting.pack()"
   ]
  },
  {
   "cell_type": "markdown",
   "id": "e6981091",
   "metadata": {},
   "source": [
    "- When you pack a widget into a window, Tkinter sizes the window as small as it can be while still fully encompassing the widget."
   ]
  },
  {
   "cell_type": "code",
   "execution_count": null,
   "id": "a7d8e2bd",
   "metadata": {},
   "outputs": [],
   "source": [
    "# Execute the following to display your Tkinter in a new window\n",
    "window.mainloop()"
   ]
  },
  {
   "cell_type": "markdown",
   "id": "e53c0faf",
   "metadata": {},
   "source": [
    "- Here's an example Python script that demonstrates how to create a Tkinter window and add text to it. The text in this example is \"Gomycode\"\n"
   ]
  },
  {
   "cell_type": "code",
   "execution_count": null,
   "id": "6c5e4bd5",
   "metadata": {},
   "outputs": [],
   "source": [
    "# Create the main application window\n",
    "window = tk.Tk()\n",
    "\n",
    "# Create a label widget with the text \"Gomycode\"\n",
    "label = tk.Label(text=\"Gomycode\")\n",
    "\n",
    "# Use the pack() geometry manager to add the label to the window\n",
    "label.pack()\n",
    "\n",
    "# Start the main event loop to run the application\n",
    "window.mainloop()"
   ]
  },
  {
   "cell_type": "markdown",
   "id": "546063e6",
   "metadata": {},
   "source": [
    "### Working With Widgets\n",
    "- Tkinter's widgets are essential components of GUI development in Python. \n",
    "- They serve as the interface between users and programs. \n",
    "- These widgets are represented by various classes in Tkinter. "
   ]
  },
  {
   "cell_type": "markdown",
   "id": "c13ff443",
   "metadata": {},
   "source": [
    "##### Here are some examples of available widgets:\n",
    "\n",
    "| Widget Class | Description                                             |\n",
    "|--------------|---------------------------------------------------------|\n",
    "| Label        | A widget used to display text on the screen             |\n",
    "| Button       | A button that can contain text and can perform an action when clicked |\n",
    "| Entry        | A text entry widget that allows only a single line of text |\n",
    "| Text         | A text entry widget that allows multiline text entry    |\n",
    "| Frame        | A rectangular region used to group related widgets or provide padding between widgets |\n",
    "\n",
    "\n",
    "##### Note that there are more widgets available in Tkinter. Waaaay more.\n"
   ]
  },
  {
   "cell_type": "markdown",
   "id": "e22adf8e",
   "metadata": {},
   "source": [
    "### Displaying Text and Images With Label Widgets\n",
    "- Label widgets are used to display non-editable text or images and can be created by instantiating the Label class and passing a string to the text parameter\n"
   ]
  },
  {
   "cell_type": "markdown",
   "id": "80a94abb",
   "metadata": {},
   "source": [
    "- The default system text color and background color are used by Label widgets to display text, which are usually black and white, respectively, but may vary depending on the user's operating system settings.\n",
    "\n",
    "- However, you can control Label text and background colors using the foreground and background parameters like in the following\n"
   ]
  },
  {
   "cell_type": "code",
   "execution_count": null,
   "id": "9bee9e36",
   "metadata": {},
   "outputs": [],
   "source": [
    "label = tk.Label(\n",
    "    text=\"Hello, Tkinter\",\n",
    "    foreground=\"white\",  # Set the text color to white\n",
    "    background=\"black\"  # Set the background color to black\n",
    ")\n",
    "\n",
    "label.pack() # Add the new labels to the window\n",
    "window.mainloop() # Display the window"
   ]
  },
  {
   "cell_type": "markdown",
   "id": "1aaf2612",
   "metadata": {},
   "source": [
    "- You can also control the width and height of a label with the width and height parameters as in the following:"
   ]
  },
  {
   "cell_type": "code",
   "execution_count": null,
   "id": "deff887b",
   "metadata": {},
   "outputs": [],
   "source": [
    "label = tk.Label(\n",
    "    text=\"Hello, Tkinter\",\n",
    "    fg=\"white\",\n",
    "    bg=\"black\",\n",
    "    width=10,\n",
    "    height=10\n",
    "    #font=(\"Helvetica\", 20, \"bold\", \"underline\")\n",
    ")\n",
    "\n",
    "label.pack() # Add the new labels to the window\n",
    "window.mainloop() # Display the window"
   ]
  },
  {
   "cell_type": "markdown",
   "id": "84b0ef0c",
   "metadata": {},
   "source": [
    "### Displaying Clickable Buttons With Button Widgets \n",
    "- Button widgets allow for clickable buttons that can call a function upon being clicked.\n",
    "- They can be created and styled similarly to Label widgets using keyword arguments such as background color, text color, width, and height.\n"
   ]
  },
  {
   "cell_type": "code",
   "execution_count": null,
   "id": "842501d0",
   "metadata": {},
   "outputs": [],
   "source": [
    " # Create a button with text \"Click Me\" with custom size and colour\n",
    "button = tk.Button(\n",
    "    text=\"Click me!\",\n",
    "    width=25,\n",
    "    height=5,\n",
    "    bg=\"orange\",\n",
    "    fg=\"white\",\n",
    ")\n",
    "\n",
    "button.pack() # Add the new button to the window\n",
    "window.mainloop() # Display the window"
   ]
  },
  {
   "cell_type": "markdown",
   "id": "ec878253",
   "metadata": {},
   "source": [
    "### Adjusting Frame Appearance With Reliefs\n",
    "A Frame widget's relief attribute, which can be changed as desired with the following functions, can be used to create a border around it.\n",
    "\n",
    "- `tk.FLAT`: Has no border effect (the default value)\n",
    "- `tk.SUNKEN`: Creates a sunken effect\n",
    "- `tk.RAISED`: Creates a raised effect\n",
    "- `tk.GROOVE`: Creates a grooved border effect\n",
    "- `tk.RIDGE`: Creates a ridged effect\n",
    "\n",
    "- The borderwidth attribute, which establishes the border's width in pixels, must be set to a value greater than 1 in order to produce the border effect. "
   ]
  },
  {
   "cell_type": "markdown",
   "id": "9dc23bdf",
   "metadata": {},
   "source": [
    "For instance, a script could be used to fit five Frame widgets, each with a different relief value, into a window :"
   ]
  },
  {
   "cell_type": "code",
   "execution_count": null,
   "id": "ffddb7b9",
   "metadata": {},
   "outputs": [],
   "source": [
    "# Define a dictionary that maps string values to relief attributes\n",
    "border_effects = {\n",
    "    \"flat\": tk.FLAT,\n",
    "    \"sunken\": tk.SUNKEN,\n",
    "    \"raised\": tk.RAISED,\n",
    "    \"groove\": tk.GROOVE,\n",
    "    \"ridge\": tk.RIDGE,\n",
    "}\n",
    "# Create a Tkinter window\n",
    "window = tk.Tk()\n",
    "# Loop through each item in the border_effects dictionary\n",
    "for relief_name, relief in border_effects.items():\n",
    "    \n",
    "    # Create a new frame widget with the specified relief and border width\n",
    "    frame = tk.Frame(master=window, relief=relief, borderwidth=5)\n",
    "    #  The master=window parameter specifies that the Frame widget's parent is the main application window.\n",
    "    \n",
    "    # Pack the frame widget onto the left side of the window\n",
    "    frame.pack(side=tk.LEFT)\n",
    "    \n",
    "    # Create a new label widget within the frame, displaying the relief name\n",
    "    label = tk.Label(master=frame, text=relief_name)\n",
    "    # master=frame ensures that the Label widget is a child of the Frame widget that was created in the previous step\n",
    "    # Pack the label widget within the frame\n",
    "    label.pack()\n",
    "# Enter the Tkinter main event loop\n",
    "window.mainloop()"
   ]
  },
  {
   "cell_type": "markdown",
   "id": "68fb18a8",
   "metadata": {},
   "source": [
    "### Examples: Build a GUI Apps Using Tkinter"
   ]
  },
  {
   "cell_type": "markdown",
   "id": "0dadf271",
   "metadata": {},
   "source": [
    "##### 1"
   ]
  },
  {
   "cell_type": "code",
   "execution_count": null,
   "id": "1d0d531c",
   "metadata": {},
   "outputs": [],
   "source": [
    "'''\n",
    "A simple Python program that uses the tkinter library to create a window with a text entry field. \n",
    "The entry field is customized to have a white background and black text, and it has a width of 40 characters. \n",
    "The program also inserts the string \"What is your name?\" into the entry field as a default prompt for the user. \n",
    "'''\n",
    "\n",
    "# Create the main application window\n",
    "window = tk.Tk()\n",
    "\n",
    "# Create an entry widget with a specified width of 40 characters\n",
    "entry = tk.Entry(width=40)\n",
    "# Pack the entry widget into the window, making it visible\n",
    "entry.pack()\n",
    "\n",
    "# Insert a default text at the beginning (position 0) of the entry widget\n",
    "entry.insert(0, \"What is your name?\")\n",
    "\n",
    "# Start the main event loop to keep the window open\n",
    "window.mainloop()\n"
   ]
  },
  {
   "cell_type": "markdown",
   "id": "e6f5ca64",
   "metadata": {},
   "source": [
    "##### 2"
   ]
  },
  {
   "cell_type": "code",
   "execution_count": null,
   "id": "7fa0e9e1",
   "metadata": {},
   "outputs": [],
   "source": [
    "from tkinter import messagebox\n",
    "\n",
    "def build_gui_app():\n",
    "    \"\"\"\n",
    "    Builds a simple GUI application using Tkinter.\n",
    "\n",
    "    This function creates a Tkinter window with a title \"Simple GUI App\". \n",
    "    It adds a label displaying the text \"Hello, Tkinter!\" and a button labeled \n",
    "    \"Click Me\". When the button is clicked, a message box with the message \n",
    "    \"Button Clicked!\" is displayed. The function then starts the Tkinter main \n",
    "    event loop to keep the window open.\n",
    "    \"\"\"\n",
    "    # Create the main application window\n",
    "    root = tk.Tk()  # Initialize the Tkinter window\n",
    "    root.title(\"Simple GUI App\")  # Set the title of the window\n",
    "\n",
    "    # Create a label widget\n",
    "    label = tk.Label(root, text=\"Hello, Tkinter!\")  # Create a label with text\n",
    "    label.pack()  # Add the label to the window\n",
    "\n",
    "    # Create a button widget\n",
    "    button = tk.Button(root, text=\"Click Me\", command=lambda: messagebox.showinfo(\"Info\", \"Button Clicked!\"))\n",
    "    # Create a button with text \"Click Me\". When the button is clicked, show a message box with the text \"Button Clicked!\"\n",
    "    button.pack()  # Add the button to the window\n",
    "\n",
    "    # Start the main event loop\n",
    "    root.mainloop()  # Start the Tkinter event loop (this keeps the window open)\n",
    "\n",
    "# Run the GUI application\n",
    "build_gui_app()  # Call the function to build and run the GUI application"
   ]
  },
  {
   "cell_type": "code",
   "execution_count": null,
   "id": "96ab58b7",
   "metadata": {},
   "outputs": [],
   "source": [
    "# Practice Questions:\n",
    "# 1. Write a Tkinter application that displays a window with a label that says \"Welcome to Tkinter\".\n",
    "# 2. Add a button to the application that shows a message box when clicked."
   ]
  },
  {
   "cell_type": "markdown",
   "id": "b6dcad38",
   "metadata": {},
   "source": [
    "##### 3 A Tkinter app containng several widgets"
   ]
  },
  {
   "cell_type": "code",
   "execution_count": null,
   "id": "2d38d851",
   "metadata": {},
   "outputs": [],
   "source": [
    "# Tkinter provides various widgets such as buttons, labels, text boxes, etc.\n",
    "# Example: Creating and arranging widgets in a Tkinter application\n",
    "\n",
    "def create_widgets():\n",
    "    root = tk.Tk()  # Initialize the main application window\n",
    "    root.title(\"Widgets Example\")  # Set the title of the window\n",
    "\n",
    "    # Label widget\n",
    "    label = tk.Label(root, text=\"This is a label\")  # Create a label with text\n",
    "    label.pack()  # Add the label to the window\n",
    "\n",
    "    # Button widget\n",
    "    button = tk.Button(root, text=\"Click Me\", command=lambda: messagebox.showinfo(\"Info\", \"Button Clicked!\"))\n",
    "    # Create a button with text \"Click Me\". When the button is clicked, show a message box with the text \"Button Clicked!\"\n",
    "    button.pack()  # Add the button to the window\n",
    "\n",
    "    # Entry widget (text box)\n",
    "    entry = tk.Entry(root)  # Create an entry widget (single-line text box)\n",
    "    entry.pack()  # Add the entry widget to the window\n",
    "\n",
    "    # Text widget (multi-line text box)\n",
    "    text = tk.Text(root, height=5, width=40)  # Create a text widget (multi-line text box) with specified height and width\n",
    "    text.pack()  # Add the text widget to the window\n",
    "\n",
    "    root.mainloop()  # Start the Tkinter main event loop (this keeps the window open and responsive)\n",
    "\n",
    "# Run the widget example\n",
    "create_widgets()  # Call the function to create and display the widgets\n"
   ]
  },
  {
   "cell_type": "markdown",
   "id": "a52ba895",
   "metadata": {},
   "source": [
    "### Controlling Layout With Geometry Managers\n",
    "\n",
    "- **Tkinter provides geometry managers to control the layout of widgets:**\n",
    "- pack: Packs widgets into the window in order.\n",
    "- grid: Places widgets in a grid layout.\n",
    "- place: Places widgets at an absolute position."
   ]
  },
  {
   "cell_type": "markdown",
   "id": "c5613de8",
   "metadata": {},
   "source": [
    "##### Example: Making an address entry form using Tkinter"
   ]
  },
  {
   "cell_type": "code",
   "execution_count": null,
   "id": "88991a41",
   "metadata": {},
   "outputs": [],
   "source": [
    "# Create a new window with the title \"Address Entry Form\"\n",
    "window = tk.Tk()\n",
    "window.title(\"Address Entry Form\")\n",
    "\n",
    "# Create a new frame `frm_form` to contain the Label\n",
    "# and Entry widgets for entering address information\n",
    "frm_form = tk.Frame(relief=tk.SUNKEN, borderwidth=3)\n",
    "\n",
    "# Pack the frame into the window\n",
    "frm_form.pack()\n",
    "\n",
    "# List of field labels\n",
    "labels = [\n",
    "    \"First Name:\",\n",
    "    \"Last Name:\",\n",
    "    \"Address Line 1:\",\n",
    "    \"Address Line 2:\",\n",
    "    \"City:\",\n",
    "    \"State/Province:\",\n",
    "    \"Postal Code:\",\n",
    "    \"Country:\",\n",
    "]\n",
    "\n",
    "# Loop over the list of field labels\n",
    "for idx, text in enumerate(labels):\n",
    "    # Create a Label widget with the text from the labels list\n",
    "    label = tk.Label(master=frm_form, text=text)\n",
    "    # Create an Entry widget\n",
    "    entry = tk.Entry(master=frm_form, width=50)\n",
    "    # Use the grid geometry manager to place the Label and\n",
    "    # Entry widgets in the row whose index is idx\n",
    "    label.grid(row=idx, column=0, sticky=\"e\")\n",
    "    entry.grid(row=idx, column=1)\n",
    "\n",
    "# Create a new frame `frm_buttons` to contain the\n",
    "# Submit and Clear buttons. This frame fills the\n",
    "# whole window in the horizontal direction and has\n",
    "# 5 pixels of horizontal and vertical padding.\n",
    "frm_buttons = tk.Frame()\n",
    "frm_buttons.pack(fill=tk.X, ipadx=5, ipady=5)\n",
    "\n",
    "# Create the \"Submit\" button and pack it to the\n",
    "# right side of `frm_buttons`\n",
    "btn_submit = tk.Button(master=frm_buttons, text=\"Submit\")\n",
    "btn_submit.pack(side=tk.RIGHT, padx=10, ipadx=10)\n",
    "\n",
    "# Create the \"Clear\" button and pack it to the\n",
    "# right side of `frm_buttons`\n",
    "btn_clear = tk.Button(master=frm_buttons, text=\"Clear\")\n",
    "btn_clear.pack(side=tk.RIGHT, ipadx=10)\n",
    "\n",
    "# Start the application\n",
    "window.mainloop()"
   ]
  },
  {
   "cell_type": "markdown",
   "id": "522ceb65",
   "metadata": {},
   "source": [
    "##### Example: Using pack geometry manager"
   ]
  },
  {
   "cell_type": "code",
   "execution_count": null,
   "id": "d027dc6f",
   "metadata": {},
   "outputs": [],
   "source": [
    "def pack_layout_example():\n",
    "    root = tk.Tk()  # Initialize the main application window\n",
    "    root.title(\"Pack Layout\")  # Set the title of the window\n",
    "\n",
    "    # Create the first label with a red background and white text\n",
    "    label1 = tk.Label(root, text=\"Label 1\", bg=\"red\", fg=\"white\")\n",
    "    label1.pack(fill=tk.BOTH, expand=True)  # Use pack layout to fill both horizontally and vertically, and allow it to expand\n",
    "\n",
    "    # Create the second label with a green background and white text\n",
    "    label2 = tk.Label(root, text=\"Label 2\", bg=\"green\", fg=\"white\")\n",
    "    label2.pack(fill=tk.BOTH, expand=True)  # Use pack layout to fill both horizontally and vertically, and allow it to expand\n",
    "\n",
    "    # Create the third label with a blue background and white text\n",
    "    label3 = tk.Label(root, text=\"Label 3\", bg=\"blue\", fg=\"white\")\n",
    "    label3.pack(fill=tk.BOTH, expand=True)  # Use pack layout to fill both horizontally and vertically, and allow it to expand\n",
    "\n",
    "    root.mainloop()  # Start the Tkinter main event loop (this keeps the window open and responsive)\n",
    "\n",
    "# Run the pack layout example\n",
    "pack_layout_example()  # Call the function to create and display the GUI with the pack layout manager\n"
   ]
  },
  {
   "cell_type": "markdown",
   "id": "ff879c9e",
   "metadata": {},
   "source": [
    "##### Example: Using grid geometry manager"
   ]
  },
  {
   "cell_type": "code",
   "execution_count": null,
   "id": "5a545517",
   "metadata": {},
   "outputs": [],
   "source": [
    "# Function to demonstrate the grid layout manager in Tkinter\n",
    "def grid_layout_example():\n",
    "    root = tk.Tk()  # Initialize the main application window\n",
    "    root.title(\"Grid Layout\")  # Set the title of the window\n",
    "\n",
    "    # Create a 3x3 grid of labels\n",
    "    for i in range(3):  # Loop through the rows (0 to 2)\n",
    "        for j in range(3):  # Loop through the columns (0 to 2)\n",
    "            # Create a label with text indicating its row and column\n",
    "            label = tk.Label(root, text=f\"Row {i+1}, Col {j+1}\", borderwidth=1, relief=\"solid\")\n",
    "            # Use the grid layout manager to place the label in the correct row and column\n",
    "            label.grid(row=i, column=j, padx=5, pady=5)\n",
    "\n",
    "    root.mainloop()  # Start the Tkinter main event loop (this keeps the window open and responsive)\n",
    "\n",
    "# Run the grid layout example\n",
    "grid_layout_example()  # Call the function to create and display the GUI with the grid layout manager\n"
   ]
  },
  {
   "cell_type": "markdown",
   "id": "d96aedbf",
   "metadata": {},
   "source": [
    "##### Example: Using place geometry manager"
   ]
  },
  {
   "cell_type": "code",
   "execution_count": null,
   "id": "007c8777",
   "metadata": {},
   "outputs": [],
   "source": [
    "# Function to demonstrate the place layout manager in Tkinter\n",
    "def place_layout_example():\n",
    "    root = tk.Tk()  # Initialize the main application window\n",
    "    root.title(\"Place Layout\")  # Set the title of the window\n",
    "\n",
    "    # Create the first label with specified background and foreground colors\n",
    "    label1 = tk.Label(root, text=\"Label 1\", bg=\"red\", fg=\"white\")\n",
    "    # Use the place layout manager to position the label at (x=20, y=20) with a width of 100 and height of 50\n",
    "    label1.place(x=20, y=20, width=100, height=50)\n",
    "\n",
    "    # Create the second label with specified background and foreground colors\n",
    "    label2 = tk.Label(root, text=\"Label 2\", bg=\"green\", fg=\"white\")\n",
    "    # Use the place layout manager to position the label at (x=150, y=20) with a width of 100 and height of 50\n",
    "    label2.place(x=150, y=20, width=100, height=50)\n",
    "\n",
    "    # Create the third label with specified background and foreground colors\n",
    "    label3 = tk.Label(root, text=\"Label 3\", bg=\"blue\", fg=\"white\")\n",
    "    # Use the place layout manager to position the label at (x=280, y=20) with a width of 100 and height of 50\n",
    "    label3.place(x=280, y=20, width=100, height=50)\n",
    "\n",
    "    root.mainloop()  # Start the Tkinter main event loop (this keeps the window open and responsive)\n",
    "\n",
    "# Run the place layout example\n",
    "place_layout_example()  # Call the function to create and display the GUI using the place layout manager\n"
   ]
  },
  {
   "cell_type": "code",
   "execution_count": null,
   "id": "5d476eb6",
   "metadata": {},
   "outputs": [],
   "source": [
    "# Practice Questions:\n",
    "# 1. Create a Tkinter application using the pack geometry manager to arrange three labels vertically.\n",
    "# 2. Create a Tkinter application using the grid geometry manager to create a 3x3 grid of labels.\n",
    "# 3. Create a Tkinter application using the place geometry manager to position three labels at specific coordinates."
   ]
  },
  {
   "cell_type": "markdown",
   "id": "9088c866",
   "metadata": {},
   "source": [
    "### Making Your Applications Interactive\n",
    "- Interactivity in Tkinter applications can be achieved by binding events to widgets."
   ]
  },
  {
   "cell_type": "markdown",
   "id": "68ab5463",
   "metadata": {},
   "source": [
    "##### Example: Making a die simulator using Tkinter"
   ]
  },
  {
   "cell_type": "code",
   "execution_count": null,
   "id": "56de3a44",
   "metadata": {},
   "outputs": [],
   "source": [
    "import random  # Import the random module to generate random numbers\n",
    "\n",
    "def roll():\n",
    "    '''\n",
    "    A function to simulate the roll of a six-sided die.\n",
    "    When called, it generates a random integer between 1 and 6\n",
    "    and updates the text of lbl_result with the result.\n",
    "    '''\n",
    "    lbl_result[\"text\"] = str(random.randint(1, 6))  # Set the text of lbl_result to a random number between 1 and 6\n",
    "\n",
    "# Create the main application window\n",
    "window = tk.Tk()\n",
    "window.title(\"Dice Roller\")\n",
    "\n",
    "\n",
    "window.columnconfigure(0, minsize=150)  # Configure column 0 with a minimum size of 150 pixels\n",
    "window.rowconfigure([0, 1], minsize=50)  # Configure rows 0 and 1 with a minimum size of 50 pixels\n",
    "\n",
    "# Create a button widget labeled \"Roll\" that calls the roll function when clicked\n",
    "btn_roll = tk.Button(text=\"Roll\", command=roll)\n",
    "# Create a label widget to display the result of the dice roll\n",
    "lbl_result = tk.Label()\n",
    "\n",
    "# Use the grid geometry manager to place the button and label in the window\n",
    "btn_roll.grid(row=0, column=0, sticky=\"nsew\")  # Place the button in row 0, column 0, and make it expand to fill the cell\n",
    "lbl_result.grid(row=1, column=0)  # Place the label in row 1, column 0\n",
    "\n",
    "# Start the main event loop\n",
    "window.mainloop()"
   ]
  },
  {
   "cell_type": "markdown",
   "id": "24b0e29d",
   "metadata": {},
   "source": [
    "#### Example: Miles to Km and Km to Miles converter"
   ]
  },
  {
   "cell_type": "code",
   "execution_count": 3,
   "id": "17a6eea2",
   "metadata": {},
   "outputs": [],
   "source": [
    "# Import the ttk module for better styling of widgets.\n",
    "from tkinter import ttk\n",
    "\n",
    "# Function to convert miles to kilometers\n",
    "def miles_to_km():\n",
    "    try:\n",
    "        miles = float(entry.get())\n",
    "        km = miles * 1.60934\n",
    "        result_label.config(text=f\"{km:.2f} Km\")\n",
    "        # .config() is used to change the configuration options of the widget. \n",
    "        # In this case, it updates the text displayed by the label.\n",
    "        # :.2f is a format specifier that formats the number to 2 decimal places.\n",
    "        # So, if miles is 1.23456, the resulting string will be \"1.23 Miles\".\n",
    "    except ValueError:\n",
    "        result_label.config(text=\"Invalid input\")\n",
    "\n",
    "# Function to convert kilometers to miles\n",
    "def km_to_miles():\n",
    "    try:\n",
    "        km = float(entry.get())\n",
    "        miles = km / 1.60934\n",
    "        result_label.config(text=f\"{miles:.2f} Miles\")\n",
    "    except ValueError:\n",
    "        result_label.config(text=\"Invalid input\")\n",
    "\n",
    "# Create the main window\n",
    "window = tk.Tk()\n",
    "window.title(\"Miles to Km Converter\")\n",
    "window.geometry(\"300x150\")  # Set the size of the window\n",
    "\n",
    "# Create an entry widget for user input\n",
    "entry = tk.Entry(window, width=10)\n",
    "entry.grid(row=0, column=1, padx=10, pady=10)\n",
    "\n",
    "# Create labels\n",
    "entry_label = tk.Label(window, text=\"Enter value:\")\n",
    "entry_label.grid(row=0, column=0, padx=10, pady=10)\n",
    "\n",
    "result_label = tk.Label(window, text=\"\")\n",
    "result_label.grid(row=1, column=1, padx=10, pady=10)\n",
    "\n",
    "# Create buttons\n",
    "miles_to_km_button = ttk.Button(window, text=\"Miles to Km\", command=miles_to_km)\n",
    "miles_to_km_button.grid(row=2, column=0, padx=10, pady=10)\n",
    "\n",
    "km_to_miles_button = ttk.Button(window, text=\"Km to Miles\", command=km_to_miles)\n",
    "km_to_miles_button.grid(row=2, column=1, padx=10, pady=10)\n",
    "\n",
    "# Start the Tkinter event loop\n",
    "window.mainloop()"
   ]
  },
  {
   "cell_type": "code",
   "execution_count": null,
   "id": "f8f139e5",
   "metadata": {},
   "outputs": [],
   "source": [
    "### Practice\n",
    "\n",
    "# 1. Add other functionalities like:\n",
    "#  - KG to lb, tonnes and vice versa (find the formula yourself)\n",
    "\n",
    "# 2. Make the background orange and the buttons green"
   ]
  },
  {
   "cell_type": "code",
   "execution_count": null,
   "id": "9c9cf75c-482f-4735-8f34-f7c2cc3cae7b",
   "metadata": {},
   "outputs": [],
   "source": []
  },
  {
   "cell_type": "markdown",
   "id": "27c625c4-b485-493b-91a4-08abb0652935",
   "metadata": {},
   "source": [
    "---\n",
    "_**Your Dataness**_,  \n",
    "`Obinna Oliseneku` (_**Hybraid**_)  \n",
    "**[LinkedIn](https://www.linkedin.com/in/obinnao/)** | **[GitHub](https://github.com/hybraid6)**  "
   ]
  }
 ],
 "metadata": {
  "kernelspec": {
   "display_name": "Python 3 (ipykernel)",
   "language": "python",
   "name": "python3"
  },
  "language_info": {
   "codemirror_mode": {
    "name": "ipython",
    "version": 3
   },
   "file_extension": ".py",
   "mimetype": "text/x-python",
   "name": "python",
   "nbconvert_exporter": "python",
   "pygments_lexer": "ipython3",
   "version": "3.12.7"
  }
 },
 "nbformat": 4,
 "nbformat_minor": 5
}
