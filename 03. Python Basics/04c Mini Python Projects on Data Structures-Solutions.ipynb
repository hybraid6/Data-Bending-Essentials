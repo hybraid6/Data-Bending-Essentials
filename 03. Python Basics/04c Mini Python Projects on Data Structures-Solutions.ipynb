{
 "cells": [
  {
   "cell_type": "markdown",
   "id": "9338dda9",
   "metadata": {},
   "source": [
    "### Question 1\n",
    "Write a Python program that adds all the items in a list.\n",
    "\n",
    "Sample list = [1, 2, 3, 4, 5]\n",
    "\n",
    "*Result = 15*"
   ]
  },
  {
   "cell_type": "code",
   "execution_count": null,
   "id": "773a288f",
   "metadata": {},
   "outputs": [],
   "source": [
    "Sample_list = [1, 2, 3, 4, 5]\n",
    "\n",
    "total = 0\n",
    "for list in Sample_list:\n",
    "    total += list\n",
    "\n",
    "print(total)"
   ]
  },
  {
   "cell_type": "code",
   "execution_count": null,
   "id": "13c8ea85",
   "metadata": {},
   "outputs": [],
   "source": [
    "total = sum(Sample_list)\n",
    "total"
   ]
  },
  {
   "cell_type": "markdown",
   "id": "36c1194a",
   "metadata": {},
   "source": [
    "### Question 2\n",
    "Write a Python program to get a list, sorted in decreasing order by the 2nd element in each tuple, from a given list of non-empty tuples.\n",
    "\n",
    "Sample List:[(2, 5, 2), (1, 2, 1), (4, 4, 4), (2, 3, 2), (2, 1, 2)]\n",
    "\n",
    "Expected result: [(2, 5, 2), (4, 4, 4), (2, 3, 2), (1, 2, 1), (2, 1, 2)]"
   ]
  },
  {
   "cell_type": "code",
   "execution_count": null,
   "id": "3f285146",
   "metadata": {},
   "outputs": [],
   "source": [
    "Sample_list2 = [(2, 5, 2), (1, 2, 1), (4, 4, 4), (2, 3, 2), (2, 1, 2)]\n",
    "\n",
    "sorted(Sample_list2, key = lambda x: x[1], reverse = True)"
   ]
  },
  {
   "cell_type": "markdown",
   "id": "ff462414",
   "metadata": {},
   "source": [
    "### Question 3\n",
    "Write a Python program that merges two dictionaries by taking the maximum value for common keys.\n",
    "\n",
    "d1 = {'a': 100, 'b': 200, 'c': 300}\n",
    "\n",
    "d2 = {'a': 300, 'b': 100, 'd': 400}"
   ]
  },
  {
   "cell_type": "code",
   "execution_count": null,
   "id": "f0c7b55c",
   "metadata": {},
   "outputs": [],
   "source": [
    "d1['a'] = 5\n",
    "\n",
    "d1"
   ]
  },
  {
   "cell_type": "code",
   "execution_count": null,
   "id": "6c7a75cd",
   "metadata": {},
   "outputs": [],
   "source": [
    "d1 = {'a': 100, 'b': 200, 'c': 300}\n",
    "\n",
    "d2 = {'a': 300, 'b': 100, 'd': 400}\n",
    "\n",
    "for key, value in d2.items():\n",
    "    if key in d1:\n",
    "        d1[key] = max(value, d1[key])\n",
    "    else:\n",
    "        d1[key] = value\n",
    "\n",
    "d1"
   ]
  },
  {
   "cell_type": "markdown",
   "id": "74e58fcd",
   "metadata": {},
   "source": [
    "### Question 4\n",
    "With a given integer number `n`, write a program to generate a dictionary that contains (i, i\\*i\\*i) such that `i` is an integer number between 1 and `n` (both included). Then the program should print the dictionary. Suppose the following input is supplied to the program: 5. Then, the output should be: {1: 1, 2: 8, 3: 27, 4: 64, 5: 125}\n"
   ]
  },
  {
   "cell_type": "code",
   "execution_count": null,
   "id": "7ad20b43",
   "metadata": {},
   "outputs": [],
   "source": [
    "n = 5\n",
    "d3 = {i: i**3 for i in range(1, n+1)}\n",
    "\n",
    "d3"
   ]
  },
  {
   "cell_type": "markdown",
   "id": "1a1bfa32",
   "metadata": {},
   "source": [
    "### Question 5\n",
    "Write a program to sort a list of dictionaries by a key.\n",
    "\n",
    "For example: list = [{'name': 'item1', 'price': '12.20'}, {'name': 'item2', 'price': '15.10'}, {'name': 'item3', 'price': '24.5'}]\n",
    "\n",
    "Expected result: [{'name': 'item3', 'price': '24.5'}, {'name': 'item2', 'price': '15.10'}, {'name': 'item1', 'price': '12.20'}]"
   ]
  },
  {
   "cell_type": "code",
   "execution_count": null,
   "id": "f8821c9f",
   "metadata": {},
   "outputs": [],
   "source": [
    "sample_list3 = [{'name': 'item1', 'price': '12.20'}, {'name': 'item2', 'price': '15.10'}, {'name': 'item3', 'price': '24.5'}]\n",
    "\n",
    "sorted(sample_list3, key = lambda x: x['price'], reverse = True)"
   ]
  },
  {
   "cell_type": "markdown",
   "id": "339d7239",
   "metadata": {},
   "source": [
    "### Question 6\n",
    "Write a Python program to create a dictionary from two lists.\n",
    "\n",
    "Examples:\n",
    "```\n",
    "keys = ['a', 'b', 'c']\n",
    "values = [1, 2, 3]\n",
    "# Expected result: {'a': 1, 'b': 2, 'c': 3}\n",
    "```\n",
    "\n",
    "\n",
    "- Then, Write a Python program to iterate over a dictionary.\n",
    "\n",
    "- Write a Python program to add a key-value pair to a dictionary and remove a key from the dictionary."
   ]
  },
  {
   "cell_type": "code",
   "execution_count": null,
   "id": "c502e301",
   "metadata": {},
   "outputs": [],
   "source": [
    "keys = ['a', 'b', 'c']\n",
    "values = [1, 2, 3]\n",
    "\n",
    "d4 = dict(zip(keys, values))\n",
    "\n",
    "d4"
   ]
  },
  {
   "cell_type": "code",
   "execution_count": null,
   "id": "c032eb8b",
   "metadata": {},
   "outputs": [],
   "source": [
    "d5 = {}\n",
    "j = 0\n",
    "for i in keys:\n",
    "    d5[i] = values[j]\n",
    "    j += 1\n",
    "    print(d5)\n"
   ]
  },
  {
   "cell_type": "markdown",
   "id": "450be5b9",
   "metadata": {},
   "source": [
    "### Explanations\n",
    "\n",
    "### Solution for Question 1\n",
    "```\n",
    "sample_list = [1, 2, 3, 4, 5]\n",
    "result = sum(sample_list)\n",
    "print(\"Result =\", result)\n",
    "```\n",
    "**Explanation**:\n",
    "- We start with a sample list `[1, 2, 3, 4, 5]`.\n",
    "- The `sum()` function calculates the sum of all elements in the list.\n",
    "- The result, which is `15`, is printed.\n",
    "\n",
    "**using a for loop**\n",
    "```\n",
    "add = 0\n",
    "for i in samp_list:\n",
    "    add += i # add = add + i\n",
    "    print(add)\n",
    "```\n",
    "### Solution for Question 2\n",
    "```\n",
    " samp_list2 = [(2, 5, 2), (1, 2, 1), (4, 4, 4), (2, 3, 2), (2, 1, 2)]\n",
    "sorted_list = sorted(samp_list2, key = lambda x: x[1], reverse = True)\n",
    "print(\"Expected result:\", sorted_list)\n",
    "```\n",
    "**Explanation**:\n",
    "- We start with a sample list of tuples `[(2, 5, 2), (1, 2, 1), (4, 4, 4), (2, 3, 2), (2, 1, 2)]`\n",
    "- The `sorted()` function sorts the list by the second element of each tuple in descending order using a lambda function.\n",
    "- The sorted list, `[(2, 5, 2), (1, 2, 1), (4, 4, 4), (2, 3, 2), (2, 1, 2)]`, is printed.\n",
    "\n",
    "### Solution for Question 3\n",
    "```\n",
    "d1 = {'a': 100, 'b': 200, 'c': 300}\n",
    "d2 = {'a': 300, 'b': 100, 'd': 400}\n",
    "\n",
    "merged_dict = d1.copy()\n",
    "for key, value in d2.items():\n",
    "    if key in merged_dict:\n",
    "        merged_dict[key] = max(merged_dict[key], value)\n",
    "    else:\n",
    "        merged_dict[key] = value\n",
    "\n",
    "print(\"Expected result:\", merged_dict)\n",
    "```\n",
    "**Explanation**:\n",
    "- We start with two dictionaries `d1` and `d2`.\n",
    "- We create a copy of `d1` called `merged_dict`.\n",
    "- We loop through each key-value pair in `d2`. If the key exists in `merged_dict`, we set the value to the maximum of the two values. If the key does not exist, we add the new key-value pair.\n",
    "- The merged dictionary, `{'a': 300, 'b': 200, 'c': 300, 'd': 400}`, is printed.\n",
    "\n",
    "### Solution for Question 4\n",
    "```\n",
    "n = 5\n",
    "result = {i: i*i*i for i in range(1, n+1)}\n",
    "print(result)\n",
    "```\n",
    "**Explanation**:\n",
    "- We start with the given integer `n = 5`.\n",
    "- We use a dictionary comprehension to create a dictionary where each key `i` (from 1 to `n`) maps to `i*i*i`.\n",
    "- The resulting dictionary, `{1: 1, 2: 8, 3: 27, 4: 64, 5: 125}`, is printed.\n",
    "\n",
    "### Solution for Question 5\n",
    "```\n",
    "list_of_dicts = [{'name': 'item1', 'price': '12.20'}, {'name': 'item2', 'price': '15.10'}, {'name': 'item3', 'price': '24.5'}]\n",
    "sorted_list = sorted(list_of_dicts, key=lambda x: float(x['price']), reverse=True)\n",
    "print(\"Expected result:\", sorted_list)\n",
    "```\n",
    "**Explanation**:\n",
    "- We start with a sample list of dictionaries.\n",
    "- The `sorted()` function sorts the list by the float value of the 'price' key in each dictionary in descending order using a lambda function.\n",
    "- The sorted list, ` [{'name': 'item3', 'price': '24.5'}, {'name': 'item2', 'price': '15.10'}, {'name': 'item1', 'price': '12.20'}]`, is printed.\n",
    "\n",
    "### Solution for Question 6\n",
    "```\n",
    "# Creating a dictionary from two lists\n",
    "keys = ['a', 'b', 'c']\n",
    "values = [1, 2, 3]\n",
    "dictionary = dict(zip(keys, values))\n",
    "print(\"Expected result:\", dictionary)\n",
    "\n",
    "\n",
    "# Using a for loop\n",
    "j = 0\n",
    "for i in keys:\n",
    "    new_dict[i] = values[j]\n",
    "    j+=1\n",
    "\n",
    "new_dict\n",
    "\n",
    "\n",
    "# Iterating over a dictionary\n",
    "for key, value in dictionary.items():\n",
    "    print(f\"Key: {key}, Value: {value}\")\n",
    "\n",
    "# Adding and removing key-value pairs\n",
    "dictionary['d'] = 4\n",
    "print(\"After adding:\", dictionary)\n",
    "del dictionary['b']\n",
    "print(\"After removing:\", dictionary)\n",
    "```\n",
    "**Explanation**:\n",
    "- **Creating a dictionary from two lists**: We use the `zip()` function to pair elements from `keys` and `values`, and `dict()` to create a dictionary. The resulting dictionary, `{'a': 1, 'b': 2, 'c': 3}`, is printed.\n",
    "- **Iterating over a dictionary**: We loop through the dictionary items and print each key-value pair.\n",
    "- **Adding and removing key-value pairs**: We add a new key-value pair `'d': 4` to the dictionary and print the updated dictionary. Then, we remove the key `'b'` from the dictionary and print the updated dictionary."
   ]
  },
  {
   "cell_type": "markdown",
   "id": "ca8c38a6",
   "metadata": {},
   "source": [
    "---\n",
    "_**Your Dataness**_,  \n",
    "`Obinna Oliseneku` (_**Hybraid**_)  \n",
    "**[LinkedIn](https://www.linkedin.com/in/obinnao/)** | **[GitHub](https://github.com/hybraid6)**  "
   ]
  }
 ],
 "metadata": {
  "kernelspec": {
   "display_name": "Python 3 (ipykernel)",
   "language": "python",
   "name": "python3"
  },
  "language_info": {
   "codemirror_mode": {
    "name": "ipython",
    "version": 3
   },
   "file_extension": ".py",
   "mimetype": "text/x-python",
   "name": "python",
   "nbconvert_exporter": "python",
   "pygments_lexer": "ipython3",
   "version": "3.10.9"
  }
 },
 "nbformat": 4,
 "nbformat_minor": 5
}
