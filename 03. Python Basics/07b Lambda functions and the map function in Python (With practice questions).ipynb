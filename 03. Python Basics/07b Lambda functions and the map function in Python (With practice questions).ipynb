{
 "cells": [
  {
   "cell_type": "markdown",
   "id": "23fafb27",
   "metadata": {},
   "source": [
    "## Lambda Function\n",
    "\n",
    "- A lambda function is a small, anonymous function defined using the 'lambda' keyword.\n",
    "- Lambda functions can have any number of parameters but only one expression.\n",
    "- The expression is evaluated and returned when the function is called.\n",
    "\n",
    "Syntax: `lambda argument(s): expression `"
   ]
  },
  {
   "cell_type": "code",
   "execution_count": null,
   "id": "3f19d05c",
   "metadata": {
    "scrolled": true
   },
   "outputs": [],
   "source": [
    "# Example of a lambda function\n",
    "square = lambda x: x ** 2\n",
    "print(square(5))  # Output: 25"
   ]
  },
  {
   "cell_type": "code",
   "execution_count": null,
   "id": "fb8b72dc",
   "metadata": {
    "scrolled": true
   },
   "outputs": [],
   "source": [
    "# Lambda function with multiple parameters\n",
    "add = lambda a, b: a + b\n",
    "print(add(3, 5))  # Output: 8"
   ]
  },
  {
   "cell_type": "code",
   "execution_count": null,
   "id": "7a1a2fa4",
   "metadata": {},
   "outputs": [],
   "source": [
    "# Practice Questions:\n",
    "# 1. Define a lambda function that multiplies two numbers.\n",
    "# 2. Use the lambda function to multiply different pairs of numbers and print the result."
   ]
  },
  {
   "cell_type": "markdown",
   "id": "1173c5db",
   "metadata": {},
   "source": [
    "## The map() Function\n",
    "\n",
    "- The map() function applies a given function to all items in an input list (or any iterable) and returns a map object (an iterator).\n",
    "\n",
    "Syntax: `map(function, iterable)`"
   ]
  },
  {
   "cell_type": "code",
   "execution_count": null,
   "id": "11b42778",
   "metadata": {},
   "outputs": [],
   "source": [
    "# Example of the map() function with a regular function\n",
    "def square(x):\n",
    "    return x ** 2\n",
    "\n",
    "numbers = [1, 2, 3, 4, 5]\n",
    "squares = map(square, numbers)"
   ]
  },
  {
   "cell_type": "code",
   "execution_count": null,
   "id": "1ba50b13",
   "metadata": {},
   "outputs": [],
   "source": [
    "# Converting the map object to a list\n",
    "squares_list = list(squares)\n",
    "print(squares_list)  # Output: [1, 4, 9, 16, 25]"
   ]
  },
  {
   "cell_type": "code",
   "execution_count": null,
   "id": "000b9759",
   "metadata": {},
   "outputs": [],
   "source": [
    "# Example of the map() function with a lambda function\n",
    "numbers = [1, 2, 3, 4, 5]\n",
    "squares = map(lambda x: x ** 2, numbers)"
   ]
  },
  {
   "cell_type": "code",
   "execution_count": null,
   "id": "929ed5ab",
   "metadata": {},
   "outputs": [],
   "source": [
    "# Converting the map object to a list\n",
    "squares_list = list(squares)\n",
    "print(squares_list)  # Output: [1, 4, 9, 16, 25]"
   ]
  },
  {
   "cell_type": "code",
   "execution_count": null,
   "id": "bc7ebced",
   "metadata": {},
   "outputs": [],
   "source": [
    "# Practice Questions:\n",
    "# 1. Use the map() function to apply a lambda function that adds 10 to each element in a list of numbers.\n",
    "# 2. Convert the map object to a list and print the result."
   ]
  },
  {
   "cell_type": "markdown",
   "id": "2392e5f2",
   "metadata": {},
   "source": [
    "#### Combining Lambda Functions and the map() Function"
   ]
  },
  {
   "cell_type": "code",
   "execution_count": null,
   "id": "052e3b7d",
   "metadata": {},
   "outputs": [],
   "source": [
    "# Example of combining lambda functions and the map() function\n",
    "def apply_operation(operation, numbers):\n",
    "    return list(map(operation, numbers))"
   ]
  },
  {
   "cell_type": "code",
   "execution_count": null,
   "id": "2ba49770",
   "metadata": {},
   "outputs": [],
   "source": [
    "# Using the function with a lambda function\n",
    "result = apply_operation(lambda x: x * 2, [1, 2, 3, 4, 5])\n",
    "print(result)  # Output: [2, 4, 6, 8, 10]"
   ]
  },
  {
   "cell_type": "code",
   "execution_count": null,
   "id": "2b9c79bc",
   "metadata": {},
   "outputs": [],
   "source": [
    "# Practice Questions:\n",
    "# 1. Define a function named 'apply_operation' that takes a function and a list of numbers, \n",
    "# and returns the result of applying the function to each number.\n",
    "# 2. Use the 'apply_operation' function with a lambda function that subtracts 1 from each element in a list of numbers."
   ]
  },
  {
   "cell_type": "markdown",
   "id": "d5b0a0d9",
   "metadata": {},
   "source": [
    "#### Complete Example Combining All Concepts"
   ]
  },
  {
   "cell_type": "code",
   "execution_count": null,
   "id": "c4eea1db",
   "metadata": {},
   "outputs": [],
   "source": [
    "# Example: Processing a list of numbers with different operations\n",
    "numbers = [1, 2, 3, 4, 5]"
   ]
  },
  {
   "cell_type": "code",
   "execution_count": null,
   "id": "fe061523",
   "metadata": {},
   "outputs": [],
   "source": [
    "# Doubling each number\n",
    "doubled = list(map(lambda x: x * 2, numbers))\n",
    "print(\"Doubled:\", doubled)  # Output: Doubled: [2, 4, 6, 8, 10]"
   ]
  },
  {
   "cell_type": "code",
   "execution_count": null,
   "id": "8d352964",
   "metadata": {},
   "outputs": [],
   "source": [
    "# Squaring each number\n",
    "squared = list(map(lambda x: x ** 2, numbers))\n",
    "print(\"Squared:\", squared)  # Output: Squared: [1, 4, 9, 16, 25]"
   ]
  },
  {
   "cell_type": "code",
   "execution_count": null,
   "id": "0c9a13c4",
   "metadata": {},
   "outputs": [],
   "source": [
    "# Adding 5 to each number\n",
    "add_five = list(map(lambda x: x + 5, numbers))\n",
    "print(\"Add Five:\", add_five)  # Output: Add Five: [6, 7, 8, 9, 10]"
   ]
  },
  {
   "cell_type": "code",
   "execution_count": null,
   "id": "733a78f5",
   "metadata": {},
   "outputs": [],
   "source": [
    "# Practice Questions:\n",
    "# 1. Create a list of numbers from 10 to 20. Use the map() function with a lambda function to divide each number by 2.\n",
    "# 2. Convert the map object to a list and print the result.\n",
    "# 3. Use the map() function with a lambda function to check if each number in the list is even (return True or False). Convert the map object to a list and print the result."
   ]
  },
  {
   "cell_type": "code",
   "execution_count": null,
   "id": "44b95ebd",
   "metadata": {},
   "outputs": [],
   "source": []
  }
 ],
 "metadata": {
  "kernelspec": {
   "display_name": "Python 3 (ipykernel)",
   "language": "python",
   "name": "python3"
  },
  "language_info": {
   "codemirror_mode": {
    "name": "ipython",
    "version": 3
   },
   "file_extension": ".py",
   "mimetype": "text/x-python",
   "name": "python",
   "nbconvert_exporter": "python",
   "pygments_lexer": "ipython3",
   "version": "3.10.9"
  }
 },
 "nbformat": 4,
 "nbformat_minor": 5
}
