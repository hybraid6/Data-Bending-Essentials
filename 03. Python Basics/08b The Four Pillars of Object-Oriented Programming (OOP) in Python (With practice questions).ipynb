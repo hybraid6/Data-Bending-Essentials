{
 "cells": [
  {
   "cell_type": "markdown",
   "id": "76112808",
   "metadata": {},
   "source": [
    "# Four Pillars of OOP\n",
    "\n",
    "The four main principles of Object-Oriented Programming are:\n",
    "    \n",
    "1. Encapsulation\n",
    "2. Abstraction\n",
    "3. Inheritance\n",
    "4. Polymorphism"
   ]
  },
  {
   "cell_type": "markdown",
   "id": "7a1628a4",
   "metadata": {},
   "source": [
    "# Encapsulation\n",
    "\n",
    "- Encapsulation is the principle of bundling data (attributes) and methods (functions) that operate on the data into a single unit or class.\n",
    "- It restricts direct access to some of the object's components, which is a way of preventing accidental interference and misuse of the data.\n",
    "- This is typically done using private or protected access modifiers."
   ]
  },
  {
   "cell_type": "code",
   "execution_count": null,
   "id": "a6159409",
   "metadata": {},
   "outputs": [],
   "source": [
    "class BankAccount:\n",
    "    def __init__(self, account_number, balance):\n",
    "        self.account_number = account_number  # Public attribute\n",
    "        self.__balance = balance  # Private attribute\n",
    "\n",
    "    def deposit(self, amount):\n",
    "        if amount > 0:\n",
    "            self.__balance += amount\n",
    "\n",
    "    def withdraw(self, amount):\n",
    "        if 0 < amount <= self.__balance:\n",
    "            self.__balance -= amount\n",
    "\n",
    "    def get_balance(self):\n",
    "        return self.__balance"
   ]
  },
  {
   "cell_type": "code",
   "execution_count": null,
   "id": "efe37f1a",
   "metadata": {},
   "outputs": [],
   "source": [
    "account = BankAccount(\"123456789\", 1000)"
   ]
  },
  {
   "cell_type": "code",
   "execution_count": null,
   "id": "40457130",
   "metadata": {},
   "outputs": [],
   "source": [
    "account.deposit(5000)\n",
    "account.get_balance()"
   ]
  },
  {
   "cell_type": "code",
   "execution_count": null,
   "id": "3f5d5ea5",
   "metadata": {},
   "outputs": [],
   "source": [
    "account.account_number"
   ]
  },
  {
   "cell_type": "code",
   "execution_count": null,
   "id": "88b7b079",
   "metadata": {
    "scrolled": true
   },
   "outputs": [],
   "source": [
    "# Creating an object of BankAccount\n",
    "account = BankAccount(\"123456789\", 1000)\n",
    "account.deposit(500)\n",
    "account.withdraw(200)\n",
    "print(account.get_balance())  # Output: 1300"
   ]
  },
  {
   "cell_type": "markdown",
   "id": "615efdf7",
   "metadata": {},
   "source": [
    "### Practice Questions:\n",
    "1. Define a class named 'Person' with private attributes 'name' and 'age'. Create methods to set and get the values of these attributes."
   ]
  },
  {
   "cell_type": "code",
   "execution_count": null,
   "id": "9a12cc64",
   "metadata": {},
   "outputs": [],
   "source": []
  },
  {
   "cell_type": "markdown",
   "id": "e03d752f",
   "metadata": {},
   "source": [
    "### Abstraction\n",
    "\n",
    "- Abstraction is the concept of hiding the complex implementation details and showing only the necessary features of an object.\n",
    "- It is achieved using abstract classes and interfaces."
   ]
  },
  {
   "cell_type": "code",
   "execution_count": null,
   "id": "c0fd8fa4",
   "metadata": {},
   "outputs": [],
   "source": [
    "from abc import ABC, abstractmethod\n",
    "\n",
    "class Shape(ABC):\n",
    "    @abstractmethod\n",
    "    def area(self):\n",
    "        pass\n",
    "\n",
    "    @abstractmethod\n",
    "    def perimeter(self):\n",
    "        pass\n",
    "\n",
    "class Rectangle(Shape):\n",
    "    def __init__(self, width, height):\n",
    "        self.width = width\n",
    "        self.height = height\n",
    "\n",
    "    def area(self):\n",
    "        return self.width * self.height\n",
    "\n",
    "    def perimeter(self):\n",
    "        return 2 * (self.width + self.height)"
   ]
  },
  {
   "cell_type": "code",
   "execution_count": null,
   "id": "028f1f79",
   "metadata": {},
   "outputs": [],
   "source": [
    "# Creating an object of Rectangle\n",
    "rect = Rectangle(5, 10)\n",
    "print(\"Area:\", rect.area())  # Output: Area: 50\n",
    "print(\"Perimeter:\", rect.perimeter())  # Output: Perimeter: 30"
   ]
  },
  {
   "cell_type": "markdown",
   "id": "85699fb0",
   "metadata": {},
   "source": [
    "### Practice Questions:\n",
    "1. Define an abstract class named 'Vehicle' with abstract methods 'start' and 'stop'.\n",
    "2. Create a derived class 'Car' that implements the 'Vehicle' abstract class and defines the 'start' and 'stop' methods."
   ]
  },
  {
   "cell_type": "markdown",
   "id": "df4cf4b4",
   "metadata": {},
   "source": [
    "### Inheritance\n",
    "\n",
    "- Inheritance is a mechanism where one class (child class) inherits the attributes and methods of another class (parent class).\n",
    "- It allows code reusability and establishes a relationship between classes."
   ]
  },
  {
   "cell_type": "code",
   "execution_count": null,
   "id": "d4d5e16c",
   "metadata": {},
   "outputs": [],
   "source": [
    "class Animal:\n",
    "    def __init__(self, name):\n",
    "        self.name = name\n",
    "\n",
    "    def speak(self):\n",
    "        raise NotImplementedError(\"Subclass must implement abstract method\")\n",
    "\n",
    "class Dog(Animal):\n",
    "    def speak(self):\n",
    "        return \"Woof!\"\n",
    "\n",
    "class Cat(Animal):\n",
    "    def speak(self):\n",
    "        return \"Meow!\""
   ]
  },
  {
   "cell_type": "code",
   "execution_count": null,
   "id": "a053d8f4",
   "metadata": {},
   "outputs": [],
   "source": [
    "# Creating objects of Dog and Cat\n",
    "dog = Dog(\"Buddy\")\n",
    "cat = Cat(\"Whiskers\")\n",
    "\n",
    "print(dog.name + \" says \" + dog.speak())  # Output: Buddy says Woof!\n",
    "print(cat.name + \" says \" + cat.speak())  # Output: Whiskers says Meow!"
   ]
  },
  {
   "cell_type": "code",
   "execution_count": null,
   "id": "bfab9790",
   "metadata": {},
   "outputs": [],
   "source": [
    "# Practice Questions:\n",
    "# 1. Define a base class 'Employee' with attributes 'name' and 'salary'. Create a derived class 'Manager' that inherits from 'Employee' and adds an attribute 'department'.\n",
    "# 2. Create objects of 'Employee' and 'Manager' and print their details."
   ]
  },
  {
   "cell_type": "markdown",
   "id": "0f80bfa9",
   "metadata": {},
   "source": [
    "### Polymorphism\n",
    "\n",
    "- Polymorphism means \"many forms\". It allows methods to do different things based on the object it is acting upon.\n",
    "- It can be achieved using method overriding and method overloading (though Python does not support method overloading directly)."
   ]
  },
  {
   "cell_type": "code",
   "execution_count": null,
   "id": "ae0cb7fa",
   "metadata": {},
   "outputs": [],
   "source": [
    "class Bird:\n",
    "    def __init__(self, name):\n",
    "        self.name = name\n",
    "\n",
    "    def fly(self):\n",
    "        return \"Flying\"\n",
    "\n",
    "class Sparrow(Bird):\n",
    "    def fly(self):\n",
    "        return \"Sparrow flies at medium speed\"\n",
    "\n",
    "class Eagle(Bird):\n",
    "    def fly(self):\n",
    "        return \"Eagle flies at high speed\""
   ]
  },
  {
   "cell_type": "code",
   "execution_count": null,
   "id": "f9252f40",
   "metadata": {},
   "outputs": [],
   "source": [
    "# Using polymorphism\n",
    "birds = [Sparrow(\"Jack\"), Eagle(\"Baldy\")]\n",
    "\n",
    "for bird in birds:\n",
    "    print(bird.name + \": \" + bird.fly())"
   ]
  },
  {
   "cell_type": "code",
   "execution_count": null,
   "id": "3ee3e0c4",
   "metadata": {},
   "outputs": [],
   "source": [
    "bird2 = Sparrow('mike')"
   ]
  },
  {
   "cell_type": "code",
   "execution_count": null,
   "id": "0626e15b",
   "metadata": {},
   "outputs": [],
   "source": [
    "bird2.name"
   ]
  },
  {
   "cell_type": "code",
   "execution_count": null,
   "id": "96a8fbb4",
   "metadata": {},
   "outputs": [],
   "source": [
    "# Practice Questions:\n",
    "# 1. Define a base class 'Shape' with a method 'draw'. Create derived classes 'Circle' and 'Square' that override the 'draw' method.\n",
    "# 2. Create a list of shape objects and use a loop to call the 'draw' method on each object."
   ]
  },
  {
   "cell_type": "markdown",
   "id": "32a2a434",
   "metadata": {},
   "source": [
    "### Complete Example Combining All Four Pillars"
   ]
  },
  {
   "cell_type": "code",
   "execution_count": null,
   "id": "c361b014",
   "metadata": {},
   "outputs": [],
   "source": [
    "class Vehicle(ABC):\n",
    "    def __init__(self, make, model):\n",
    "        self.make = make\n",
    "        self.model = model\n",
    "\n",
    "    @abstractmethod\n",
    "    def start(self):\n",
    "        pass\n",
    "\n",
    "    @abstractmethod\n",
    "    def stop(self):\n",
    "        pass\n",
    "\n",
    "class Car(Vehicle):\n",
    "    def __init__(self, make, model, doors):\n",
    "        super().__init__(make, model)\n",
    "        self.doors = doors\n",
    "\n",
    "    def start(self):\n",
    "        return f\"{self.make} {self.model} with {self.doors} doors starts.\"\n",
    "\n",
    "    def stop(self):\n",
    "        return f\"{self.make} {self.model} with {self.doors} doors stops.\"\n",
    "\n",
    "class Motorcycle(Vehicle):\n",
    "    def __init__(self, make, model, type):\n",
    "        super().__init__(make, model)\n",
    "        self.type = type\n",
    "\n",
    "    def start(self):\n",
    "        return f\"{self.make} {self.model} {self.type} starts.\"\n",
    "\n",
    "    def stop(self):\n",
    "        return f\"{self.make} {self.model} {self.type} stops.\""
   ]
  },
  {
   "cell_type": "code",
   "execution_count": null,
   "id": "1d2a0476",
   "metadata": {},
   "outputs": [],
   "source": [
    "# Creating objects of Car and Motorcycle\n",
    "car = Car(\"Toyota\", \"Camry\", 4)\n",
    "motorcycle = Motorcycle(\"Harley-Davidson\", \"Sportster\", \"Cruiser\")\n",
    "\n",
    "vehicles = [car, motorcycle]\n",
    "\n",
    "for vehicle in vehicles:\n",
    "    print(vehicle.start())\n",
    "    print(vehicle.stop())"
   ]
  },
  {
   "cell_type": "markdown",
   "id": "6857f239",
   "metadata": {},
   "source": [
    "### Practice Questions:\n",
    "1. Create a base class `Appliance` with abstract methods `turn_on` and `turn_off`. Create derived classes `WashingMachine` and `Refrigerator` that implement these methods.\n",
    "2. Instantiate objects of `WashingMachine` and `Refrigerator` and demonstrate polymorphism by calling their methods through a common interface."
   ]
  },
  {
   "cell_type": "markdown",
   "id": "c860900f",
   "metadata": {},
   "source": [
    "---\n",
    "_**Your Dataness**_,  \n",
    "`Obinna Oliseneku` (_**Hybraid**_)  \n",
    "**[LinkedIn](https://www.linkedin.com/in/obinnao/)** | **[GitHub](https://github.com/hybraid6)**  "
   ]
  }
 ],
 "metadata": {
  "kernelspec": {
   "display_name": "Python 3 (ipykernel)",
   "language": "python",
   "name": "python3"
  },
  "language_info": {
   "codemirror_mode": {
    "name": "ipython",
    "version": 3
   },
   "file_extension": ".py",
   "mimetype": "text/x-python",
   "name": "python",
   "nbconvert_exporter": "python",
   "pygments_lexer": "ipython3",
   "version": "3.10.9"
  }
 },
 "nbformat": 4,
 "nbformat_minor": 5
}
