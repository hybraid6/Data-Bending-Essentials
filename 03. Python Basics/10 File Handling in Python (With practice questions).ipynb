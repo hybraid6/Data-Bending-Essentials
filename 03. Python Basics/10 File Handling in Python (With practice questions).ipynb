{
 "cells": [
  {
   "cell_type": "markdown",
   "id": "bd59421b",
   "metadata": {},
   "source": [
    "# File Handling in Python"
   ]
  },
  {
   "cell_type": "markdown",
   "id": "d3a9116d",
   "metadata": {},
   "source": [
    "### Some common terms"
   ]
  },
  {
   "cell_type": "markdown",
   "id": "46bed93a",
   "metadata": {},
   "source": [
    "#### Text and Binary Files\n",
    "- Python is skilled in handling two types of files: text and binary (Python only handles these two types of files.). \n",
    "\n",
    "- Text files are a versatile file format that can store various types of data, including text, numbers, boolean values, and even images.\n",
    "- Binary files are a versatile file format used to store various types of data in a binary format. Unlike text files, which store data as human-readable text, binary files store data as a sequence of bytes."
   ]
  },
  {
   "cell_type": "markdown",
   "id": "d84bce16",
   "metadata": {},
   "source": [
    "#### File vs File Object\n",
    "- A file is a document or a piece of information that can be created, modified and stored by a user or an operating system. In Python, a file can be either text or binary. In this course, we will only work with text files.\n",
    "\n",
    "- A file object is a python object that holds data imported from a file. To use a file in our program, we first need to import it and convert it into a file object. Once it is a file object, we can modify it as needed."
   ]
  },
  {
   "cell_type": "markdown",
   "id": "ea7d341c",
   "metadata": {},
   "source": [
    "#### Reading vs Parsing\n",
    "- The goal of reading a file is to transfer its content into the computer's memory (RAM) while working in Python. After reading the file, the data will be stored in a python file object.\n",
    "\n",
    "- Parsing is about understanding the purpose of the python object. It is like looking at a photocopied image and trying to understand what's in it and give meaning to different parts of it."
   ]
  },
  {
   "cell_type": "markdown",
   "id": "66d97f5e",
   "metadata": {},
   "source": [
    "#### Plain Text Files and Flat Files\n",
    "- Both contain non-formatted text. \n",
    "- A plain text file stores each data value on a separate line. \n",
    "- A flat file, on the other hand, uses a separator such as a comma, tab, or semicolon to separate the values. This creates a structured table-like format that is easier for machines to read and understand.\n",
    "- The most common type of flat file is a CSV (Comma Separated Values) file."
   ]
  },
  {
   "cell_type": "markdown",
   "id": "b6225884",
   "metadata": {},
   "source": [
    "### File Handling\n",
    "\n",
    "- Python provides several functions to handle files, such as open(), read(), write(), and close().\n",
    "\n",
    "- Files are used to store data permanently. Python provides built-in functions to work with files."
   ]
  },
  {
   "cell_type": "markdown",
   "id": "a3de28cd",
   "metadata": {},
   "source": [
    "### Part 1: Creating and Writing to a File"
   ]
  },
  {
   "cell_type": "markdown",
   "id": "2b056900",
   "metadata": {},
   "source": [
    "#### Specify the file path"
   ]
  },
  {
   "cell_type": "code",
   "execution_count": null,
   "id": "ddfe2023",
   "metadata": {},
   "outputs": [],
   "source": [
    "file_path = 'example.txt'"
   ]
  },
  {
   "cell_type": "markdown",
   "id": "18030c38",
   "metadata": {},
   "source": [
    "### Python File Open\n",
    "\n",
    "- The open() function is used to open a file. It returns a file object that can be used to read or write the file.\n",
    "- Syntax: `open(file_path, mode)`\n"
   ]
  },
  {
   "cell_type": "markdown",
   "id": "ba555fb2",
   "metadata": {},
   "source": [
    "### File Modes\n",
    "\n",
    "- **'r' - Read (default)**\n",
    "  - Opens a file for reading only. If the file does not exist, an error occurs.\n",
    "  - This is the default mode when you open a file without specifying any mode.\n",
    "  - Example: `open('example.txt', 'r')`\n",
    "\n",
    "- **'w' - Write**\n",
    "  - Opens a file for writing. If the file does not exist, it creates a new file. If the file exists, it truncates (clears) the file to zero length, effectively erasing its contents.\n",
    "  - Useful when you want to create a new file or overwrite an existing file.\n",
    "  - Example: `open('example.txt', 'w')`\n",
    "\n",
    "- **'a' - Append**\n",
    "  - Opens a file for writing. If the file does not exist, it creates a new file. If the file exists, the file pointer is at the end of the file, and new data will be written at the end of the file, preserving the existing content.\n",
    "  - Useful for adding new data to an existing file without deleting the current content.\n",
    "  - Example: `open('example.txt', 'a')`\n",
    "\n",
    "- **'b' - Binary mode**\n",
    "  - Opens the file in binary mode. This mode should be used when dealing with binary files (such as images, videos, and other non-text files).\n",
    "  - When used, it can be combined with other modes (e.g., 'rb' for reading a binary file, 'wb' for writing a binary file).\n",
    "  - Example: `open('example.bin', 'rb')`\n",
    "\n",
    "- **'t' - Text mode (default)**\n",
    "  - Opens the file in text mode. This mode should be used for text files. It is the default mode, so you don't need to explicitly specify it.\n",
    "  - When used, it can be combined with other modes (e.g., 'rt' for reading a text file, 'wt' for writing a text file).\n",
    "  - Example: `open('example.txt', 'rt')`"
   ]
  },
  {
   "cell_type": "markdown",
   "id": "3382f6af",
   "metadata": {},
   "source": [
    "#### Open the file in write mode ('w') and write some text"
   ]
  },
  {
   "cell_type": "markdown",
   "id": "1f1330f9",
   "metadata": {},
   "source": [
    "### Python Write/Create Files\n",
    "\n",
    "- The write() method writes content to a file. If the file doesn't exist, it creates a new file."
   ]
  },
  {
   "cell_type": "code",
   "execution_count": null,
   "id": "6db5386b",
   "metadata": {},
   "outputs": [],
   "source": [
    "with open(file_path, 'w') as file:\n",
    "    file.write(\"Hello, this is a sample text file.\")\n",
    "    file.write(\"It contains multiple lines of text.\")\n",
    "    file.write(\"The lines of text may or may not make sense.\")\n",
    "\n",
    "print(f\"File '{file_path}' has been created and written to.\\n\")"
   ]
  },
  {
   "cell_type": "markdown",
   "id": "1a3b3569",
   "metadata": {},
   "source": [
    "### Part 2: Reading from a File"
   ]
  },
  {
   "cell_type": "markdown",
   "id": "21e7c7ad",
   "metadata": {},
   "source": [
    "### Python Read File\n",
    "\n",
    "- The read() method reads the entire content of a file.\n",
    "- The readline() method reads one line at a time.\n",
    "- The readlines() method reads all lines and returns them as a list."
   ]
  },
  {
   "cell_type": "markdown",
   "id": "95960384",
   "metadata": {},
   "source": [
    "#### Open the file in read mode ('r') and read its content"
   ]
  },
  {
   "cell_type": "code",
   "execution_count": null,
   "id": "f8caeecc",
   "metadata": {
    "scrolled": true
   },
   "outputs": [],
   "source": [
    "with open(file_path, 'r') as file:\n",
    "    everything = file.read() # Read the entire content of the file.\n",
    "\n",
    "print(\"File Content:\\n\", everything, \"\\n\")"
   ]
  },
  {
   "cell_type": "code",
   "execution_count": null,
   "id": "97bfc795",
   "metadata": {},
   "outputs": [],
   "source": [
    "type(everything)"
   ]
  },
  {
   "cell_type": "code",
   "execution_count": null,
   "id": "12acec82",
   "metadata": {},
   "outputs": [],
   "source": [
    "with open(file_path, 'r') as file:\n",
    "    first_line = file.readline() # Read the 1st line\n",
    "    second_line = file.readline() # Read the 2nd line by calling readline() a second time\n",
    "    third_line = file.readline() # Read the 3rd line by calling readline() a third time\n",
    "\n",
    "print(\"First line:\\n\", first_line)\n",
    "print(\"Second line:\\n\", second_line)\n",
    "print(\"Third line:\\n\", third_line)"
   ]
  },
  {
   "cell_type": "code",
   "execution_count": null,
   "id": "0b5c62c3",
   "metadata": {
    "scrolled": true
   },
   "outputs": [],
   "source": [
    "with open(file_path, 'r') as file:\n",
    "    everything_as_list = file.readlines() # Read the entire content of the file into a list\n",
    "\n",
    "print(\"File content as a list:\\n\", everything_as_list, \"\\n\")"
   ]
  },
  {
   "cell_type": "markdown",
   "id": "1b5e8e36",
   "metadata": {},
   "source": [
    "### Part 3: Appending to a File"
   ]
  },
  {
   "cell_type": "markdown",
   "id": "e974b546",
   "metadata": {},
   "source": [
    "#### Open the file in append mode ('a') and add more text"
   ]
  },
  {
   "cell_type": "code",
   "execution_count": null,
   "id": "bef23c91",
   "metadata": {
    "scrolled": true
   },
   "outputs": [],
   "source": [
    "with open(file_path, 'a') as file:\n",
    "    file.write(\"This is an additional line added to the file.\\n\")\n",
    "\n",
    "print(f\"New content has been appended to '{file_path}'.\\n\")"
   ]
  },
  {
   "cell_type": "markdown",
   "id": "b563fd6e",
   "metadata": {},
   "source": [
    "#### Read and display the updated file content"
   ]
  },
  {
   "cell_type": "code",
   "execution_count": null,
   "id": "a77d4345",
   "metadata": {},
   "outputs": [],
   "source": [
    "with open(file_path, 'r') as file:\n",
    "    updated_content = file.read()\n",
    "\n",
    "print(\"Updated File Content:\\n\", updated_content, \"\\n\")"
   ]
  },
  {
   "cell_type": "code",
   "execution_count": null,
   "id": "541d8030",
   "metadata": {
    "scrolled": true
   },
   "outputs": [],
   "source": [
    "# Parsing the content (e.g., splitting lines)\n",
    "parsed_content = updated_content.splitlines()\n",
    "print(\"Parsed Content:\\n\", parsed_content)"
   ]
  },
  {
   "cell_type": "code",
   "execution_count": null,
   "id": "fa6e1c92",
   "metadata": {},
   "outputs": [],
   "source": [
    "def get_first_lines(list, n):\n",
    "    '''\n",
    "    Function to get the first n items of a list\n",
    "    It accepts the list and number of lines desired as parameters\n",
    "    '''\n",
    "    x = list[:n]\n",
    "    return x"
   ]
  },
  {
   "cell_type": "code",
   "execution_count": null,
   "id": "3d13e25e",
   "metadata": {
    "scrolled": true
   },
   "outputs": [],
   "source": [
    "get_first_lines( parsed_content, 2)"
   ]
  },
  {
   "cell_type": "markdown",
   "id": "b6976f91",
   "metadata": {},
   "source": [
    "### Practice Questions"
   ]
  },
  {
   "cell_type": "markdown",
   "id": "c79abe00",
   "metadata": {},
   "source": [
    "#### Question 1: Creating and Writing to a File\n",
    "1. Create a new file called 'practice.txt' and write the following lines to it:\n",
    "- Line 1: \"Python is fun!\"\n",
    "- Line 2: \"Let's learn more about file handling.\""
   ]
  },
  {
   "cell_type": "code",
   "execution_count": null,
   "id": "c3a595e2",
   "metadata": {
    "scrolled": true
   },
   "outputs": [],
   "source": []
  },
  {
   "cell_type": "markdown",
   "id": "8ee8e83e",
   "metadata": {},
   "source": [
    "#### Question 2: Reading from a File\n",
    "2. Read the content of the 'practice.txt' file and print it."
   ]
  },
  {
   "cell_type": "code",
   "execution_count": null,
   "id": "81071712",
   "metadata": {
    "scrolled": true
   },
   "outputs": [],
   "source": []
  },
  {
   "cell_type": "markdown",
   "id": "e8754519",
   "metadata": {},
   "source": [
    "#### Question 3: Appending to a File\n",
    "3. Append the following line to 'practice.txt': 'File handling is an important skill.' Then, read and print the updated content of the file."
   ]
  },
  {
   "cell_type": "code",
   "execution_count": null,
   "id": "967d3da1",
   "metadata": {},
   "outputs": [],
   "source": []
  },
  {
   "cell_type": "markdown",
   "id": "8aa0a216",
   "metadata": {},
   "source": [
    "### Python Close File\n",
    "\n",
    "- It is important to close a file after performing operations to free up system resources."
   ]
  },
  {
   "cell_type": "code",
   "execution_count": null,
   "id": "0a09578f",
   "metadata": {
    "scrolled": true
   },
   "outputs": [],
   "source": [
    "# Example:\n",
    "file = open(\"example.txt\", \"r\")\n",
    "print(file.read())\n",
    "file.close()"
   ]
  },
  {
   "cell_type": "code",
   "execution_count": null,
   "id": "99006d3e",
   "metadata": {},
   "outputs": [],
   "source": [
    "# Using with statement (context manager) automatically closes the file after the block is executed.\n",
    "with open(\"example.txt\", \"r\") as file:\n",
    "    print(file.read())"
   ]
  },
  {
   "cell_type": "markdown",
   "id": "19f1141b",
   "metadata": {},
   "source": [
    "### Python Delete File\n",
    "\n",
    "- The os module provides functions to interact with the operating system, including deleting files."
   ]
  },
  {
   "cell_type": "code",
   "execution_count": null,
   "id": "b58a2cd9",
   "metadata": {},
   "outputs": [],
   "source": [
    "import os"
   ]
  },
  {
   "cell_type": "code",
   "execution_count": null,
   "id": "44067dc3",
   "metadata": {},
   "outputs": [],
   "source": [
    "# Create and write to a file\n",
    "with open(\"example.txt\", \"w\") as file:\n",
    "    file.write(\"Hello, World!\\n\")\n",
    "    file.write(\"This is a test file.\\n\")\n",
    "\n",
    "# Read the file\n",
    "with open(\"example.txt\", \"r\") as file:\n",
    "    content = file.read()\n",
    "    print(\"File Content:\\n\", content)\n",
    "\n",
    "# Delete the file\n",
    "os.remove(\"example.txt\")\n",
    "print(\"File deleted.\")\n"
   ]
  },
  {
   "cell_type": "markdown",
   "id": "189cb588",
   "metadata": {},
   "source": [
    "### Writing a Calculator Function to a File\n",
    "- To write functions (such as a calculator function) to a file, you typically mean writing the function's definition as code into a text file so it can be executed later.\n",
    "- Below is an example of a simple calculator function and the steps to write this function to a file:"
   ]
  },
  {
   "cell_type": "markdown",
   "id": "55ef6edc",
   "metadata": {},
   "source": [
    "### Writing the Function to a File\n",
    "To write the function to a file, you will write the function's definition as a string and save it to a file."
   ]
  },
  {
   "cell_type": "code",
   "execution_count": null,
   "id": "e4122689",
   "metadata": {},
   "outputs": [],
   "source": [
    "function_code = \"\"\"\n",
    "def calculate(operation, a, b):\n",
    "    if operation == 'add':\n",
    "        return a + b\n",
    "    elif operation == 'subtract':\n",
    "        return a - b\n",
    "    elif operation == 'multiply':\n",
    "        return a * b\n",
    "    elif operation == 'divide':\n",
    "        return a / b\n",
    "    else:\n",
    "        return 'Invalid operation'\n",
    "\"\"\""
   ]
  },
  {
   "cell_type": "code",
   "execution_count": null,
   "id": "19795935",
   "metadata": {},
   "outputs": [],
   "source": [
    "type(function_code)"
   ]
  },
  {
   "cell_type": "code",
   "execution_count": null,
   "id": "475cd5a6",
   "metadata": {},
   "outputs": [],
   "source": [
    "with open('calculator.py', 'w') as file:\n",
    "    file.write(function_code)\n",
    "\n",
    "print(\"Function written to calculator.py\")"
   ]
  },
  {
   "cell_type": "markdown",
   "id": "2c713bba",
   "metadata": {},
   "source": [
    "### Explanation\n",
    "- **`function_code`**: This is a string that contains the entire function definition.\n",
    "- **`open('calculator.py', 'w')`**: Opens a file named `calculator.py` in write mode.\n",
    "- **`file.write(function_code)`**: Writes the function code to the file.\n",
    "- **`with open... as file:`**: Ensures the file is properly closed after writing."
   ]
  },
  {
   "cell_type": "markdown",
   "id": "6fed7283",
   "metadata": {},
   "source": [
    "#### Executing the Written Function\n",
    "After writing the function to a file, you can execute it by importing the module and calling the function."
   ]
  },
  {
   "cell_type": "code",
   "execution_count": null,
   "id": "4becb457",
   "metadata": {},
   "outputs": [],
   "source": [
    "# Assuming the file calculator.py is in the same directory\n",
    "import calculator as cl"
   ]
  },
  {
   "cell_type": "code",
   "execution_count": null,
   "id": "d2181f4f",
   "metadata": {},
   "outputs": [],
   "source": [
    "# Using the calculator function\n",
    "result = cl.calculate('add', 5, 3)\n",
    "print(\"Result of addition:\", result)  # Output: Result of addition: 8"
   ]
  },
  {
   "cell_type": "code",
   "execution_count": null,
   "id": "d81263d5",
   "metadata": {},
   "outputs": [],
   "source": [
    "result = cl.calculate('multiply', 5, 3)\n",
    "print(\"Result of multiplication:\", result)  # Output: Result of multiplication: 15"
   ]
  },
  {
   "cell_type": "code",
   "execution_count": null,
   "id": "415b17a9",
   "metadata": {},
   "outputs": [],
   "source": []
  },
  {
   "cell_type": "markdown",
   "id": "fc70182e",
   "metadata": {},
   "source": [
    "---\n",
    "_**Your Dataness**_,  \n",
    "`Obinna Oliseneku` (_**Hybraid**_)  \n",
    "**[LinkedIn](https://www.linkedin.com/in/obinnao/)** | **[GitHub](https://github.com/hybraid6)**  "
   ]
  }
 ],
 "metadata": {
  "kernelspec": {
   "display_name": "Python 3 (ipykernel)",
   "language": "python",
   "name": "python3"
  },
  "language_info": {
   "codemirror_mode": {
    "name": "ipython",
    "version": 3
   },
   "file_extension": ".py",
   "mimetype": "text/x-python",
   "name": "python",
   "nbconvert_exporter": "python",
   "pygments_lexer": "ipython3",
   "version": "3.10.9"
  }
 },
 "nbformat": 4,
 "nbformat_minor": 5
}
