{
 "cells": [
  {
   "cell_type": "markdown",
   "metadata": {},
   "source": [
    "# Importing Dataset\n",
    "\n",
    "Estimated time needed: **15** minutes\n",
    "\n",
    "## Objectives\n",
    "\n",
    "After completing this lab you will be able to:\n",
    "\n",
    "-   Acquire data in various ways\n",
    "-   Obtain insights from data with Pandas library\n"
   ]
  },
  {
   "cell_type": "markdown",
   "id": "f59a6647-41a4-4b4d-882a-698aa6ca068d",
   "metadata": {},
   "source": [
    "# Data Acquisition\n",
    "<p>\n",
    "There are various formats for a data set: .csv, .json, .xlsx  etc. The data set can be stored in different places, on your local machine or sometimes online.<br>\n",
    "\n",
    "In this section, you will learn how to load a data set into our Jupyter Notebook.<br>\n",
    "\n",
    "In our case, the Automobile Data set is an online source, and it is in a CSV (comma separated value) format. Let's use this data set as an example to practice data reading.\n",
    "<ul>\n",
    "    <li>Data source: <a href=\"https://archive.ics.uci.edu/ml/machine-learning-databases/autos/imports-85.data\" target=\"_blank\">https://archive.ics.uci.edu/ml/machine-learning-databases/autos/imports-85.data</a></li>\n",
    "    <li>Data type: csv</li>\n",
    "</ul>\n",
    "The Pandas Library is a useful tool that enables us to read various datasets into a data frame; our Jupyter notebook platforms have a built-in <b>Pandas Library</b> so that all we need to do is import Pandas without installing.\n",
    "</p>\n"
   ]
  },
  {
   "cell_type": "code",
   "execution_count": null,
   "id": "ecb51a4d-211b-4a16-bab2-e7e9cde8678f",
   "metadata": {},
   "outputs": [],
   "source": [
    "# import pandas library\n",
    "import pandas as pd\n",
    "import numpy as np"
   ]
  },
  {
   "cell_type": "markdown",
   "id": "5a6fe716-f5a4-47f8-8f20-ce13b6ee576b",
   "metadata": {},
   "source": [
    "<h2>Read Data</h2>\n",
    "<p>\n",
    "You use <code>pandas.read_csv()</code> function to read the CSV file. In the brackets, put the file path along with a quotation mark so that Pandas will read the file into a data frame from that address. The file path can be either an URL or your local file address.<br>\n",
    "\n",
    "Because the data does not include headers, we can add an argument <code>headers = None</code> inside the <code>read_csv()</code> method so that pandas will not automatically set the first row as a header.<br>\n",
    "\n",
    "You can also assign the data set to any variable you create.\n",
    "</p>\n"
   ]
  },
  {
   "cell_type": "markdown",
   "id": "70f2ad4a-7c09-4e27-9eda-ab63cb013e61",
   "metadata": {},
   "source": [
    "This dataset was hosted on IBM Cloud object. Click <a href=\"https://cocl.us/DA101EN_object_storage\">HERE</a> for free storage.\n"
   ]
  },
  {
   "cell_type": "markdown",
   "id": "76c55490-abb0-413e-96bb-63d053c9587a",
   "metadata": {},
   "source": [
    "Run the cell below to download the required dataset to the interface and load it into a pandas dataframe.\n"
   ]
  },
  {
   "cell_type": "code",
   "execution_count": null,
   "id": "9c1b6e70-875f-4e15-84d5-820de52728b1",
   "metadata": {},
   "outputs": [],
   "source": [
    "filepath = \"https://cf-courses-data.s3.us.cloud-object-storage.appdomain.cloud/IBMDeveloperSkillsNetwork-DA0101EN-SkillsNetwork/labs/Data%20files/auto.csv\"\n",
    "df = pd.read_csv(filepath, header=None)"
   ]
  },
  {
   "cell_type": "markdown",
   "id": "298f4c04-6957-45fd-b543-5d6ce25799e0",
   "metadata": {},
   "source": [
    "After reading the data set, we can use the <code>data_frame.head(n)</code> method to check the top n rows of the data frame, where n is an integer. Contrary to <code>data_frame.head(n)</code>, <code>data_frame.tail(n)</code> will show you the bottom n rows of the data frame.\n"
   ]
  },
  {
   "cell_type": "code",
   "execution_count": null,
   "id": "6bfe13b5-3a3c-453b-b081-3cb90c05f94e",
   "metadata": {},
   "outputs": [],
   "source": [
    "# show the first 5 rows using dataframe.head() method\n",
    "print(\"The first 5 rows of the dataframe\") \n",
    "df.head()"
   ]
  },
  {
   "cell_type": "code",
   "execution_count": null,
   "metadata": {},
   "outputs": [],
   "source": [
    "# Show 6 random rows\n",
    "df.sample(6)"
   ]
  },
  {
   "cell_type": "markdown",
   "id": "b8308026-32f1-4028-8fa7-979f1d6e20a5",
   "metadata": {},
   "source": [
    "<div class=\"alert alert-danger alertdanger\" style=\"margin-top: 20px\">\n",
    "<h1> Question #1: </h1>\n",
    "<b>Check the bottom 10 rows of data frame \"df\".</b>\n",
    "</div>\n"
   ]
  },
  {
   "cell_type": "code",
   "execution_count": null,
   "id": "09e5a32a-d5ba-48e3-bb93-140710708396",
   "metadata": {},
   "outputs": [],
   "source": [
    "# Write your code below and press Shift+Enter to execute \n"
   ]
  },
  {
   "cell_type": "markdown",
   "id": "99b202d9-0947-4327-9540-b109e649520b",
   "metadata": {},
   "source": [
    "<details><summary>Click here for the solution</summary>\n",
    "\n",
    "```python\n",
    "print(\"The last 10 rows of the dataframe\\n\")\n",
    "df.tail(10)\n",
    "```\n"
   ]
  },
  {
   "cell_type": "markdown",
   "id": "c3785a83-c886-4a6d-bc95-2bea317697b1",
   "metadata": {},
   "source": [
    "<h3>Add Headers</h3>\n",
    "<p>\n",
    "Take a look at the data set. Pandas automatically set the header with an integer starting from 0.\n",
    "</p>\n",
    "<p>\n",
    "To better describe the data, you can introduce a header. This information is available at:  <a href=\"https://archive.ics.uci.edu/ml/datasets/Automobile\" target=\"_blank\">https://archive.ics.uci.edu/ml/datasets/Automobile</a>.\n",
    "</p>\n",
    "<p>\n",
    "Thus, you have to add headers manually.\n",
    "</p>\n",
    "<p>\n",
    "First, create a list \"headers\" that include all column names in order.\n",
    "Then, use <code>dataframe.columns = headers</code> to replace the headers with the list you created.\n",
    "</p>\n"
   ]
  },
  {
   "cell_type": "code",
   "execution_count": null,
   "id": "39cb092f-4135-4f98-8a68-9403cdc7a37a",
   "metadata": {},
   "outputs": [],
   "source": [
    "# create headers list\n",
    "headers = [\"symboling\",\"normalized-losses\",\"make\",\"fuel-type\",\"aspiration\", \"num-of-doors\",\"body-style\",\n",
    "         \"drive-wheels\",\"engine-location\",\"wheel-base\", \"length\",\"width\",\"height\",\"curb-weight\",\"engine-type\",\n",
    "         \"num-of-cylinders\", \"engine-size\",\"fuel-system\",\"bore\",\"stroke\",\"compression-ratio\",\"horsepower\",\n",
    "         \"peak-rpm\",\"city-mpg\",\"highway-mpg\",\"price\"]\n",
    "print(\"headers\\n\", headers)"
   ]
  },
  {
   "cell_type": "markdown",
   "id": "df90ed06-1d2d-46cc-9a51-a24a561e1444",
   "metadata": {},
   "source": [
    " Replace headers and recheck our data frame:\n"
   ]
  },
  {
   "cell_type": "code",
   "execution_count": null,
   "metadata": {},
   "outputs": [],
   "source": [
    "df.columns"
   ]
  },
  {
   "cell_type": "code",
   "execution_count": null,
   "id": "39669780-4494-42d6-801e-e30b750a9dd2",
   "metadata": {},
   "outputs": [],
   "source": [
    "df.columns = headers\n",
    "df.columns"
   ]
  },
  {
   "cell_type": "markdown",
   "id": "14f66ba4-9f88-4835-9db3-688d01ca2677",
   "metadata": {},
   "source": [
    "You can also see the first 10 entries of the updated data frame and note that the headers are updated.\n"
   ]
  },
  {
   "cell_type": "code",
   "execution_count": null,
   "id": "ae028903-9dbe-4904-9ace-ca98e55752ce",
   "metadata": {},
   "outputs": [],
   "source": [
    "df.head(10)"
   ]
  },
  {
   "cell_type": "markdown",
   "id": "8299abcc-e4c4-44b5-bd4a-0f7e0308a461",
   "metadata": {},
   "source": [
    "Now, we need to replace the \"?\" symbol with NaN so the dropna() can remove the missing values:\n"
   ]
  },
  {
   "cell_type": "code",
   "execution_count": null,
   "id": "2cf4cf0e-148b-41a1-b164-81d9d3bc5efd",
   "metadata": {},
   "outputs": [],
   "source": [
    "df1 = df.replace('?',np.NaN)"
   ]
  },
  {
   "cell_type": "markdown",
   "id": "aeeaf7d9-c6a9-4f13-b2a2-897ef97550f2",
   "metadata": {},
   "source": [
    "You can drop missing values along the column \"price\" as follows:\n"
   ]
  },
  {
   "cell_type": "code",
   "execution_count": null,
   "id": "8e2669b0-15bd-4a52-9540-f33f2432bd22",
   "metadata": {
    "scrolled": false
   },
   "outputs": [],
   "source": [
    "df=df1.dropna(subset=[\"price\"], axis=0)\n",
    "df.head(20)"
   ]
  },
  {
   "cell_type": "markdown",
   "id": "c6d19587-ca8b-4166-b021-5ee396595c21",
   "metadata": {},
   "source": [
    "Here, `axis=0` means that the contents along the entire row will be dropped wherever the entity 'price' is found to be NaN\n",
    "\n",
    "Now, you have successfully read the raw data set and added the correct headers into the data frame.\n"
   ]
  },
  {
   "cell_type": "markdown",
   "id": "2296c246-826e-4c3a-a5d8-3a2d7c27fb88",
   "metadata": {},
   "source": [
    " <div class=\"alert alert-danger alertdanger\" style=\"margin-top: 20px\">\n",
    "<h1> Question #2: </h1>\n",
    "<b>Find the name of the columns of the dataframe.</b>\n",
    "</div>\n"
   ]
  },
  {
   "cell_type": "code",
   "execution_count": null,
   "id": "bf7776b7-306d-4860-9985-d156a772d959",
   "metadata": {
    "scrolled": true
   },
   "outputs": [],
   "source": [
    "# Write your code below and press Shift+Enter to execute "
   ]
  },
  {
   "cell_type": "markdown",
   "id": "ad6a8728-34cd-41f6-adae-377c0b3ed4a9",
   "metadata": {},
   "source": [
    "<details><summary>Click here for the solution</summary>\n",
    "\n",
    "```python\n",
    "print(df.columns) \n",
    "    or \n",
    "list(df)\n",
    "```\n",
    "\n",
    "</details>\n"
   ]
  },
  {
   "cell_type": "markdown",
   "id": "52077f46-fd8e-4020-b97e-07dac78ea4e1",
   "metadata": {},
   "source": [
    "<h2>Save Dataset</h2>\n",
    "<p>\n",
    "Correspondingly, Pandas enables you to save the data set to CSV. By using the <code>dataframe.to_csv()</code> method, you can add the file path and name along with quotation marks in the brackets.\n",
    "</p>\n",
    "<p>\n",
    "For example, if you save the data frame <b>df</b> as <b>automobile.csv</b> to your local machine, you may use the syntax below, where <code>index = False</code> means the row names will not be written.\n",
    "</p>\n"
   ]
  },
  {
   "cell_type": "raw",
   "metadata": {},
   "source": [
    "df.to_csv(\"automobile.csv\", index=False)"
   ]
  },
  {
   "cell_type": "markdown",
   "id": "da4c0ce1-e51c-4696-a80d-12ca6e4f31b1",
   "metadata": {},
   "source": [
    "You can also read and save other file formats. You can use similar functions like **`pd.read_csv()`** and **`df.to_csv()`** for other data formats. The functions are listed in the following table:\n"
   ]
  },
  {
   "cell_type": "markdown",
   "id": "982580da-11c0-438f-9cb1-e1cd3c7e7dfd",
   "metadata": {},
   "source": [
    "## Read/Save Other Data Formats\n",
    "\n",
    "| Data Formate |        Read       |            Save |\n",
    "| ------------ | :---------------: | --------------: |\n",
    "| csv          |  `pd.read_csv()`  |   `df.to_csv()` |\n",
    "| json         |  `pd.read_json()` |  `df.to_json()` |\n",
    "| excel        | `pd.read_excel()` | `df.to_excel()` |\n",
    "| hdf          |  `pd.read_hdf()`  |   `df.to_hdf()` |\n",
    "| sql          |  `pd.read_sql()`  |   `df.to_sql()` |\n",
    "| ...          |        ...        |             ... |\n"
   ]
  },
  {
   "cell_type": "markdown",
   "id": "0e9f4a9c-599f-4073-a420-34b438c29edd",
   "metadata": {},
   "source": [
    "# Basic Insights from the Data set\n",
    "<p>\n",
    "After reading data into Pandas dataframe, it is time for you to explore the data set.<br>\n",
    "\n",
    "There are several ways to obtain essential insights of the data to help you better understand it.\n",
    "</p>\n"
   ]
  },
  {
   "cell_type": "markdown",
   "id": "73f3cea4-1485-4035-816e-cf4663b86655",
   "metadata": {},
   "source": [
    "<h2>Data Types</h2>\n",
    "<p>\n",
    "Data has a variety of types.<br>\n",
    "\n",
    "The main types stored in Pandas data frames are <b>object</b>, <b>float</b>, <b>int</b>, <b>bool</b> and <b>datetime64</b>. In order to better learn about each attribute, you should always know the data type of each column. In Pandas:\n",
    "</p>\n"
   ]
  },
  {
   "cell_type": "markdown",
   "id": "743da254-059a-480e-abfe-86cf457993c0",
   "metadata": {},
   "source": [
    "Returns a series with the data type of each column.\n"
   ]
  },
  {
   "cell_type": "code",
   "execution_count": null,
   "id": "eaafbdd4-e467-4741-8a0d-98a22d42fdfa",
   "metadata": {},
   "outputs": [],
   "source": [
    "# check the data type of data frame \"df\" by .dtypes\n",
    "print(df.dtypes)"
   ]
  },
  {
   "cell_type": "markdown",
   "id": "ddec3890-f7cb-415b-8f66-35a1d43ebe9f",
   "metadata": {},
   "source": [
    "<p>\n",
    "As shown above, you can clearly see that the data type of \"symboling\" and \"curb-weight\" are <code>int64</code>, \"normalized-losses\" is <code>object</code>, and \"wheel-base\" is <code>float64</code>, etc.\n",
    "</p>\n",
    "<p>\n",
    "These data types can be changed; you will learn how to accomplish this in a later module.\n",
    "</p>\n"
   ]
  },
  {
   "cell_type": "markdown",
   "id": "93db1a89-2403-4a13-9e24-643e73af91da",
   "metadata": {},
   "source": [
    "<h2>Describe</h2>\n",
    "If we would like to get a statistical summary of each column such as count, column mean value, column standard deviation, etc., use the describe method:\n"
   ]
  },
  {
   "cell_type": "raw",
   "id": "cc4a07e2-aa20-44d8-aa29-54768e13e15f",
   "metadata": {},
   "source": [
    "dataframe.describe()"
   ]
  },
  {
   "cell_type": "markdown",
   "id": "e3bf173d-40ab-435b-b107-37d88fc21823",
   "metadata": {},
   "source": [
    "This method will provide various summary statistics, excluding <code>NaN</code> (Not a Number) values.\n"
   ]
  },
  {
   "cell_type": "code",
   "execution_count": null,
   "id": "b5558a1e-993e-436b-83c5-7ccc582067ad",
   "metadata": {},
   "outputs": [],
   "source": [
    "df.describe()"
   ]
  },
  {
   "cell_type": "markdown",
   "id": "1b95f1ac-4b8a-437c-8897-2cd1b55d0822",
   "metadata": {},
   "source": [
    "<p>\n",
    "This shows the statistical summary of all numeric-typed (int, float) columns.<br>\n",
    "\n",
    "For example, the attribute \"symboling\" has 205 counts, the mean value of this column is 0.83, the standard deviation is 1.25, the minimum value is -2, 25th percentile is 0, 50th percentile is 1, 75th percentile is 2, and the maximum value is 3.\n",
    "<br>\n",
    "\n",
    "However, what if you would also like to check all the columns including those that are of type object?\n",
    "<br><br>\n",
    "\n",
    "You can add an argument <code>include = \"all\"</code> inside the bracket. Try it again.\n",
    "\n",
    "</p>\n"
   ]
  },
  {
   "cell_type": "code",
   "execution_count": null,
   "id": "c174dbd9-4856-4351-a17a-aa7ba959c9d8",
   "metadata": {
    "scrolled": false
   },
   "outputs": [],
   "source": [
    "# describe all the columns in \"df\" \n",
    "df.describe(include = \"all\")"
   ]
  },
  {
   "cell_type": "markdown",
   "id": "a630a601-2a4c-4d9f-a80d-6c95e9c24040",
   "metadata": {},
   "source": [
    "<p>\n",
    "Now it provides the statistical summary of all the columns, including object-typed attributes.<br>\n",
    "\n",
    "You can now see how many unique values are there, which one is the top value, and the frequency of the top value in the object-typed columns.<br>\n",
    "\n",
    "Some values in the table above show \"NaN\". Those numbers are not available regarding a particular column type.<br>\n",
    "</p>\n"
   ]
  },
  {
   "cell_type": "markdown",
   "id": "27ee3920-68fe-4010-8db3-e048b53f601d",
   "metadata": {},
   "source": [
    "<div class=\"alert alert-danger alertdanger\" style=\"margin-top: 20px\">\n",
    "<h1> Question #3: </h1>\n",
    "\n",
    "<p>\n",
    "You can select the columns of a dataframe by indicating the name of each column. For example, you can select the three columns as follows:\n",
    "</p>\n",
    "<p>\n",
    "    <code>dataframe[[' column 1 ',column 2', 'column 3']]</code>\n",
    "</p>\n",
    "<p>\n",
    "Where \"column\" is the name of the column, you can apply the method  \".describe()\" to get the statistics of those columns as follows:\n",
    "</p>\n",
    "<p>\n",
    "    <code>dataframe[[' column 1 ',column 2', 'column 3'] ].describe()</code>\n",
    "</p>\n",
    "\n",
    "Apply the  method to \".describe()\" to the columns 'length' and 'compression-ratio'.\n",
    "\n",
    "</div>\n"
   ]
  },
  {
   "cell_type": "code",
   "execution_count": null,
   "id": "81f84991-3325-4154-ba65-50d436279230",
   "metadata": {
    "scrolled": false
   },
   "outputs": [],
   "source": [
    "# Write your code below and press Shift+Enter to execute\n",
    "df[['length', 'compression-ratio']].describe()"
   ]
  },
  {
   "cell_type": "markdown",
   "id": "b470ea81-b4b5-4954-8f56-2b0097f7fafa",
   "metadata": {},
   "source": [
    "\n",
    "<details><summary>Click here for the solution</summary>\n",
    "\n",
    "```python\n",
    "df[['length', 'compression-ratio']].describe()\n",
    "```\n",
    "\n",
    "</details>\n"
   ]
  },
  {
   "cell_type": "markdown",
   "id": "8b56ac5f-e1ca-41ee-9832-bd2e839d8af4",
   "metadata": {},
   "source": [
    "<h2>Info</h2>\n",
    "You can also use another method to check your data set:\n"
   ]
  },
  {
   "cell_type": "raw",
   "id": "62b32c06-b7af-4146-8f66-0ea0b4b6c53b",
   "metadata": {},
   "source": [
    "dataframe.info()"
   ]
  },
  {
   "cell_type": "markdown",
   "id": "e0a7c6b8-ad70-4ac3-bbf6-4b10a3770278",
   "metadata": {},
   "source": [
    "It provides a concise summary of your data frame. \n",
    "\n",
    "This method prints information about a data frame including the index dtype and columns, non-null values and memory usage.\n"
   ]
  },
  {
   "cell_type": "code",
   "execution_count": null,
   "id": "e2b5f50f-d2d6-4472-b85c-2812beccdd6c",
   "metadata": {},
   "outputs": [],
   "source": [
    "# look at the info of \"df\"\n",
    "df.info()"
   ]
  },
  {
   "cell_type": "markdown",
   "id": "86b090b0-a625-4bf4-978e-0e5df4a4ad27",
   "metadata": {},
   "source": [
    "<h1>Excellent! You have just completed the  Introduction Notebook.</h1>\n"
   ]
  },
  {
   "cell_type": "markdown",
   "id": "def80303-2437-4d2d-99cf-558591e8dcf8",
   "metadata": {},
   "source": [
    "### Thank you for completing this lab.\n",
    "\n",
    "## Author\n",
    "\n",
    "<a href=\"https://www.linkedin.com/in/joseph-s-50398b136/\" target=\"_blank\">Joseph Santarcangelo</a>\n",
    "\n",
    "### Other Contributors\n",
    "\n",
    "<a href=\"https://www.linkedin.com/in/mahdi-noorian-58219234/\" target=\"_blank\">Mahdi Noorian PhD</a>\n",
    "\n",
    "Bahare Talayian\n",
    "\n",
    "Eric Xiao\n",
    "\n",
    "Steven Dong\n",
    "\n",
    "Parizad\n",
    "\n",
    "Hima Vasudevan\n",
    "\n",
    "<a href=\"https://www.linkedin.com/in/fiorellawever/\" target=\"_blank\">Fiorella Wenver</a>\n",
    "\n",
    "<a href=\" https://www.linkedin.com/in/yi-leng-yao-84451275/ \" target=\"_blank\" >Yi Yao</a>.\n",
    "\n",
    "<a href=\"https://www.coursera.org/instructor/~129186572/ \" target=\"_blank\" >Abhishek Gagneja</a>\n",
    "## Change Log\n",
    "\n",
    "| Date (YYYY-MM-DD) | Version | Changed By | Change Description                       |\n",
    "| ----------------- | ------- | ---------- | ---------------------------------------- |\n",
    "| 2023-09-28        | 2.4     | Abhishek Gagneja| Minor instructional update          |\n",
    "| 2020-10-30        | 2.3     | Lakshmi    | Changed URL of the csv                   |\n",
    "| 2020-09-22        | 2.2     | Nayef      | Added replace() method to remove '?'     |\n",
    "| 2020-09-09        | 2.1     | Lakshmi    | Made changes in info method of dataframe |\n",
    "| 2020-08-27        | 2.0     | Lavanya    | Moved lab to course repo in GitLab       |\n",
    "\n",
    "\n",
    "<hr>\n",
    "\n",
    "## <h3 align=\"center\"> © IBM Corporation 2023. All rights reserved. <h3/>\n"
   ]
  },
  {
   "cell_type": "code",
   "execution_count": null,
   "id": "8d29539d-fa06-46e7-ae0a-3681bb310343",
   "metadata": {},
   "outputs": [],
   "source": []
  }
 ],
 "metadata": {
  "kernelspec": {
   "display_name": "Python 3 (ipykernel)",
   "language": "python",
   "name": "python3"
  },
  "language_info": {
   "codemirror_mode": {
    "name": "ipython",
    "version": 3
   },
   "file_extension": ".py",
   "mimetype": "text/x-python",
   "name": "python",
   "nbconvert_exporter": "python",
   "pygments_lexer": "ipython3",
   "version": "3.10.9"
  }
 },
 "nbformat": 4,
 "nbformat_minor": 4
}
