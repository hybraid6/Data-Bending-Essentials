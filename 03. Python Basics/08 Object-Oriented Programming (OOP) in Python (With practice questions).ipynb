{
 "cells": [
  {
   "cell_type": "markdown",
   "id": "547101a4",
   "metadata": {},
   "source": [
    "# Brief Introduction to OOP\n",
    "\n",
    "- Object-Oriented Programming (OOP) is a programming paradigm based on the concept of \"objects\",\n",
    "- which can contain data (attributes) and code (methods).\n",
    "- OOP aims to implement real-world entities like inheritance, polymorphism, encapsulation, etc., in programming.\n",
    "\n",
    "**The main concepts of OOP are:**\n",
    "1. Class\n",
    "2. Object\n",
    "3. Inheritance\n",
    "4. Polymorphism\n",
    "5. Encapsulation\n",
    "6. Abstraction"
   ]
  },
  {
   "cell_type": "markdown",
   "id": "e5b60b36",
   "metadata": {},
   "source": [
    "- In Python, `self` is a conventional name used for the first parameter of instance methods in a class. \n",
    "- It refers to the instance of the class itself, allowing access to the instance's attributes and methods. Using `self`, you can modify the instance's state and call its methods.\n",
    "\n",
    "**Why self is Used**\n",
    "- Access Instance Attributes: `self` allows you to access and modify instance attributes.\n",
    "- Access Instance Methods: You can call other methods within the same instance.\n",
    "- Distinguish Between Class and Instance Variables: `self` differentiates instance variables from local or class variables."
   ]
  },
  {
   "cell_type": "markdown",
   "id": "842647e7",
   "metadata": {},
   "source": [
    "### What's a Class?\n",
    "\n",
    "- A class is a blueprint for creating objects. It defines a set of attributes and methods that the objects created from the class can use.\n",
    "- Classes encapsulate data for the object."
   ]
  },
  {
   "cell_type": "code",
   "execution_count": null,
   "id": "3c3a932d",
   "metadata": {},
   "outputs": [],
   "source": [
    "# Example of a class\n",
    "class Dog:\n",
    "    species = \"Canis familiaris\"  # Class attribute\n",
    "\n",
    "    def __init__(self, name, age):\n",
    "        self.name = name  # Instance attribute\n",
    "        self.age = age  # Instance attribute\n",
    "        "
   ]
  },
  {
   "cell_type": "code",
   "execution_count": null,
   "id": "f9436b9f",
   "metadata": {},
   "outputs": [],
   "source": [
    "# Practice Questions:\n",
    "# 1. Define a class named 'Car' with class attributes and instance attributes.\n",
    "# 2. What is the difference between class attributes and instance attributes?"
   ]
  },
  {
   "cell_type": "markdown",
   "id": "10c21eb2",
   "metadata": {},
   "source": [
    "### What's an Object?\n",
    "\n",
    "- An object is an instance of a class. It is a concrete entity based on the blueprint provided by the class.\n",
    "- Objects can have attributes and methods defined by their class."
   ]
  },
  {
   "cell_type": "code",
   "execution_count": null,
   "id": "9b0aa3c6",
   "metadata": {},
   "outputs": [],
   "source": [
    "# Example of an object\n",
    "my_dog = Dog(\"Winky\", 3)\n",
    "print(my_dog.name)  # Output: Winky\n",
    "print(my_dog.age)  # Output: 3\n",
    "print(my_dog.species)"
   ]
  },
  {
   "cell_type": "code",
   "execution_count": null,
   "id": "1b3bc22d",
   "metadata": {},
   "outputs": [],
   "source": [
    "your_dog = Dog('Mendoza', 5)\n",
    "print(your_dog.name) \n",
    "print(your_dog.age)  \n",
    "print(your_dog.species)"
   ]
  },
  {
   "cell_type": "code",
   "execution_count": null,
   "id": "1dd040e4",
   "metadata": {},
   "outputs": [],
   "source": [
    "# Practice Questions:\n",
    "# 1. Create an object of the 'Car' class defined in the previous section.\n",
    "# 2. Access and print the attributes of the created object."
   ]
  },
  {
   "cell_type": "markdown",
   "id": "0453e63e",
   "metadata": {},
   "source": [
    "### Creating Class and Object in Python\n",
    "\n",
    "- Classes are created using the 'class' keyword, and objects are created by calling the class like a function."
   ]
  },
  {
   "cell_type": "code",
   "execution_count": null,
   "id": "a1ae8d29",
   "metadata": {},
   "outputs": [],
   "source": [
    "# Example of creating a class and an object\n",
    "class Person:\n",
    "    def __init__(self, name, age):\n",
    "        self.name = name\n",
    "        self.age = age\n",
    "\n",
    "    def greet(self):\n",
    "        print(f\"Hello, my name is {self.name} and I am {self.age} years old.\")"
   ]
  },
  {
   "cell_type": "code",
   "execution_count": null,
   "id": "e9d8ed73",
   "metadata": {
    "scrolled": false
   },
   "outputs": [],
   "source": [
    "# Creating an object of the Person class\n",
    "person1 = Person(\"Fegor\", 15)\n",
    "person1.greet()"
   ]
  },
  {
   "cell_type": "code",
   "execution_count": null,
   "id": "b7fa0b2d",
   "metadata": {
    "scrolled": true
   },
   "outputs": [],
   "source": [
    "person1.name"
   ]
  },
  {
   "cell_type": "code",
   "execution_count": null,
   "id": "547d0295",
   "metadata": {},
   "outputs": [],
   "source": [
    "# Practice Questions:\n",
    "# 1. Define a class named 'Student' with attributes 'name' and 'grade' and a method 'introduce' that prints a message.\n",
    "# 2. Create an object of the 'Student' class and call the 'introduce' method."
   ]
  },
  {
   "cell_type": "markdown",
   "id": "7657ae30",
   "metadata": {},
   "source": [
    "### Methods in Python\n",
    "\n",
    "- Methods are functions defined inside a class that operate on instances of the class.\n",
    "- The first parameter of a method is usually `'self'`, which refers to the instance."
   ]
  },
  {
   "cell_type": "code",
   "execution_count": null,
   "id": "b00deea2",
   "metadata": {},
   "outputs": [],
   "source": [
    "# Example of a method\n",
    "class Circle:\n",
    "    '''\n",
    "    This class creates a circle and enables you to find the area and volume(of it's cylinder).\n",
    "    '''\n",
    "    def __init__(self, radius):\n",
    "        self.radius = radius\n",
    "\n",
    "    def area(self):\n",
    "        return 3.14 * self.radius ** 2\n",
    "    \n",
    "    def volume(self, height):\n",
    "        return 3.14 * self.radius ** 2 * height"
   ]
  },
  {
   "cell_type": "code",
   "execution_count": null,
   "id": "239613d4",
   "metadata": {
    "scrolled": true
   },
   "outputs": [],
   "source": [
    "# Creating an object and calling a method\n",
    "circle1 = Circle(5)\n",
    "print(circle1.area())  # Output: 78.5\n",
    "print(circle1.volume(10))"
   ]
  },
  {
   "cell_type": "code",
   "execution_count": null,
   "id": "2731ae18",
   "metadata": {},
   "outputs": [],
   "source": [
    "# Practice Questions:\n",
    "# 1. Define a class named 'Rectangle' with attributes 'width' and 'height' and a method 'area' that calculates the area.\n",
    "# 2. Create an object of the 'Rectangle' class and call the 'area' method.\n",
    "# 3. Create a method 'volume' that takes in an argument 'breadth' and calculates the volume."
   ]
  },
  {
   "cell_type": "markdown",
   "id": "661e2b30",
   "metadata": {},
   "source": [
    "### Inheritance in Python\n",
    "\n",
    "- Inheritance is a way to create a new class from an existing class. The new class inherits the attributes and methods of the existing class.\n",
    "- The existing class is called the base class, and the new class is called the derived class."
   ]
  },
  {
   "cell_type": "code",
   "execution_count": null,
   "id": "a69bb56b",
   "metadata": {},
   "outputs": [],
   "source": [
    "# Example of inheritance\n",
    "class Animal:\n",
    "    def __init__(self, name):\n",
    "        self.name = name\n",
    "    \n",
    "    def speak(self):\n",
    "        print(\"Animal speaks\")\n",
    "        \n",
    "    def run(self):\n",
    "        print(\"Animal runs\")\n",
    "\n",
    "class Dog(Animal):\n",
    "        \n",
    "    def speak(self):\n",
    "        print(\"Woof!\")      "
   ]
  },
  {
   "cell_type": "code",
   "execution_count": null,
   "id": "5ddb2778",
   "metadata": {
    "scrolled": true
   },
   "outputs": [],
   "source": [
    "# Creating an object of the derived class\n",
    "dog1 = Dog(\"Buddy\")\n",
    "dog1.speak()  # Output: Woof!\n",
    "dog1.run()"
   ]
  },
  {
   "cell_type": "code",
   "execution_count": null,
   "id": "03e16250",
   "metadata": {},
   "outputs": [],
   "source": [
    "dog1.name"
   ]
  },
  {
   "cell_type": "code",
   "execution_count": null,
   "id": "235e740e",
   "metadata": {},
   "outputs": [],
   "source": [
    "# Practice Questions:\n",
    "# 1. Define a class named 'Vehicle' with an attribute 'make' and a method 'start'.\n",
    "# 2. Define a class named 'Car' that inherits from 'Vehicle' and overrides the 'start' method.\n",
    "# 3. Create an object of the 'Car' class and call the 'start' method."
   ]
  },
  {
   "cell_type": "markdown",
   "id": "5a4e6f72",
   "metadata": {},
   "source": [
    "### Object Operations\n",
    "\n",
    "- Objects can have various operations performed on them, such as accessing attributes, calling methods, and using built-in functions."
   ]
  },
  {
   "cell_type": "code",
   "execution_count": null,
   "id": "30d75d49",
   "metadata": {},
   "outputs": [],
   "source": [
    "# Example of object operations\n",
    "class Book:\n",
    "    def __init__(self, title, author):\n",
    "        self.title = title\n",
    "        self.author = author\n",
    "\n",
    "    def details(self):\n",
    "        return f\"Title: {self.title}, Author: {self.author}\""
   ]
  },
  {
   "cell_type": "code",
   "execution_count": null,
   "id": "5ea4ead6",
   "metadata": {},
   "outputs": [],
   "source": [
    "# Creating an object and performing operations\n",
    "book1 = Book(\"1984\", \"George Orwell\")\n",
    "print(book1.details())  # Output: Title: 1984, Author: George Orwell"
   ]
  },
  {
   "cell_type": "code",
   "execution_count": null,
   "id": "c49ad267",
   "metadata": {},
   "outputs": [],
   "source": [
    "# Practice Questions:\n",
    "# 1. Define a class named 'Movie' with attributes 'title' and 'director' and a method 'info' that returns the movie details.\n",
    "# 2. Create an object of the 'Movie' class and call the 'info' method.\n",
    "# 3. Access the attributes of the 'Movie' object directly and print them."
   ]
  },
  {
   "cell_type": "markdown",
   "id": "73686dea",
   "metadata": {},
   "source": [
    "### Instantiate an Object in Python\n",
    "\n",
    "- Instantiating an object means creating an instance of a class. This is done by calling the class with its required parameters."
   ]
  },
  {
   "cell_type": "code",
   "execution_count": null,
   "id": "c6ede36a",
   "metadata": {},
   "outputs": [],
   "source": [
    "# Example of instantiating an object\n",
    "class Laptop:\n",
    "    def __init__(self, brand, model):\n",
    "        self.brand = brand\n",
    "        self.model = model\n",
    "\n",
    "    def info(self):\n",
    "        return f\"Laptop: {self.brand} {self.model}\""
   ]
  },
  {
   "cell_type": "code",
   "execution_count": null,
   "id": "080372ec",
   "metadata": {},
   "outputs": [],
   "source": [
    "# Creating an object of the Laptop class\n",
    "laptop1 = Laptop(\"Dell\", \"XPS 13\")\n",
    "print(laptop1.info())  # Output: Laptop: Dell XPS 13"
   ]
  },
  {
   "cell_type": "code",
   "execution_count": null,
   "id": "7ad34325",
   "metadata": {},
   "outputs": [],
   "source": [
    "# Practice Questions:\n",
    "# 1. Define a class named 'Smartphone' with attributes 'brand' and 'model' and a method 'specs' that returns the smartphone specifications.\n",
    "# 2. Create an object of the 'Smartphone' class and call the 'specs' method."
   ]
  },
  {
   "cell_type": "markdown",
   "id": "d4378256",
   "metadata": {},
   "source": [
    "### Complete Example Combining All Concepts"
   ]
  },
  {
   "cell_type": "code",
   "execution_count": null,
   "id": "9d3f2c85",
   "metadata": {},
   "outputs": [],
   "source": [
    "# Example: Library System\n",
    "class Book:\n",
    "    def __init__(self, title, author):\n",
    "        self.title = title\n",
    "        self.author = author\n",
    "\n",
    "    def details(self):\n",
    "        return f\"Title: {self.title}, Author: {self.author}\"\n",
    "\n",
    "class Library:\n",
    "    def __init__(self):\n",
    "        self.books = []\n",
    "\n",
    "    def add_book(self, book):\n",
    "        self.books.append(book)\n",
    "\n",
    "    def show_books(self):\n",
    "        for book in self.books:\n",
    "            print(book.details()) # This requires the book to be be an instance of the class Book"
   ]
  },
  {
   "cell_type": "code",
   "execution_count": null,
   "id": "34e39fed",
   "metadata": {},
   "outputs": [],
   "source": [
    "# Creating book objects\n",
    "book1 = Book(\"1984\", \"George Orwell\")\n",
    "book2 = Book(\"To Kill a Mockingbird\", \"Harper Lee\")"
   ]
  },
  {
   "cell_type": "code",
   "execution_count": null,
   "id": "ec7ecc34",
   "metadata": {},
   "outputs": [],
   "source": [
    "# Creating a library object and adding books\n",
    "library = Library()\n",
    "library.add_book(book1)\n",
    "library.add_book(book2)\n",
    "# Displaying books in the library\n",
    "library.show_books()"
   ]
  },
  {
   "cell_type": "code",
   "execution_count": null,
   "id": "7e16df0a",
   "metadata": {
    "scrolled": true
   },
   "outputs": [],
   "source": [
    "library.books"
   ]
  },
  {
   "cell_type": "code",
   "execution_count": null,
   "id": "bb4a6037",
   "metadata": {},
   "outputs": [],
   "source": [
    "# Practice Questions:\n",
    "# 1. Define a class named 'Member' with attributes 'name' and 'membership_id' and a method 'info' that returns the member details.\n",
    "# 2. Define a class named 'Library' with a method 'add_member' to add members and 'show_members' to display member details.\n",
    "# 3. Create objects for 'Member' and add them to the 'Library'. Display all members."
   ]
  },
  {
   "cell_type": "markdown",
   "id": "5a5c5056",
   "metadata": {},
   "source": [
    "---\n",
    "_**Your Dataness**_,  \n",
    "`Obinna Oliseneku` (_**Hybraid**_)  \n",
    "**[LinkedIn](https://www.linkedin.com/in/obinnao/)** | **[GitHub](https://github.com/hybraid6)**  "
   ]
  }
 ],
 "metadata": {
  "kernelspec": {
   "display_name": "Python 3 (ipykernel)",
   "language": "python",
   "name": "python3"
  },
  "language_info": {
   "codemirror_mode": {
    "name": "ipython",
    "version": 3
   },
   "file_extension": ".py",
   "mimetype": "text/x-python",
   "name": "python",
   "nbconvert_exporter": "python",
   "pygments_lexer": "ipython3",
   "version": "3.10.9"
  }
 },
 "nbformat": 4,
 "nbformat_minor": 5
}
