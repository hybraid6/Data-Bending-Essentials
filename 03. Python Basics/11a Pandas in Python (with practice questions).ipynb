{
 "cells": [
  {
   "cell_type": "markdown",
   "id": "050ea1ed",
   "metadata": {},
   "source": [
    "# Python Pandas"
   ]
  },
  {
   "cell_type": "markdown",
   "id": "41276a01",
   "metadata": {},
   "source": [
    "### What's Pandas\n",
    "\n",
    "- Pandas is an open-source data analysis and manipulation library for Python.\n",
    "- It provides data structures and functions needed to manipulate structured data seamlessly.\n",
    "- Pandas is built on top of NumPy and integrates well with other libraries such as Matplotlib and Scikit-learn."
   ]
  },
  {
   "cell_type": "code",
   "execution_count": null,
   "id": "bc853b1b",
   "metadata": {},
   "outputs": [],
   "source": [
    "# Import the warnings module, which provides a way to handle warning messages\n",
    "import warnings  \n",
    "\n",
    "# Suppress all warning messages to prevent them from being displayed  \n",
    "# This is useful in scenarios where warnings are not critical and can clutter the output\n",
    "warnings.filterwarnings(\"ignore\")  "
   ]
  },
  {
   "cell_type": "code",
   "execution_count": null,
   "id": "d7c81f1f",
   "metadata": {},
   "outputs": [],
   "source": [
    "# Import the pandas library for data manipulation and analysis\n",
    "import pandas as pd  \n",
    "\n",
    "# Import the numpy library for numerical computing and working with arrays\n",
    "import numpy as np  "
   ]
  },
  {
   "cell_type": "markdown",
   "id": "3cce3812",
   "metadata": {},
   "source": [
    "### Pandas Data Structures\n",
    "\n",
    "- Pandas primarily provides two data structures:\n",
    "1. Series: 1-dimensional labeled array capable of holding any data type.\n",
    "2. DataFrame: 2-dimensional labeled data structure with columns of potentially different types."
   ]
  },
  {
   "cell_type": "markdown",
   "id": "13babb1d",
   "metadata": {},
   "source": [
    "### How to Create Series\n",
    "\n",
    " Series can be created from lists, dictionaries, or scalar values."
   ]
  },
  {
   "cell_type": "code",
   "execution_count": null,
   "id": "f4afe31b",
   "metadata": {
    "scrolled": true
   },
   "outputs": [],
   "source": [
    "# Example: Creating Series from a list\n",
    "data = [1, 2, 3, 4, 5]\n",
    "series_from_list = pd.Series(data)\n",
    "print(series_from_list)"
   ]
  },
  {
   "cell_type": "code",
   "execution_count": null,
   "id": "9f98a1b7",
   "metadata": {},
   "outputs": [],
   "source": [
    "# Example: Creating Series from a dictionary\n",
    "data = {'a': 1, 'b': 2, 'c': 3}\n",
    "series_from_dict = pd.Series(data)\n",
    "series_from_dict"
   ]
  },
  {
   "cell_type": "code",
   "execution_count": null,
   "id": "96571843",
   "metadata": {},
   "outputs": [],
   "source": [
    "# Practice Questions:\n",
    "# 1. Create a Pandas Series from a list of numbers [10, 20, 30, 40, 50].\n",
    "# 2. Create a Pandas Series from a dictionary {'x': 100, 'y': 200, 'z': 300}."
   ]
  },
  {
   "cell_type": "markdown",
   "id": "7bbb7681",
   "metadata": {},
   "source": [
    "### Series Changing Index\n",
    "\n",
    "- You can change the index of a Series using the index attribute."
   ]
  },
  {
   "cell_type": "code",
   "execution_count": null,
   "id": "70971d51",
   "metadata": {},
   "outputs": [],
   "source": [
    "# Example: Changing index of a Series\n",
    "data = [1, 2, 3, 4, 5]\n",
    "new_data = pd.Series(data)\n",
    "new_data.index = ['a', 'b', 'c', 'd', 'e']\n",
    "print(new_data)"
   ]
  },
  {
   "cell_type": "code",
   "execution_count": null,
   "id": "8d543fa8",
   "metadata": {},
   "outputs": [],
   "source": [
    "# Reset the index and keep as Series\n",
    "new_data = new_data.reset_index(drop=True)\n",
    "new_data"
   ]
  },
  {
   "cell_type": "code",
   "execution_count": null,
   "id": "a11995c5",
   "metadata": {},
   "outputs": [],
   "source": [
    "# Practice Questions:\n",
    "# 1. Create a Pandas Series and change its index to ['p', 'q', 'r', 's', 't'].\n",
    "# 2. Explain why changing the index of a Series might be useful."
   ]
  },
  {
   "cell_type": "markdown",
   "id": "49914662",
   "metadata": {},
   "source": [
    "### Series Addition\n",
    "\n",
    "- Series support element-wise operations, including addition."
   ]
  },
  {
   "cell_type": "code",
   "execution_count": null,
   "id": "74ea1c94",
   "metadata": {},
   "outputs": [],
   "source": [
    "# Example: Adding two Series\n",
    "series1 = pd.Series([1, 2, 3])\n",
    "series2 = pd.Series([4, 5, 6])\n",
    "result = series1 + series2\n",
    "print(result)"
   ]
  },
  {
   "cell_type": "code",
   "execution_count": null,
   "id": "292c681f",
   "metadata": {},
   "outputs": [],
   "source": [
    "# Practice Questions:\n",
    "# 1. Create two Pandas Series and perform element-wise addition.\n",
    "# 2. What happens if the Series have different indices?"
   ]
  },
  {
   "cell_type": "markdown",
   "id": "d4944efa",
   "metadata": {},
   "source": [
    "### What's a DataFrame\n",
    "\n",
    "- A DataFrame is a 2-dimensional labeled data structure with columns of potentially different types.\n",
    "- It is similar to a table in a database or an Excel spreadsheet."
   ]
  },
  {
   "cell_type": "markdown",
   "id": "2dd2b1a6",
   "metadata": {},
   "source": [
    "### How to Create DataFrames\n",
    "\n",
    "- DataFrames can be created from dictionaries, lists of dictionaries, or other DataFrames."
   ]
  },
  {
   "cell_type": "code",
   "execution_count": null,
   "id": "e316e39a",
   "metadata": {
    "scrolled": true
   },
   "outputs": [],
   "source": [
    "# Example: Creating DataFrame from a dictionary\n",
    "data = {'name': ['Suki', 'Mai', 'Azula'], 'age': [15, 14, 16]}\n",
    "df1 = pd.DataFrame(data)\n",
    "df1"
   ]
  },
  {
   "cell_type": "code",
   "execution_count": null,
   "id": "c0e7ae08",
   "metadata": {},
   "outputs": [],
   "source": [
    "# Practice Questions:\n",
    "# 1. Create a Pandas DataFrame from a dictionary with keys 'product' and 'price'.\n",
    "# 2. Create a Pandas DataFrame from a list of dictionaries."
   ]
  },
  {
   "cell_type": "markdown",
   "id": "c3ecac1b",
   "metadata": {},
   "source": [
    "### Exporting DataFrame into CSV\n",
    "\n",
    "- DataFrames can be exported to CSV files using the `to_csv()` method."
   ]
  },
  {
   "cell_type": "code",
   "execution_count": null,
   "id": "f723f745",
   "metadata": {},
   "outputs": [],
   "source": [
    "# Example: Exporting DataFrame to CSV\n",
    "df1.to_csv('data1.csv', index=False)"
   ]
  },
  {
   "cell_type": "code",
   "execution_count": null,
   "id": "34d36d38",
   "metadata": {},
   "outputs": [],
   "source": [
    "# Practice Questions:\n",
    "# 1. Write a Pandas DataFrame to a CSV file named 'output.csv'.\n",
    "# 2. Explain the purpose of the 'index' parameter in the to_csv() method."
   ]
  },
  {
   "cell_type": "markdown",
   "id": "5e8ab573",
   "metadata": {},
   "source": [
    "### Importing CSV into DataFrame\n",
    "\n",
    "- CSV files can be imported to dataframes using the `read_csv()` method."
   ]
  },
  {
   "cell_type": "code",
   "execution_count": null,
   "id": "c58f7671",
   "metadata": {
    "scrolled": true
   },
   "outputs": [],
   "source": [
    "df2 = pd.read_csv('data1.csv')\n",
    "df2"
   ]
  },
  {
   "cell_type": "code",
   "execution_count": null,
   "id": "d8c7b783",
   "metadata": {},
   "outputs": [],
   "source": [
    "# Import the titanic dataset\n",
    "titanic_df = pd.read_csv('train.csv')"
   ]
  },
  {
   "cell_type": "code",
   "execution_count": null,
   "id": "eafc8943",
   "metadata": {},
   "outputs": [],
   "source": [
    "# Display the dataset\n",
    "titanic_df"
   ]
  },
  {
   "cell_type": "markdown",
   "id": "de89b406",
   "metadata": {},
   "source": [
    "### Getting Information and Description from DataFrame\n",
    "\n",
    "- Use the `head()` method to view the first few lines, `info()` method to get a summary of the DataFrame, and `describe()` to get statistical details."
   ]
  },
  {
   "cell_type": "code",
   "execution_count": null,
   "id": "311906f2",
   "metadata": {},
   "outputs": [],
   "source": [
    "titanic_df.head() #display first 5 rows"
   ]
  },
  {
   "cell_type": "code",
   "execution_count": null,
   "id": "4e2551a7",
   "metadata": {},
   "outputs": [],
   "source": [
    "titanic_df.tail() #display last 5 rows"
   ]
  },
  {
   "cell_type": "code",
   "execution_count": null,
   "id": "9b0c215a",
   "metadata": {},
   "outputs": [],
   "source": [
    "titanic_df.sample(5) #display random 5 rows"
   ]
  },
  {
   "cell_type": "code",
   "execution_count": null,
   "id": "d3c05aa9",
   "metadata": {},
   "outputs": [],
   "source": [
    "titanic_df.iloc[[500]] # Return row at index 500"
   ]
  },
  {
   "cell_type": "code",
   "execution_count": null,
   "id": "539082e1",
   "metadata": {},
   "outputs": [],
   "source": [
    "# pd.set_option('display.max_rows', None) # Make Pandas display all the rows\n",
    "# pd.reset_option('display.max_rows')  # As it was in the beginning"
   ]
  },
  {
   "cell_type": "code",
   "execution_count": null,
   "id": "df1bd451",
   "metadata": {},
   "outputs": [],
   "source": [
    "titanic_df"
   ]
  },
  {
   "cell_type": "code",
   "execution_count": null,
   "id": "2109d54f",
   "metadata": {},
   "outputs": [],
   "source": [
    "# Display a concise summary of the Titanic DataFrame\n",
    "titanic_df.info()"
   ]
  },
  {
   "cell_type": "code",
   "execution_count": null,
   "id": "983cd4b5",
   "metadata": {},
   "outputs": [],
   "source": [
    "# Generate summary statistics for numerical columns in the Titanic DataFrame\n",
    "# This includes count, mean, standard deviation, min, max, and quartiles\n",
    "titanic_df.describe()"
   ]
  },
  {
   "cell_type": "code",
   "execution_count": null,
   "id": "ca3a35c9",
   "metadata": {},
   "outputs": [],
   "source": [
    "# Generate summary statistics for only the categorical (object) columns in the Titanic DataFrame\n",
    "# This includes count, unique values, most frequent value (top), and its frequency (freq)\n",
    "titanic_df.describe(include='object')"
   ]
  },
  {
   "cell_type": "code",
   "execution_count": null,
   "id": "d03fa74c",
   "metadata": {},
   "outputs": [],
   "source": [
    "# Generate summary statistics for all columns (both numerical and categorical) in the Titanic DataFrame\n",
    "# The include='all' parameter ensures that all data types are considered\n",
    "# The .T (transpose) function flips the rows and columns for better readability\n",
    "titanic_df.describe(include='all').T"
   ]
  },
  {
   "cell_type": "code",
   "execution_count": null,
   "id": "5d4fc391",
   "metadata": {},
   "outputs": [],
   "source": [
    "# Practice Questions:\n",
    "# 1. Create a DataFrame and use the info() method to get its summary.\n",
    "# 2. Use the describe() method to get statistical details of a DataFrame."
   ]
  },
  {
   "cell_type": "markdown",
   "id": "79aa8483",
   "metadata": {},
   "source": [
    "### DataFrame Bracket Selection\n",
    "\n",
    "- You can select columns of a DataFrame using bracket notation."
   ]
  },
  {
   "cell_type": "code",
   "execution_count": null,
   "id": "fcf57379",
   "metadata": {
    "scrolled": true
   },
   "outputs": [],
   "source": [
    "df2"
   ]
  },
  {
   "cell_type": "code",
   "execution_count": null,
   "id": "adde847a",
   "metadata": {},
   "outputs": [],
   "source": [
    "# Example: Selecting column\n",
    "df2['name']  # Single column"
   ]
  },
  {
   "cell_type": "code",
   "execution_count": null,
   "id": "5232ee99",
   "metadata": {
    "scrolled": true
   },
   "outputs": [],
   "source": [
    "df2[['name', 'age']]  # Multiple columns"
   ]
  },
  {
   "cell_type": "code",
   "execution_count": null,
   "id": "1f8e920f",
   "metadata": {},
   "outputs": [],
   "source": [
    "titanic_df[['Age', 'Name',  'Sex']]"
   ]
  },
  {
   "cell_type": "code",
   "execution_count": null,
   "id": "dc6886ea",
   "metadata": {},
   "outputs": [],
   "source": [
    "# Practice Questions:\n",
    "# 1. Select a single column from a DataFrame using bracket notation.\n",
    "# 2. Select multiple columns from a DataFrame using bracket notation."
   ]
  },
  {
   "cell_type": "markdown",
   "id": "b54a9cd7",
   "metadata": {},
   "source": [
    "### Setting Index in DataFrame\n",
    "\n",
    "- You can set a column as the index of a DataFrame using the set_index() method."
   ]
  },
  {
   "cell_type": "code",
   "execution_count": null,
   "id": "9f897ec7",
   "metadata": {},
   "outputs": [],
   "source": [
    "# Example: Setting index\n",
    "df2.set_index('name', inplace=True)"
   ]
  },
  {
   "cell_type": "code",
   "execution_count": null,
   "id": "f8d10b01",
   "metadata": {},
   "outputs": [],
   "source": [
    "df2"
   ]
  },
  {
   "cell_type": "code",
   "execution_count": null,
   "id": "983b8cb6",
   "metadata": {},
   "outputs": [],
   "source": [
    "# Practice Questions:\n",
    "# 1. Set the index of a DataFrame to one of its columns.\n",
    "# 2. Explain why setting an index might be useful."
   ]
  },
  {
   "cell_type": "markdown",
   "id": "afa82754",
   "metadata": {},
   "source": [
    "### DataFrame loc/iloc\n",
    "\n",
    "- loc is used for label-based indexing, while iloc is used for integer-based indexing."
   ]
  },
  {
   "cell_type": "code",
   "execution_count": null,
   "id": "3cffd6b4",
   "metadata": {},
   "outputs": [],
   "source": [
    "# Example: Using loc and iloc\n",
    "print(df2.loc['Suki'])  # Label-based\n",
    "print(df2.iloc[0])  # Integer-based"
   ]
  },
  {
   "cell_type": "code",
   "execution_count": null,
   "id": "070857c7",
   "metadata": {},
   "outputs": [],
   "source": [
    "df2.loc[['Azula', 'Mai']]"
   ]
  },
  {
   "cell_type": "code",
   "execution_count": null,
   "id": "501639b8",
   "metadata": {},
   "outputs": [],
   "source": [
    "# Practice Questions:\n",
    "# 1. Use loc to select rows by labels.\n",
    "# 2. Use iloc to select rows by integer positions."
   ]
  },
  {
   "cell_type": "markdown",
   "id": "cca8c528",
   "metadata": {},
   "source": [
    "### Add New Column to DataFrame"
   ]
  },
  {
   "cell_type": "code",
   "execution_count": null,
   "id": "b1ccd372",
   "metadata": {},
   "outputs": [],
   "source": [
    "df2['Gender'] = ['female', 'female', 'female']\n",
    "df2"
   ]
  },
  {
   "cell_type": "markdown",
   "id": "606172e6",
   "metadata": {},
   "source": [
    "### Add New Row to DataFrame"
   ]
  },
  {
   "cell_type": "code",
   "execution_count": null,
   "id": "75ea393f",
   "metadata": {},
   "outputs": [],
   "source": [
    "df2.loc['Bolu'] = [17,np.nan]"
   ]
  },
  {
   "cell_type": "code",
   "execution_count": null,
   "id": "64279ea6",
   "metadata": {},
   "outputs": [],
   "source": [
    "df2"
   ]
  },
  {
   "cell_type": "markdown",
   "id": "02f003a8",
   "metadata": {},
   "source": [
    "### DataFrame Drop\n",
    "\n",
    "- You can drop rows or columns from a DataFrame using the drop() method."
   ]
  },
  {
   "cell_type": "code",
   "execution_count": null,
   "id": "d8d8467f",
   "metadata": {},
   "outputs": [],
   "source": [
    "# Example: Dropping rows and columns\n",
    "df2.drop('Azula', inplace=True)  # Dropping a row\n",
    "df2"
   ]
  },
  {
   "cell_type": "code",
   "execution_count": null,
   "id": "41891434",
   "metadata": {},
   "outputs": [],
   "source": [
    "df2.drop('age', axis=1, inplace=True)  # Dropping a column\n",
    "df2"
   ]
  },
  {
   "cell_type": "code",
   "execution_count": null,
   "id": "54a7a504",
   "metadata": {},
   "outputs": [],
   "source": [
    "# Practice Questions:\n",
    "# 1. Drop a row from a DataFrame.\n",
    "# 2. Drop a column from a DataFrame."
   ]
  },
  {
   "cell_type": "markdown",
   "id": "94598df7",
   "metadata": {},
   "source": [
    "### DataFrame Concatenation\n",
    "\n",
    "- You can concatenate DataFrames using the concat() function."
   ]
  },
  {
   "cell_type": "code",
   "execution_count": null,
   "id": "6c20232b",
   "metadata": {},
   "outputs": [],
   "source": [
    "# Example: Concatenating DataFrames by Rows\n",
    "df1 = pd.DataFrame({'A': [1, 2], 'B': [3, 4]})\n",
    "df2 = pd.DataFrame({'A': [5, 6], 'B': [7, 8]})"
   ]
  },
  {
   "cell_type": "code",
   "execution_count": null,
   "id": "170a0f42",
   "metadata": {},
   "outputs": [],
   "source": [
    "df1"
   ]
  },
  {
   "cell_type": "code",
   "execution_count": null,
   "id": "d32bd58f",
   "metadata": {},
   "outputs": [],
   "source": [
    "df2"
   ]
  },
  {
   "cell_type": "code",
   "execution_count": null,
   "id": "99789c35",
   "metadata": {
    "scrolled": true
   },
   "outputs": [],
   "source": [
    "df_concat = pd.concat([df1, df2],  ignore_index=True) \n",
    "df_concat"
   ]
  },
  {
   "cell_type": "code",
   "execution_count": null,
   "id": "127a2610",
   "metadata": {
    "scrolled": true
   },
   "outputs": [],
   "source": [
    "# Example: Concatenating DataFrames by Columns\n",
    "df1 = pd.DataFrame({'A': [1, 2], 'B': [3, 4]})\n",
    "df2 = pd.DataFrame({'C': [5, 6], 'D': [7, 8]})"
   ]
  },
  {
   "cell_type": "code",
   "execution_count": null,
   "id": "f445d339",
   "metadata": {},
   "outputs": [],
   "source": [
    "# Concatenate df1 and df2 along columns (axis=1) to merge them side by side\n",
    "df_concat2 = pd.concat([df1, df2], axis = 1)\n",
    "df_concat2"
   ]
  },
  {
   "cell_type": "code",
   "execution_count": null,
   "id": "5d91453a",
   "metadata": {},
   "outputs": [],
   "source": [
    "# Practice Questions:\n",
    "# 1. Concatenate two DataFrames vertically.\n",
    "# 2. Concatenate two DataFrames horizontally (using the axis parameter)."
   ]
  },
  {
   "cell_type": "markdown",
   "id": "4c713c82",
   "metadata": {},
   "source": [
    "### Practice Questions"
   ]
  },
  {
   "cell_type": "markdown",
   "id": "0aaabd10",
   "metadata": {},
   "source": [
    "### Problem:\n",
    "\n",
    "Write a Pandas program to create and display a DataFrame from the following dictionary data with index labels:\n",
    "\n",
    "```\n",
    "student_data = {\n",
    "    'name': ['John', 'Sara', 'Tom', 'Lucy', 'Anna', 'Mike', 'Chris', 'Laura', 'Nick', 'Sophia'],\n",
    "    'math_score': [90, 85, 78, np.nan, 95, 88, 92, np.nan, 79, 85],\n",
    "    'english_score': [88, 92, 80, 76, 89, 85, 93, np.nan, 82, 88],\n",
    "    'attempts': [1, 2, 2, 3, 1, 2, 1, 1, 2, 3],\n",
    "    'pass': ['yes', 'yes', 'yes', 'no', 'yes', 'yes', 'yes', 'no', 'yes', 'yes']\n",
    "}\n",
    "\n",
    "labels = ['a', 'b', 'c', 'd', 'e', 'f', 'g', 'h', 'i', 'j']\n",
    "```"
   ]
  },
  {
   "cell_type": "markdown",
   "id": "ab1331af",
   "metadata": {},
   "source": [
    "##### Instructions:\n",
    "1. Print the first three rows using the `head()` method.\n",
    "2. Delete rows with NaN values.\n",
    "3. Extract the 'name' and 'math_score' columns from the DataFrame.\n",
    "4. Append a new row 'k' to the DataFrame with these values (name: \"Alex\", math_score: 88, english_score: 91, attempts: 1, pass: \"yes\").\n",
    "5. Delete the 'attempts' column from the DataFrame.\n",
    "6. Add a new column \"olympiad_team\" that will have a value of 1 if the average score (math and english) is higher than 90, else 0.\n",
    "7. Export the final DataFrame to a CSV file named \"student_data.csv\"."
   ]
  },
  {
   "cell_type": "code",
   "execution_count": null,
   "id": "929425ef-6cda-4a64-8116-f7b0cd2fbb1d",
   "metadata": {},
   "outputs": [],
   "source": []
  },
  {
   "cell_type": "markdown",
   "id": "b51fe49a-cb1c-473c-be91-24208210623e",
   "metadata": {},
   "source": [
    "---\n",
    "_**Your Dataness**_,  \n",
    "`Obinna Oliseneku` (_**Hybraid**_)  \n",
    "**[LinkedIn](https://www.linkedin.com/in/obinnao/)** | **[GitHub](https://github.com/hybraid6)**  "
   ]
  }
 ],
 "metadata": {
  "kernelspec": {
   "display_name": "Python 3 (ipykernel)",
   "language": "python",
   "name": "python3"
  },
  "language_info": {
   "codemirror_mode": {
    "name": "ipython",
    "version": 3
   },
   "file_extension": ".py",
   "mimetype": "text/x-python",
   "name": "python",
   "nbconvert_exporter": "python",
   "pygments_lexer": "ipython3",
   "version": "3.12.7"
  }
 },
 "nbformat": 4,
 "nbformat_minor": 5
}
