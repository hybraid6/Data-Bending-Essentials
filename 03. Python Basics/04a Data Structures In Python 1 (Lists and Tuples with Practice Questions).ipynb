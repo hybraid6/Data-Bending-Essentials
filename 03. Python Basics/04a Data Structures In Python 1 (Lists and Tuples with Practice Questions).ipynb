{
 "cells": [
  {
   "cell_type": "markdown",
   "id": "0b9508ca",
   "metadata": {},
   "source": [
    "# Data Structures in Python\n",
    "Python provides several built-in data structures. They provide a way to store, retrieve, and manipulate data.\n",
    "1. List\n",
    "2. Tuple\n",
    "3. Dictionary\n",
    "4. Set"
   ]
  },
  {
   "cell_type": "markdown",
   "id": "1ee00e02",
   "metadata": {},
   "source": [
    "### Lists in Python\n",
    "- A list is an ordered collection of items that are mutable (can be changed).\n",
    "- Lists are created using square brackets []."
   ]
  },
  {
   "cell_type": "code",
   "execution_count": null,
   "id": "5fea05ba",
   "metadata": {},
   "outputs": [],
   "source": [
    "# Example of a list\n",
    "my_list = [1, 2, 3, 4, 5]\n",
    "print(my_list)"
   ]
  },
  {
   "cell_type": "code",
   "execution_count": null,
   "id": "8c39847a",
   "metadata": {},
   "outputs": [],
   "source": [
    "help(my_list)"
   ]
  },
  {
   "cell_type": "code",
   "execution_count": null,
   "id": "dc347fd5",
   "metadata": {},
   "outputs": [],
   "source": [
    "# Lists can contain different types of elements\n",
    "mixed_list = [1, \"hello\", 3.14, True]\n",
    "print(mixed_list)"
   ]
  },
  {
   "cell_type": "code",
   "execution_count": null,
   "id": "6ef9592e",
   "metadata": {},
   "outputs": [],
   "source": [
    "# Practice Questions:\n",
    "# 1. Create a list of your favorite fruits.\n",
    "# 2. Create a list that contains numbers, strings, and booleans."
   ]
  },
  {
   "cell_type": "markdown",
   "id": "95592046",
   "metadata": {},
   "source": [
    "#### How to Manipulate Lists"
   ]
  },
  {
   "cell_type": "markdown",
   "id": "a04e0eac",
   "metadata": {},
   "source": [
    "1. Accessing Elements\n",
    "- Elements in a list can be accessed using their index."
   ]
  },
  {
   "cell_type": "code",
   "execution_count": null,
   "id": "6b5ae0e3",
   "metadata": {},
   "outputs": [],
   "source": [
    "print(mixed_list[0])  # First element\n",
    "print(mixed_list[-1])  # Last element"
   ]
  },
  {
   "cell_type": "markdown",
   "id": "c2d44dc1",
   "metadata": {},
   "source": [
    "2. Adding Elements\n",
    "- You can add elements to a list using append(), insert(), or extend()."
   ]
  },
  {
   "cell_type": "code",
   "execution_count": null,
   "id": "448c241c",
   "metadata": {},
   "outputs": [],
   "source": [
    "my_list.append(6)  # Adds 6 at the end\n",
    "print(my_list)"
   ]
  },
  {
   "cell_type": "code",
   "execution_count": null,
   "id": "72a5357e",
   "metadata": {},
   "outputs": [],
   "source": [
    "my_list.insert(2, 2.5)  # Inserts 2.5 at index 2\n",
    "print(my_list)"
   ]
  },
  {
   "cell_type": "code",
   "execution_count": null,
   "id": "93427b32",
   "metadata": {
    "scrolled": true
   },
   "outputs": [],
   "source": [
    "my_list.extend([7,8])  # Adds multiple elements at the end\n",
    "print(my_list)"
   ]
  },
  {
   "cell_type": "markdown",
   "id": "fe592286",
   "metadata": {},
   "source": [
    "3. Removing Elements\n",
    "- You can remove elements using remove(), pop(), or del."
   ]
  },
  {
   "cell_type": "code",
   "execution_count": null,
   "id": "b9b63a64",
   "metadata": {},
   "outputs": [],
   "source": [
    "my_list.remove(2.5)  # Removes the first occurrence of 2.5\n",
    "print(my_list)"
   ]
  },
  {
   "cell_type": "code",
   "execution_count": null,
   "id": "c6c0ff6e",
   "metadata": {},
   "outputs": [],
   "source": [
    "my_list.pop()  # Removes the last element\n",
    "print(my_list)"
   ]
  },
  {
   "cell_type": "code",
   "execution_count": null,
   "id": "50c71fe1",
   "metadata": {
    "scrolled": true
   },
   "outputs": [],
   "source": [
    "del my_list[1]  # Removes the element at index 1\n",
    "print(my_list)"
   ]
  },
  {
   "cell_type": "markdown",
   "id": "f7af5c08",
   "metadata": {},
   "source": [
    "4. Slicing\n",
    "- You can slice a list to get a sublist."
   ]
  },
  {
   "cell_type": "code",
   "execution_count": null,
   "id": "332f579a",
   "metadata": {},
   "outputs": [],
   "source": [
    "sublist = my_list[1:4]  # Elements from index 1 to 3\n",
    "print(sublist)"
   ]
  },
  {
   "cell_type": "code",
   "execution_count": null,
   "id": "ac8cce78",
   "metadata": {},
   "outputs": [],
   "source": [
    "my_list[::-1]"
   ]
  },
  {
   "cell_type": "markdown",
   "id": "92286b94",
   "metadata": {},
   "source": [
    "5. List Comprehension\n",
    "- List comprehensions provide a concise way to create lists."
   ]
  },
  {
   "cell_type": "code",
   "execution_count": null,
   "id": "4ea6769e",
   "metadata": {},
   "outputs": [],
   "source": [
    "squares = [x**2 for x in [0,1,2,3,4,5,6,7,8,9]]\n",
    "print(squares)"
   ]
  },
  {
   "cell_type": "code",
   "execution_count": null,
   "id": "7a1297e2",
   "metadata": {},
   "outputs": [],
   "source": [
    "x = range(0,30,2)\n",
    "x = list(x)\n",
    "x"
   ]
  },
  {
   "cell_type": "code",
   "execution_count": null,
   "id": "059fea70",
   "metadata": {},
   "outputs": [],
   "source": [
    "squares = [x**2 for x in range(10)]\n",
    "print(squares)"
   ]
  },
  {
   "cell_type": "code",
   "execution_count": null,
   "id": "6710a8f9",
   "metadata": {
    "scrolled": true
   },
   "outputs": [],
   "source": [
    "squares[8] = 26\n",
    "squares"
   ]
  },
  {
   "cell_type": "code",
   "execution_count": null,
   "id": "1707c66c",
   "metadata": {},
   "outputs": [],
   "source": [
    "# Practice Questions:\n",
    "# 1. Create a list of numbers from 1 to 5, then add the number 6 to the list.\n",
    "# 2. Remove the second element from the list.\n",
    "# 3. Slice the list to get the last three elements.\n",
    "# 4. Create a list of the cubes of numbers from 1 to 10 using list comprehension."
   ]
  },
  {
   "cell_type": "code",
   "execution_count": null,
   "id": "b01da15d",
   "metadata": {},
   "outputs": [],
   "source": [
    "a, b, c, d = 5, 3.2, \"Hello\", [1,2,3]\n",
    "\n",
    "print(d)"
   ]
  },
  {
   "cell_type": "code",
   "execution_count": null,
   "id": "72268fe6",
   "metadata": {
    "scrolled": true
   },
   "outputs": [],
   "source": [
    "6 not in d"
   ]
  },
  {
   "cell_type": "markdown",
   "id": "25506a67",
   "metadata": {},
   "source": [
    "### Tuples in Python\n",
    "\n",
    "- A tuple is an ordered collection of items that are immutable (cannot be changed).\n",
    "- Tuples are created using parentheses ()."
   ]
  },
  {
   "cell_type": "code",
   "execution_count": null,
   "id": "d6e28dc1",
   "metadata": {},
   "outputs": [],
   "source": [
    "# Example of a tuple\n",
    "my_tuple = (1, 2, 3, 4, 5)\n",
    "print(my_tuple)"
   ]
  },
  {
   "cell_type": "code",
   "execution_count": null,
   "id": "1f897619",
   "metadata": {},
   "outputs": [],
   "source": [
    "# Tuples can contain different types of elements\n",
    "mixed_tuple = (1, \"hello\", 3.14, True)\n",
    "print(mixed_tuple)"
   ]
  },
  {
   "cell_type": "markdown",
   "id": "4d0a6db2",
   "metadata": {},
   "source": [
    "Accessing Elements\n",
    "- Elements in a tuple can be accessed using their index."
   ]
  },
  {
   "cell_type": "code",
   "execution_count": null,
   "id": "657ccd0c",
   "metadata": {
    "scrolled": true
   },
   "outputs": [],
   "source": [
    "print(my_tuple[0])  # First element\n",
    "print(my_tuple[-1])  # Last element"
   ]
  },
  {
   "cell_type": "code",
   "execution_count": null,
   "id": "18666e59",
   "metadata": {},
   "outputs": [],
   "source": [
    "# Practice Questions:\n",
    "# 1. Create a tuple of your favorite colors.\n",
    "# 2. Try changing an element in the tuple and observe what happens.\n",
    "# 3. Access the first and last elements of the tuple."
   ]
  },
  {
   "cell_type": "markdown",
   "id": "566acf76",
   "metadata": {},
   "source": [
    "### Tuples vs Lists\n",
    "- Tuples are immutable, while lists are mutable.\n",
    "- Tuples use less memory and are faster than lists.\n",
    "- Tuples can be used as keys in dictionaries, while lists cannot."
   ]
  },
  {
   "cell_type": "markdown",
   "id": "42898dfb",
   "metadata": {},
   "source": [
    "### Advanced List Operations"
   ]
  },
  {
   "cell_type": "markdown",
   "id": "cb5afc50",
   "metadata": {},
   "source": [
    "1. Sorting\n",
    "- You can sort a list using the sort() method or the sorted() function."
   ]
  },
  {
   "cell_type": "code",
   "execution_count": null,
   "id": "2c3c75ef",
   "metadata": {},
   "outputs": [],
   "source": [
    "help(my_list.sort)"
   ]
  },
  {
   "cell_type": "code",
   "execution_count": null,
   "id": "adf0ca69",
   "metadata": {},
   "outputs": [],
   "source": [
    "my_list = [3, 1, 4, 1, 5, 9, 2, 6, 5]\n",
    "my_list.sort()  # Sorts the list in place\n",
    "print(my_list)"
   ]
  },
  {
   "cell_type": "code",
   "execution_count": null,
   "id": "a95bccb2",
   "metadata": {},
   "outputs": [],
   "source": [
    "sorted_list = sorted(my_list, reverse=True)  # Returns a new sorted list\n",
    "print(sorted_list)"
   ]
  },
  {
   "cell_type": "markdown",
   "id": "dcc5a791",
   "metadata": {},
   "source": [
    "2. Reversing\n",
    "- You can reverse a list using the reverse() method or slicing."
   ]
  },
  {
   "cell_type": "code",
   "execution_count": null,
   "id": "5dc75c45",
   "metadata": {},
   "outputs": [],
   "source": [
    "my_list.reverse()  # Reverses the list in place\n",
    "print(my_list)"
   ]
  },
  {
   "cell_type": "code",
   "execution_count": null,
   "id": "066a5bb0",
   "metadata": {},
   "outputs": [],
   "source": [
    "reversed_list = my_list[::-1]  # Returns a new reversed list\n",
    "print(reversed_list)"
   ]
  },
  {
   "cell_type": "code",
   "execution_count": null,
   "id": "38c16983",
   "metadata": {},
   "outputs": [],
   "source": [
    "# Practice Questions:\n",
    "# 1. Create a list of random numbers and sort it.\n",
    "# 2. Reverse the sorted list and print the result.\n",
    "# 3. Create a list of words and sort them in alphabetical order."
   ]
  },
  {
   "cell_type": "markdown",
   "id": "be5d40d2",
   "metadata": {},
   "source": [
    "---\n",
    "_**Your Dataness**_,  \n",
    "`Obinna Oliseneku` (_**Hybraid**_)  \n",
    "**[LinkedIn](https://www.linkedin.com/in/obinnao/)** | **[GitHub](https://github.com/hybraid6)**  "
   ]
  }
 ],
 "metadata": {
  "kernelspec": {
   "display_name": "Python 3 (ipykernel)",
   "language": "python",
   "name": "python3"
  },
  "language_info": {
   "codemirror_mode": {
    "name": "ipython",
    "version": 3
   },
   "file_extension": ".py",
   "mimetype": "text/x-python",
   "name": "python",
   "nbconvert_exporter": "python",
   "pygments_lexer": "ipython3",
   "version": "3.10.9"
  }
 },
 "nbformat": 4,
 "nbformat_minor": 5
}
