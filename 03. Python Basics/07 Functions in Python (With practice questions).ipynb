{
 "cells": [
  {
   "cell_type": "markdown",
   "id": "b8d7b4af",
   "metadata": {},
   "source": [
    "# What is a Function\n",
    "\n",
    "- A function is a block of code that performs a specific task.\n",
    "- Functions help in breaking the code into smaller, modular, and reusable blocks.\n",
    "- They improve code readability and reduce redundancy.\n"
   ]
  },
  {
   "cell_type": "markdown",
   "id": "a88fb52c",
   "metadata": {},
   "source": [
    "### How to Create a Function\n",
    "\n",
    "- Functions are defined using the `def` keyword followed by the function name and parentheses ().\n",
    "- The function body is indented and contains the code to be executed."
   ]
  },
  {
   "cell_type": "code",
   "execution_count": null,
   "id": "39b7efc2",
   "metadata": {},
   "outputs": [],
   "source": [
    "# Example of a function\n",
    "def greet():\n",
    "    print(\"Bonjour, mon ami!\")"
   ]
  },
  {
   "cell_type": "code",
   "execution_count": null,
   "id": "3676cd88",
   "metadata": {},
   "outputs": [],
   "source": [
    "# Calling the function\n",
    "greet()"
   ]
  },
  {
   "cell_type": "code",
   "execution_count": null,
   "id": "82f5e3fc",
   "metadata": {},
   "outputs": [],
   "source": [
    "# Practice Questions:\n",
    "# 1. Define a function named 'welcome' that prints \"Welcome to Python\".\n",
    "# 2. Call the 'welcome' function."
   ]
  },
  {
   "cell_type": "markdown",
   "id": "043368d6",
   "metadata": {},
   "source": [
    "### Function Parameters\n",
    "\n",
    "- Functions can accept parameters (also called arguments) to make them more flexible and reusable.\n",
    "- Parameters are specified within the parentheses in the function definition."
   ]
  },
  {
   "cell_type": "code",
   "execution_count": null,
   "id": "2bacc6dc",
   "metadata": {},
   "outputs": [],
   "source": [
    "# Example of a function with a parameter\n",
    "def greet(name):\n",
    "    print(f\"Bonjour, {name}!\")"
   ]
  },
  {
   "cell_type": "code",
   "execution_count": null,
   "id": "2f314f69",
   "metadata": {
    "scrolled": true
   },
   "outputs": [],
   "source": [
    "# Calling the function with an argument\n",
    "greet(\"Kparobo\")"
   ]
  },
  {
   "cell_type": "markdown",
   "id": "d4ddf5ef",
   "metadata": {},
   "source": [
    "### Function Multiple Parameters\n",
    "\n",
    "- Functions can accept multiple parameters, separated by commas."
   ]
  },
  {
   "cell_type": "code",
   "execution_count": null,
   "id": "9bf0601b",
   "metadata": {},
   "outputs": [],
   "source": [
    "# Example of a function with multiple parameters\n",
    "def add(a, b):\n",
    "    return a + b"
   ]
  },
  {
   "cell_type": "code",
   "execution_count": null,
   "id": "20c36df7",
   "metadata": {
    "scrolled": true
   },
   "outputs": [],
   "source": [
    "# Calling the function with arguments\n",
    "result = add(3, 5)\n",
    "print(result)  # Output: 8"
   ]
  },
  {
   "cell_type": "code",
   "execution_count": null,
   "id": "835de4bd",
   "metadata": {},
   "outputs": [],
   "source": [
    "# Practice Questions:\n",
    "# 1. Define a function named 'Introduction' that takes two parameters (name and age) and returns \n",
    "# \"Hi, My name is 'name', I'm 'age' years old\" .\n",
    "# 2. Call the Introduction function with different arguments and print the result."
   ]
  },
  {
   "cell_type": "code",
   "execution_count": null,
   "id": "28803f13",
   "metadata": {},
   "outputs": [],
   "source": [
    "# 1. Define a function named hometown_info that takes three parameters (name, hometown, and famous_for) \n",
    "# and returns the following string:\n",
    "# \"Hello, I'm 'name' from 'hometown'. My hometown is famous for 'famous_for'.\"\n",
    "\n",
    "# 2. Call the hometown_info function with different arguments to describe various people and their hometowns,\n",
    "# then print each result."
   ]
  },
  {
   "cell_type": "markdown",
   "id": "f6340fb5",
   "metadata": {},
   "source": [
    "### Function with Default Parameter\n",
    "\n",
    "- You can provide default values for parameters. If an argument is not provided, the default value is used."
   ]
  },
  {
   "cell_type": "code",
   "execution_count": null,
   "id": "e12c5b63",
   "metadata": {},
   "outputs": [],
   "source": [
    "# Example of a function with a default parameter\n",
    "def greet(name=\"Guest\"):\n",
    "    print(f\"Hello, {name}!\")"
   ]
  },
  {
   "cell_type": "code",
   "execution_count": null,
   "id": "69069c3d",
   "metadata": {},
   "outputs": [],
   "source": [
    "# Calling the function with and without an argument\n",
    "greet(\"Vona\")"
   ]
  },
  {
   "cell_type": "code",
   "execution_count": null,
   "id": "b690569b",
   "metadata": {
    "scrolled": true
   },
   "outputs": [],
   "source": [
    "greet()  # Uses the default value"
   ]
  },
  {
   "cell_type": "code",
   "execution_count": null,
   "id": "fd30509d",
   "metadata": {},
   "outputs": [],
   "source": [
    "# Practice Questions:\n",
    "# 1. Define a function named 'power' that takes two parameters: base and exponent, with a default value of 2 for the exponent.\n",
    "# 2. Call the 'power' function with different arguments and print the result."
   ]
  },
  {
   "cell_type": "markdown",
   "id": "d1bd2732",
   "metadata": {},
   "source": [
    "### The Return Statement\n",
    "\n",
    "- The return statement is used to exit a function and return a value."
   ]
  },
  {
   "cell_type": "code",
   "execution_count": null,
   "id": "097d12eb",
   "metadata": {},
   "outputs": [],
   "source": [
    "# Example of a function with a return statement\n",
    "def square(x):\n",
    "    return x ** 2"
   ]
  },
  {
   "cell_type": "code",
   "execution_count": null,
   "id": "e865576e",
   "metadata": {},
   "outputs": [],
   "source": [
    "# Calling the function and storing the return value\n",
    "result = square(4)\n",
    "print(result)  # Output: 16"
   ]
  },
  {
   "cell_type": "code",
   "execution_count": null,
   "id": "03b03803",
   "metadata": {},
   "outputs": [],
   "source": [
    "# Practice Questions:\n",
    "# 1. Define a function named 'subtract' that takes two parameters and returns their difference.\n",
    "# 2. Call the 'subtract' function and print the result."
   ]
  },
  {
   "cell_type": "markdown",
   "id": "47794ec0",
   "metadata": {},
   "source": [
    "## Lambda Function\n",
    "\n",
    "- A lambda function is a small anonymous function defined using the 'lambda' keyword.\n",
    "- Lambda functions can have any number of parameters but only one expression."
   ]
  },
  {
   "cell_type": "code",
   "execution_count": null,
   "id": "1373c03f",
   "metadata": {},
   "outputs": [],
   "source": [
    "def square(x):\n",
    "    return x**2"
   ]
  },
  {
   "cell_type": "code",
   "execution_count": null,
   "id": "66687c9a",
   "metadata": {},
   "outputs": [],
   "source": [
    "square(5)"
   ]
  },
  {
   "cell_type": "code",
   "execution_count": null,
   "id": "7ba776ed",
   "metadata": {},
   "outputs": [],
   "source": [
    "# Example of a lambda function\n",
    "square1 = lambda x: x ** 2\n",
    "print(square1(5))  # Output: 25"
   ]
  },
  {
   "cell_type": "code",
   "execution_count": null,
   "id": "f4756402",
   "metadata": {},
   "outputs": [],
   "source": [
    "# Lambda function with multiple parameters\n",
    "add = lambda a, b: a + b\n",
    "print(add(3, 5))  # Output: 8"
   ]
  },
  {
   "cell_type": "code",
   "execution_count": null,
   "id": "f38f39a4",
   "metadata": {},
   "outputs": [],
   "source": [
    "# Practice Questions:\n",
    "# 1. Define a lambda function that multiplies two numbers.\n",
    "# 2. Use the lambda function to multiply different pairs of numbers and print the result."
   ]
  },
  {
   "cell_type": "markdown",
   "id": "398f89c3",
   "metadata": {},
   "source": [
    "## Map Function\n",
    "\n",
    "- The map() function applies a given function to all items in an input list (or any iterable) and returns a map object (an iterator)."
   ]
  },
  {
   "cell_type": "code",
   "execution_count": null,
   "id": "c528b5e4",
   "metadata": {},
   "outputs": [],
   "source": [
    "# Example of the map() function\n",
    "numbers = [1, 2, 3, 4, 5]\n",
    "squares = map(lambda x: x ** 2, numbers)"
   ]
  },
  {
   "cell_type": "code",
   "execution_count": null,
   "id": "a268b613",
   "metadata": {
    "scrolled": true
   },
   "outputs": [],
   "source": [
    "squares"
   ]
  },
  {
   "cell_type": "code",
   "execution_count": null,
   "id": "26c6ce86",
   "metadata": {},
   "outputs": [],
   "source": [
    "# Converting the map object to a list\n",
    "squares_list = list(squares)\n",
    "print(squares_list)  # Output: [1, 4, 9, 16, 25]"
   ]
  },
  {
   "cell_type": "code",
   "execution_count": null,
   "id": "28f5a2f9",
   "metadata": {},
   "outputs": [],
   "source": [
    "# Practice Questions:\n",
    "# 1. Use the map() function to apply a lambda function that adds 10 to each element in a list of numbers.\n",
    "# 2. Convert the map object to a list and print the result."
   ]
  },
  {
   "cell_type": "markdown",
   "id": "39d5bedf",
   "metadata": {},
   "source": [
    "### Combining Functions and Lambda Functions"
   ]
  },
  {
   "cell_type": "code",
   "execution_count": null,
   "id": "4c4bebd7",
   "metadata": {},
   "outputs": [],
   "source": [
    "# Example of combining functions and lambda functions with the map() function\n",
    "def apply_operation(operation, numbers):\n",
    "    '''\n",
    "    This takes an operation applies it to an iterable and converts the result to a list\n",
    "    '''\n",
    "    vilgax = list(map(operation, numbers))\n",
    "    return vilgax"
   ]
  },
  {
   "cell_type": "code",
   "execution_count": null,
   "id": "e4478e3a",
   "metadata": {},
   "outputs": [],
   "source": [
    "# Using the function with a lambda function\n",
    "result = apply_operation(lambda x: x * 2, [1, 2, 3, 4, 5])\n",
    "print(result)  # Output: [2, 4, 6, 8, 10]"
   ]
  },
  {
   "cell_type": "code",
   "execution_count": null,
   "id": "969f2d9d",
   "metadata": {},
   "outputs": [],
   "source": [
    "# Practice Questions:\n",
    "# 1. Define a function named 'apply_operation' that takes a function and a list of numbers, and returns the result of applying the function to each number.\n",
    "# 2. Use the 'apply_operation' function with a lambda function that subtracts 1 from each element in a list of numbers."
   ]
  },
  {
   "cell_type": "code",
   "execution_count": null,
   "id": "7bc46133",
   "metadata": {},
   "outputs": [],
   "source": []
  },
  {
   "cell_type": "code",
   "execution_count": null,
   "id": "fb0670b1",
   "metadata": {},
   "outputs": [],
   "source": [
    "def collect_user_info():\n",
    "    first_name = input(\"Enter your first name: \")\n",
    "    last_name = input(\"Enter your last name: \")\n",
    "    age = input(\"Enter your age: \")\n",
    "    \n",
    "    print(f\"Hello, {first_name} {last_name}! You are {age} years old.\")"
   ]
  },
  {
   "cell_type": "code",
   "execution_count": null,
   "id": "cf610273",
   "metadata": {},
   "outputs": [],
   "source": [
    "collect_user_info()"
   ]
  }
 ],
 "metadata": {
  "kernelspec": {
   "display_name": "Python 3 (ipykernel)",
   "language": "python",
   "name": "python3"
  },
  "language_info": {
   "codemirror_mode": {
    "name": "ipython",
    "version": 3
   },
   "file_extension": ".py",
   "mimetype": "text/x-python",
   "name": "python",
   "nbconvert_exporter": "python",
   "pygments_lexer": "ipython3",
   "version": "3.10.9"
  }
 },
 "nbformat": 4,
 "nbformat_minor": 5
}
