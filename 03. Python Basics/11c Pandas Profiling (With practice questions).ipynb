{
 "cells": [
  {
   "cell_type": "markdown",
   "id": "b89c1501",
   "metadata": {},
   "source": [
    "# Pandas Profiling\n",
    "\n",
    "- Pandas Profiling is a tool that generates a comprehensive report for a DataFrame, including descriptive statistics, visualizations, and insights.\n",
    "- It helps in understanding the data better by providing a detailed summary of each feature."
   ]
  },
  {
   "cell_type": "code",
   "execution_count": null,
   "id": "e6101fbf",
   "metadata": {},
   "outputs": [],
   "source": [
    "#!pip install pydantic-settings"
   ]
  },
  {
   "cell_type": "code",
   "execution_count": null,
   "id": "b0f6722e",
   "metadata": {},
   "outputs": [],
   "source": [
    "# Upgrade necessary packages\n",
    "#!pip install --upgrade typing-extensions\n",
    "!pip install ydata-profiling\n",
    "#!pip install --upgrade pydantic"
   ]
  },
  {
   "cell_type": "code",
   "execution_count": null,
   "id": "3d2795c8",
   "metadata": {},
   "outputs": [],
   "source": [
    "import pandas as pd\n",
    "import seaborn as sns\n",
    "from ydata_profiling import ProfileReport"
   ]
  },
  {
   "cell_type": "code",
   "execution_count": null,
   "id": "2591b2e8",
   "metadata": {},
   "outputs": [],
   "source": [
    "# Load the Titanic dataset\n",
    "titanic = sns.load_dataset('titanic')"
   ]
  },
  {
   "cell_type": "code",
   "execution_count": null,
   "id": "5cbe4b55",
   "metadata": {},
   "outputs": [],
   "source": [
    "sns.get_dataset_names()"
   ]
  },
  {
   "cell_type": "markdown",
   "id": "dbf87b56",
   "metadata": {},
   "source": [
    "### Why Pandas Profiling?\n",
    "\n",
    "- Pandas Profiling helps to quickly understand the structure, quality, and distribution of the data.\n",
    "- It saves time by automating the data exploration process, allowing you to focus on the analysis and modeling steps."
   ]
  },
  {
   "cell_type": "markdown",
   "id": "da6b76fa",
   "metadata": {},
   "source": [
    "#### Pandas Profiling in Action\n",
    "\n",
    "- Generate a Pandas Profiling report for the Titanic dataset"
   ]
  },
  {
   "cell_type": "code",
   "execution_count": null,
   "id": "5f20c435",
   "metadata": {},
   "outputs": [],
   "source": [
    "# Generate the profile report\n",
    "profile1 = ProfileReport(titanic, title='Titanic Dataset Profile', explorative=True)"
   ]
  },
  {
   "cell_type": "code",
   "execution_count": null,
   "id": "ded5805f",
   "metadata": {
    "scrolled": true
   },
   "outputs": [],
   "source": [
    "# Save the report as an HTML file\n",
    "profile1.to_file(\"titanic_profile_report.html\")\n",
    "# The profile report can be viewed in a web browser for an interactive analysis."
   ]
  },
  {
   "cell_type": "code",
   "execution_count": null,
   "id": "ca310f37",
   "metadata": {},
   "outputs": [],
   "source": [
    "# Generate the report in the notebook\n",
    "profile1.to_notebook_iframe()"
   ]
  },
  {
   "cell_type": "code",
   "execution_count": null,
   "id": "edf6f36b",
   "metadata": {},
   "outputs": [],
   "source": [
    "# Practice Questions:\n",
    "# 1. Generate a Pandas Profiling report for the Diamonds dataset and save it as 'Diamonds_profile_report.html'.\n",
    "# 2. Open the generated HTML report in a web browser and explore the summary provided."
   ]
  },
  {
   "cell_type": "markdown",
   "id": "cf32f6ba",
   "metadata": {},
   "source": [
    "### Pandas Profiling Overview\n",
    "\n",
    "- The Pandas Profiling report includes various sections such as:\n",
    "1. Overview: Summary of the dataset including the number of variables, observations, missing values, and memory usage.\n",
    "2. Variables: Detailed analysis of each feature including type, unique values, missing values, and descriptive statistics.\n",
    "3. Interactions: Visualizations showing relationships between pairs of variables.\n",
    "4. Correlations: Correlation matrix and heatmaps to identify relationships between variables.\n",
    "5. Missing Values: Analysis of missing data including a heatmap and bar charts.\n",
    "6. Samples: A preview of a few rows from the dataset."
   ]
  },
  {
   "cell_type": "code",
   "execution_count": null,
   "id": "8a4a5904-dc65-41fc-a1dd-a302f204f629",
   "metadata": {},
   "outputs": [],
   "source": []
  },
  {
   "cell_type": "markdown",
   "id": "50715d81-e02c-42ea-bf68-514e49f445b8",
   "metadata": {},
   "source": [
    "---\n",
    "_**Your Dataness**_,  \n",
    "`Obinna Oliseneku` (_**Hybraid**_)  \n",
    "**[LinkedIn](https://www.linkedin.com/in/obinnao/)** | **[GitHub](https://github.com/hybraid6)**  "
   ]
  }
 ],
 "metadata": {
  "kernelspec": {
   "display_name": "Python 3 (ipykernel)",
   "language": "python",
   "name": "python3"
  },
  "language_info": {
   "codemirror_mode": {
    "name": "ipython",
    "version": 3
   },
   "file_extension": ".py",
   "mimetype": "text/x-python",
   "name": "python",
   "nbconvert_exporter": "python",
   "pygments_lexer": "ipython3",
   "version": "3.12.7"
  }
 },
 "nbformat": 4,
 "nbformat_minor": 5
}
