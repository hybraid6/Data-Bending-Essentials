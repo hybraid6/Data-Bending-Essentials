{
 "cells": [
  {
   "cell_type": "markdown",
   "id": "d3ca7b40",
   "metadata": {},
   "source": [
    "# Analyzing Sales Data With NumPy"
   ]
  },
  {
   "cell_type": "markdown",
   "id": "64900634",
   "metadata": {},
   "source": [
    "You are tasked with analyzing sales data for a small business. The sales data consists of weekly sales figures (in thousands of dollars) for 10 weeks. Here's what you need to do:\n",
    "   \n",
    "1. **Import NumPy** and create a NumPy array called `weekly_sales` containing the following sales figures:\n",
    "   ```python\n",
    "   weekly_sales = [45, 55, 62, 48, 52, 58, 51, 49, 53, 47]\n",
    "   ```\n",
    "\n",
    "2. **Perform the following calculations using NumPy functions:**\n",
    "   - Calculate the mean, median, and standard deviation of the weekly sales figures.\n",
    "   - Find the maximum and minimum sales figures.\n",
    "   - Sort the sales figures in ascending order.\n",
    "   - Find the index of the highest sales figure.\n",
    "   - Count how many weeks had sales figures above 50.\n",
    "   - Calculate the percentage of weeks with sales figures above 50%.\n",
    "   - Calculate the range of the sales figures (difference between the maximum and minimum).\n",
    "   - Calculate the variance of the sales figures.\n",
    "   - Find the number of weeks with sales figures between 45 and 55 (inclusive).\n",
    "   - Calculate the cumulative sum of the weekly sales figures.\n",
    "   - Normalize the weekly sales figures to a 0-1 range.\n",
    "\n",
    "3. **Create new arrays based on conditions:**\n",
    "   - Extract all the sales figures above 55 into a new array called `high_sales`.\n",
    "   - Create a new array `good_weeks` containing the sales figures for weeks where sales were above the mean of the dataset.\n",
    "\n",
    "4. **Print the results**:\n",
    "   - Display each calculation and array created to summarize the sales data effectively.\n"
   ]
  },
  {
   "cell_type": "code",
   "execution_count": null,
   "id": "116d3e88",
   "metadata": {},
   "outputs": [],
   "source": [
    "# Import NumPy and create a NumPy array called weekly_sales\n"
   ]
  },
  {
   "cell_type": "code",
   "execution_count": null,
   "id": "30f1ed17",
   "metadata": {},
   "outputs": [],
   "source": [
    "# Calculate the mean, median, and standard deviation of the weekly sales figures.\n",
    "\n"
   ]
  },
  {
   "cell_type": "code",
   "execution_count": null,
   "id": "d82f0fb4",
   "metadata": {},
   "outputs": [],
   "source": [
    "# Find the maximum and minimum sales figures.\n"
   ]
  },
  {
   "cell_type": "code",
   "execution_count": null,
   "id": "1170ccfc",
   "metadata": {},
   "outputs": [],
   "source": [
    "# Sort the sales figures in ascending order.\n"
   ]
  },
  {
   "cell_type": "code",
   "execution_count": null,
   "id": "f32dccbf",
   "metadata": {},
   "outputs": [],
   "source": [
    "# Sort in descending order\n"
   ]
  },
  {
   "cell_type": "code",
   "execution_count": null,
   "id": "268863ea",
   "metadata": {},
   "outputs": [],
   "source": [
    "# Find the index of the highest sales figure.\n"
   ]
  },
  {
   "cell_type": "code",
   "execution_count": null,
   "id": "66c43d19",
   "metadata": {},
   "outputs": [],
   "source": [
    "# Count how many weeks had sales figures above 50\n"
   ]
  },
  {
   "cell_type": "code",
   "execution_count": null,
   "id": "bc24974b",
   "metadata": {
    "scrolled": true
   },
   "outputs": [],
   "source": [
    "# Alternatively\n"
   ]
  },
  {
   "cell_type": "code",
   "execution_count": null,
   "id": "82fa9aea",
   "metadata": {},
   "outputs": [],
   "source": [
    "# To find the sum of sales that were above 50\n"
   ]
  },
  {
   "cell_type": "code",
   "execution_count": null,
   "id": "a63e28d7",
   "metadata": {},
   "outputs": [],
   "source": [
    "# Calculate the percentage of weeks with sales figures above 50.\n"
   ]
  },
  {
   "cell_type": "code",
   "execution_count": null,
   "id": "08821e54",
   "metadata": {},
   "outputs": [],
   "source": [
    "# Calculate the range of the sales figures (difference between the maximum and minimum).\n"
   ]
  },
  {
   "cell_type": "code",
   "execution_count": null,
   "id": "148af629",
   "metadata": {},
   "outputs": [],
   "source": [
    "# Calculate the variance of the sales figures.\n"
   ]
  },
  {
   "cell_type": "code",
   "execution_count": null,
   "id": "f89f12af",
   "metadata": {},
   "outputs": [],
   "source": [
    "# Find the number of weeks with sales figures between 45 and 55 (inclusive).\n"
   ]
  },
  {
   "cell_type": "code",
   "execution_count": null,
   "id": "a3cdc599",
   "metadata": {},
   "outputs": [],
   "source": [
    "# Alternatively\n"
   ]
  },
  {
   "cell_type": "code",
   "execution_count": null,
   "id": "dc8967c2",
   "metadata": {},
   "outputs": [],
   "source": [
    "# Calculate the cumulative sum of the weekly sales figures.\n"
   ]
  },
  {
   "cell_type": "code",
   "execution_count": null,
   "id": "ddd067e2",
   "metadata": {
    "scrolled": true
   },
   "outputs": [],
   "source": [
    "# Normalize the weekly sales figures to a 0-1 range.\n",
    "# Normalization formula = (value − min)/(range)\n"
   ]
  },
  {
   "cell_type": "code",
   "execution_count": null,
   "id": "b8cf0b40",
   "metadata": {},
   "outputs": [],
   "source": [
    "# Extract all the sales figures above 55 into a new array called high_sales.\n"
   ]
  },
  {
   "cell_type": "code",
   "execution_count": null,
   "id": "68cf7a18",
   "metadata": {},
   "outputs": [],
   "source": [
    "# Create a new array good_weeks containing the sales figures for weeks where sales were above the mean of the dataset.\n"
   ]
  },
  {
   "cell_type": "code",
   "execution_count": null,
   "id": "3f7d8130",
   "metadata": {},
   "outputs": [],
   "source": [
    "print(\"Sales Analysis:\")\n",
    "print(\"----------------\")\n",
    "print(f\"Weekly Sales:                              {weekly_sales}\")\n",
    "print(f\"Mean Sales:                                {mean:.2f}\")\n",
    "print(f\"Median Sales:                              {median:.2f}\")\n",
    "print(f\"Standard Deviation of Sales:                {std_dev:.2f}\")\n",
    "print(f\"Maximum Sales:                             {max_sales:.2f}\")\n",
    "print(f\"Minimum Sales:                             {min_sales:.2f}\")\n",
    "print(f\"Sorted Sales:                              {sorted_sales}\")\n",
    "print(f\"Index of Highest Sales:                     {index_max}\")\n",
    "print(f\"Number of Weeks with Sales Above 50:       {abv_50}\")\n",
    "print(f\"Percentage of Weeks with Sales Above 50%:  {per_abv_50:.2f}%\")\n",
    "print(f\"Range of Sales:                            {sales_range}\")\n",
    "print(f\"Variance of Sales:                         {var:.2f}\")\n",
    "print(f\"Number of Weeks with Sales Between 45 and 55: {filtered_wks}\")\n",
    "print(f\"Cumulative Sum of Sales:                   {cml_sales}\")\n",
    "print(f\"Normalized Sales (0-1 range):              {norm}\")\n",
    "print(f\"High Sales (Sales Above 55):               {high_sales}\")\n",
    "print(f\"Good Weeks (Sales Above Mean):            {good_weeks}\")\n"
   ]
  },
  {
   "cell_type": "code",
   "execution_count": null,
   "id": "58bc5901",
   "metadata": {},
   "outputs": [],
   "source": []
  },
  {
   "cell_type": "markdown",
   "id": "ae8336a7",
   "metadata": {},
   "source": [
    "---\n",
    "_**Your Dataness**_,  \n",
    "`Obinna Oliseneku` (_**Hybraid**_)  \n",
    "**[LinkedIn](https://www.linkedin.com/in/obinnao/)** | **[GitHub](https://github.com/hybraid6)**  "
   ]
  }
 ],
 "metadata": {
  "kernelspec": {
   "display_name": "Python 3 (ipykernel)",
   "language": "python",
   "name": "python3"
  },
  "language_info": {
   "codemirror_mode": {
    "name": "ipython",
    "version": 3
   },
   "file_extension": ".py",
   "mimetype": "text/x-python",
   "name": "python",
   "nbconvert_exporter": "python",
   "pygments_lexer": "ipython3",
   "version": "3.10.9"
  }
 },
 "nbformat": 4,
 "nbformat_minor": 5
}
