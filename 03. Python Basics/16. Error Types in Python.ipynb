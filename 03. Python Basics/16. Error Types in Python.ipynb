{
 "cells": [
  {
   "cell_type": "markdown",
   "id": "063aaf9b",
   "metadata": {},
   "source": [
    "# Python Error Types\n",
    "\n",
    "- Errors in Python are typically handled using exceptions. Understanding different types of errors helps in debugging and writing robust code."
   ]
  },
  {
   "cell_type": "markdown",
   "id": "127d4730",
   "metadata": {},
   "source": [
    "#### IndexError\n",
    "\n",
    "- An IndexError occurs when you try to access an element in a list, tuple, or string using an index that is out of range."
   ]
  },
  {
   "cell_type": "code",
   "execution_count": 2,
   "id": "f77e33c2",
   "metadata": {},
   "outputs": [
    {
     "name": "stdout",
     "output_type": "stream",
     "text": [
      "IndexError: list index out of range\n"
     ]
    }
   ],
   "source": [
    "try:\n",
    "    lst = [1, 2, 3]\n",
    "    print(lst[5])\n",
    "except IndexError as e:\n",
    "    print(f\"IndexError: {e}\")"
   ]
  },
  {
   "cell_type": "markdown",
   "id": "59ea6325",
   "metadata": {},
   "source": [
    "##### Without exception handling"
   ]
  },
  {
   "cell_type": "code",
   "execution_count": 27,
   "id": "72e88003",
   "metadata": {
    "collapsed": true,
    "jupyter": {
     "outputs_hidden": true
    }
   },
   "outputs": [
    {
     "ename": "IndexError",
     "evalue": "list index out of range",
     "output_type": "error",
     "traceback": [
      "\u001b[1;31m---------------------------------------------------------------------------\u001b[0m",
      "\u001b[1;31mIndexError\u001b[0m                                Traceback (most recent call last)",
      "Cell \u001b[1;32mIn[27], line 2\u001b[0m\n\u001b[0;32m      1\u001b[0m lst \u001b[38;5;241m=\u001b[39m [\u001b[38;5;241m1\u001b[39m, \u001b[38;5;241m2\u001b[39m, \u001b[38;5;241m3\u001b[39m]\n\u001b[1;32m----> 2\u001b[0m \u001b[38;5;28mprint\u001b[39m(\u001b[43mlst\u001b[49m\u001b[43m[\u001b[49m\u001b[38;5;241;43m5\u001b[39;49m\u001b[43m]\u001b[49m)\n",
      "\u001b[1;31mIndexError\u001b[0m: list index out of range"
     ]
    }
   ],
   "source": [
    "lst = [1, 2, 3]\n",
    "print(lst[5])"
   ]
  },
  {
   "cell_type": "code",
   "execution_count": null,
   "id": "30946525",
   "metadata": {},
   "outputs": [],
   "source": [
    "# Practice Questions:\n",
    "# 1. Write a program that raises an IndexError."
   ]
  },
  {
   "cell_type": "markdown",
   "id": "2c5995e3",
   "metadata": {},
   "source": [
    "#### SyntaxError\n",
    "\n",
    "- A SyntaxError occurs when the Python parser encounters a syntax error."
   ]
  },
  {
   "cell_type": "code",
   "execution_count": 3,
   "id": "7674792d",
   "metadata": {},
   "outputs": [
    {
     "name": "stdout",
     "output_type": "stream",
     "text": [
      "SyntaxError: invalid syntax (<string>, line 1)\n"
     ]
    }
   ],
   "source": [
    "try:\n",
    "    eval('x === 42')\n",
    "except SyntaxError as e:\n",
    "    print(f\"SyntaxError: {e}\")"
   ]
  },
  {
   "cell_type": "code",
   "execution_count": null,
   "id": "189f2be6",
   "metadata": {},
   "outputs": [],
   "source": [
    "# Practice Questions:\n",
    "# 1. Write code that raises a SyntaxError."
   ]
  },
  {
   "cell_type": "markdown",
   "id": "c4e08a30",
   "metadata": {},
   "source": [
    "#### ModuleNotFoundError\n",
    "\n",
    "- A ModuleNotFoundError occurs when you try to import a module that does not exist."
   ]
  },
  {
   "cell_type": "code",
   "execution_count": 9,
   "id": "218e62d0",
   "metadata": {},
   "outputs": [
    {
     "name": "stdout",
     "output_type": "stream",
     "text": [
      "ModuleNotFoundError: No module named 'non_existent_module'\n"
     ]
    }
   ],
   "source": [
    "try:\n",
    "    import non_existent_module\n",
    "except ModuleNotFoundError as e:\n",
    "    print(f\"ModuleNotFoundError: {e}\")"
   ]
  },
  {
   "cell_type": "code",
   "execution_count": null,
   "id": "8faaf7eb",
   "metadata": {},
   "outputs": [],
   "source": [
    "# Practice Questions:\n",
    "# 1. Write code that raises a ModuleNotFoundError."
   ]
  },
  {
   "cell_type": "markdown",
   "id": "d0e88493",
   "metadata": {},
   "source": [
    "#### KeyError\n",
    "\n",
    "- A KeyError occurs when you try to access a dictionary key that does not exist."
   ]
  },
  {
   "cell_type": "code",
   "execution_count": 10,
   "id": "be3297d2",
   "metadata": {},
   "outputs": [
    {
     "name": "stdout",
     "output_type": "stream",
     "text": [
      "KeyError: 'c'\n"
     ]
    }
   ],
   "source": [
    "try:\n",
    "    d = {'a': 1, 'b': 2}\n",
    "    print(d['c'])\n",
    "except KeyError as e:\n",
    "    print(f\"KeyError: {e}\")"
   ]
  },
  {
   "cell_type": "code",
   "execution_count": null,
   "id": "1d6a790b",
   "metadata": {},
   "outputs": [],
   "source": [
    "# Practice Questions:\n",
    "# 1. Write a program that raises a KeyError."
   ]
  },
  {
   "cell_type": "markdown",
   "id": "a2c5394a",
   "metadata": {},
   "source": [
    "#### IndentationError\n",
    "\n",
    "- An IndentationError occurs when the indentation is not correct."
   ]
  },
  {
   "cell_type": "code",
   "execution_count": 11,
   "id": "a9f8a055",
   "metadata": {},
   "outputs": [
    {
     "name": "stdout",
     "output_type": "stream",
     "text": [
      "IndentationError: expected an indented block after 'if' statement on line 1 (<string>, line 2)\n"
     ]
    }
   ],
   "source": [
    "try:\n",
    "    exec(\"if True:\\nprint('Hello')\")\n",
    "except IndentationError as e:\n",
    "    print(f\"IndentationError: {e}\")"
   ]
  },
  {
   "cell_type": "code",
   "execution_count": null,
   "id": "3d09f5ed",
   "metadata": {},
   "outputs": [],
   "source": [
    "# Practice Questions:\n",
    "# 1. Write code that raises an IndentationError."
   ]
  },
  {
   "cell_type": "markdown",
   "id": "509b939e",
   "metadata": {},
   "source": [
    "#### ImportError\n",
    "\n",
    "- An ImportError occurs when an import statement fails to find the module or a name in the module."
   ]
  },
  {
   "cell_type": "code",
   "execution_count": 13,
   "id": "2e06a12f",
   "metadata": {},
   "outputs": [
    {
     "name": "stdout",
     "output_type": "stream",
     "text": [
      "ImportError: cannot import name 'non_existent_function' from 'math' (unknown location)\n"
     ]
    }
   ],
   "source": [
    "try:\n",
    "    from math import non_existent_function\n",
    "except ImportError as e:\n",
    "    print(f\"ImportError: {e}\")"
   ]
  },
  {
   "cell_type": "code",
   "execution_count": null,
   "id": "c9ed8e6d",
   "metadata": {},
   "outputs": [],
   "source": [
    "# Practice Questions:\n",
    "# 1. Write code that raises an ImportError."
   ]
  },
  {
   "cell_type": "markdown",
   "id": "b93f5e4f",
   "metadata": {},
   "source": [
    "#### StopIteration\n",
    "\n",
    "- A StopIteration is raised to signal the end of an iterator."
   ]
  },
  {
   "cell_type": "code",
   "execution_count": 14,
   "id": "4d488655",
   "metadata": {},
   "outputs": [
    {
     "name": "stdout",
     "output_type": "stream",
     "text": [
      "1\n",
      "2\n",
      "3\n",
      "StopIteration: End of iterator\n"
     ]
    }
   ],
   "source": [
    "try:\n",
    "    it = iter([1, 2, 3])\n",
    "    while True:\n",
    "        print(next(it))\n",
    "except StopIteration:\n",
    "    print(\"StopIteration: End of iterator\")"
   ]
  },
  {
   "cell_type": "code",
   "execution_count": null,
   "id": "affc6e49",
   "metadata": {},
   "outputs": [],
   "source": [
    "# Practice Questions:\n",
    "# 1. Write a program that raises a StopIteration."
   ]
  },
  {
   "cell_type": "markdown",
   "id": "4977b823",
   "metadata": {},
   "source": [
    "#### TypeError\n",
    "\n",
    "- A TypeError occurs when an operation or function is applied to an object of inappropriate type."
   ]
  },
  {
   "cell_type": "code",
   "execution_count": 20,
   "id": "788a58df",
   "metadata": {},
   "outputs": [
    {
     "name": "stdout",
     "output_type": "stream",
     "text": [
      "TypeError: can only concatenate str (not \"int\") to str\n"
     ]
    }
   ],
   "source": [
    "try:\n",
    "    result = '2' + 2\n",
    "except TypeError as e:\n",
    "    print(f\"TypeError: {e}\")"
   ]
  },
  {
   "cell_type": "code",
   "execution_count": null,
   "id": "86f0c7c2",
   "metadata": {},
   "outputs": [],
   "source": [
    "# Practice Questions:\n",
    "# 1. Write code that raises a TypeError."
   ]
  },
  {
   "cell_type": "markdown",
   "id": "0fec6c3b",
   "metadata": {},
   "source": [
    "#### ValueError\n",
    "\n",
    "- A ValueError occurs when a function receives an argument of the right type but an inappropriate value."
   ]
  },
  {
   "cell_type": "code",
   "execution_count": 22,
   "id": "52cfbc99",
   "metadata": {},
   "outputs": [
    {
     "name": "stdout",
     "output_type": "stream",
     "text": [
      "ValueError: invalid literal for int() with base 10: 'abc'\n"
     ]
    }
   ],
   "source": [
    "try:\n",
    "    num = int('abc')\n",
    "except ValueError as e:\n",
    "    print(f\"ValueError: {e}\")"
   ]
  },
  {
   "cell_type": "code",
   "execution_count": null,
   "id": "61230c5e",
   "metadata": {},
   "outputs": [],
   "source": [
    "# Practice Questions:\n",
    "# 1. Write code that raises a ValueError."
   ]
  },
  {
   "cell_type": "markdown",
   "id": "afb18423",
   "metadata": {},
   "source": [
    "#### NameError\n",
    "\n",
    "- A NameError occurs when a local or global name is not found."
   ]
  },
  {
   "cell_type": "code",
   "execution_count": 23,
   "id": "38506eca",
   "metadata": {},
   "outputs": [
    {
     "name": "stdout",
     "output_type": "stream",
     "text": [
      "NameError: name 'undefined_variable' is not defined\n"
     ]
    }
   ],
   "source": [
    "try:\n",
    "    print(undefined_variable)\n",
    "except NameError as e:\n",
    "    print(f\"NameError: {e}\")"
   ]
  },
  {
   "cell_type": "code",
   "execution_count": null,
   "id": "56384668",
   "metadata": {},
   "outputs": [],
   "source": [
    "# Practice Questions:\n",
    "# 1. Write code that raises a NameError."
   ]
  },
  {
   "cell_type": "markdown",
   "id": "04e37d4f",
   "metadata": {},
   "source": [
    "#### ZeroDivisionError\n",
    "\n",
    "- A ZeroDivisionError occurs when a division or modulo operation is performed with zero as the divisor."
   ]
  },
  {
   "cell_type": "code",
   "execution_count": 25,
   "id": "cb329650",
   "metadata": {},
   "outputs": [
    {
     "name": "stdout",
     "output_type": "stream",
     "text": [
      "ZeroDivisionError: division by zero\n"
     ]
    }
   ],
   "source": [
    "try:\n",
    "    result = 10 / 0\n",
    "except ZeroDivisionError as e:\n",
    "    print(f\"ZeroDivisionError: {e}\")"
   ]
  },
  {
   "cell_type": "code",
   "execution_count": null,
   "id": "b26d2cec",
   "metadata": {},
   "outputs": [],
   "source": [
    "# Practice Questions:\n",
    "# 1. Write code that raises a ZeroDivisionError."
   ]
  },
  {
   "cell_type": "markdown",
   "id": "bf69bcd9",
   "metadata": {},
   "source": [
    "#### KeyboardInterrupt\n",
    "\n",
    "- A KeyboardInterrupt occurs when the user interrupts program execution, usually by pressing Ctrl+C."
   ]
  },
  {
   "cell_type": "code",
   "execution_count": 26,
   "id": "237a5cb7",
   "metadata": {},
   "outputs": [
    {
     "name": "stdout",
     "output_type": "stream",
     "text": [
      "KeyboardInterrupt: Program interrupted by user\n"
     ]
    }
   ],
   "source": [
    "try:\n",
    "    while True:\n",
    "        pass\n",
    "except KeyboardInterrupt:\n",
    "    print(\"KeyboardInterrupt: Program interrupted by user\")"
   ]
  },
  {
   "cell_type": "code",
   "execution_count": null,
   "id": "84cb6b03",
   "metadata": {},
   "outputs": [],
   "source": [
    "# Practice Questions:\n",
    "# 1. Write code that can be interrupted by the user and catches the KeyboardInterrupt exception."
   ]
  },
  {
   "cell_type": "markdown",
   "id": "57a7179a",
   "metadata": {},
   "source": [
    "#### Other Types of Errors\n",
    "\n",
    "- There are many other types of errors in Python, such as AttributeError, AssertionError, FileNotFoundError, etc.\n",
    "- Understanding and handling these errors is crucial for writing robust and error-free code."
   ]
  },
  {
   "cell_type": "code",
   "execution_count": null,
   "id": "61d23c20",
   "metadata": {},
   "outputs": [],
   "source": [
    "# Example: AttributeError\n",
    "try:\n",
    "    obj = None\n",
    "    obj.method()\n",
    "except AttributeError as e:\n",
    "    print(f\"AttributeError: {e}\")"
   ]
  },
  {
   "cell_type": "code",
   "execution_count": null,
   "id": "76e03fe6",
   "metadata": {},
   "outputs": [],
   "source": [
    "# Example: AssertionError\n",
    "try:\n",
    "    assert 1 == 2, \"Assertion failed\"\n",
    "except AssertionError as e:\n",
    "    print(f\"AssertionError: {e}\")"
   ]
  },
  {
   "cell_type": "code",
   "execution_count": null,
   "id": "5d42209d",
   "metadata": {},
   "outputs": [],
   "source": [
    "# Example: FileNotFoundError\n",
    "try:\n",
    "    with open('non_existent_file.txt', 'r') as file:\n",
    "        content = file.read()\n",
    "except FileNotFoundError as e:\n",
    "    print(f\"FileNotFoundError: {e}\")"
   ]
  },
  {
   "cell_type": "code",
   "execution_count": null,
   "id": "41c6b698",
   "metadata": {},
   "outputs": [],
   "source": [
    "# Practice Questions:\n",
    "# 1. Write code that raises an AttributeError.\n",
    "# 2. Write code that raises an AssertionError.\n",
    "# 3. Write code that raises a FileNotFoundError."
   ]
  },
  {
   "cell_type": "markdown",
   "id": "fc86d920",
   "metadata": {},
   "source": [
    "#### Handling Multiple Errors"
   ]
  },
  {
   "cell_type": "code",
   "execution_count": null,
   "id": "fc2d7379",
   "metadata": {},
   "outputs": [],
   "source": [
    "\n",
    "try:\n",
    "    # Code that may raise multiple errors\n",
    "    lst = [1, 2, 3]\n",
    "    print(lst[3])  # This will raise IndexError\n",
    "    result = 10 / 0  # This will raise ZeroDivisionError\n",
    "    num = int('abc')  # This will raise ValueError\n",
    "except IndexError as e:\n",
    "    print(f\"IndexError: {e}\")\n",
    "except ZeroDivisionError as e:\n",
    "    print(f\"ZeroDivisionError: {e}\")\n",
    "except ValueError as e:\n",
    "    print(f\"ValueError: {e}\")\n",
    "except Exception as e:\n",
    "    print(f\"An unexpected error occurred: {e}\")"
   ]
  },
  {
   "cell_type": "code",
   "execution_count": null,
   "id": "31bbd52a",
   "metadata": {},
   "outputs": [],
   "source": [
    "# Additional Practice:\n",
    "# 1. Write a function that takes a list and an index as arguments and returns the element at that index.\n",
    "#    Handle potential IndexError and ValueError within the function.\n",
    "# 2. Write a program that opens a file, reads its content, and handles potential FileNotFoundError and IOError.\n",
    "# 3. Create a simple calculator function that handles TypeError, ZeroDivisionError, and ValueError."
   ]
  },
  {
   "cell_type": "code",
   "execution_count": null,
   "id": "975710ed-b2ff-416f-b03e-f28be08f6c61",
   "metadata": {},
   "outputs": [],
   "source": []
  },
  {
   "cell_type": "markdown",
   "id": "61c67c2b-e6d3-4833-96d1-6f0641d95b7e",
   "metadata": {},
   "source": [
    "---\n",
    "_**Your Dataness**_,  \n",
    "`Obinna Oliseneku` (_**Hybraid**_)  \n",
    "**[LinkedIn](https://www.linkedin.com/in/obinnao/)** | **[GitHub](https://github.com/hybraid6)**  "
   ]
  }
 ],
 "metadata": {
  "kernelspec": {
   "display_name": "Python 3 (ipykernel)",
   "language": "python",
   "name": "python3"
  },
  "language_info": {
   "codemirror_mode": {
    "name": "ipython",
    "version": 3
   },
   "file_extension": ".py",
   "mimetype": "text/x-python",
   "name": "python",
   "nbconvert_exporter": "python",
   "pygments_lexer": "ipython3",
   "version": "3.12.7"
  }
 },
 "nbformat": 4,
 "nbformat_minor": 5
}
