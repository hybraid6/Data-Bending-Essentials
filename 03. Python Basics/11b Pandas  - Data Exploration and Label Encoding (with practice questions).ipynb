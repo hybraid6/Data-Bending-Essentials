{
 "cells": [
  {
   "cell_type": "markdown",
   "id": "5d0bc2b8",
   "metadata": {},
   "source": [
    "### Data Exploration with Pandas\n",
    "\n",
    "#### What is Data Exploration?\n",
    "\n",
    "- Data exploration is the initial step in data analysis, where you understand the structure, quality, and main characteristics of the data.\n",
    "- It involves summarizing the main features of the data and identifying patterns, relationships, and potential issues."
   ]
  },
  {
   "cell_type": "code",
   "execution_count": null,
   "id": "ddba45fd",
   "metadata": {},
   "outputs": [],
   "source": [
    "# Import necessary libraries\n",
    "import pandas as pd\n",
    "import seaborn as sns"
   ]
  },
  {
   "cell_type": "code",
   "execution_count": null,
   "id": "58e6771d",
   "metadata": {},
   "outputs": [],
   "source": [
    "# Load the Titanic dataset from the seaborn library\n",
    "titanic = sns.load_dataset('titanic')"
   ]
  },
  {
   "cell_type": "code",
   "execution_count": null,
   "id": "cd0a9e92",
   "metadata": {
    "scrolled": true
   },
   "outputs": [],
   "source": [
    "# A list of all the datasets available in Seaborn\n",
    "sns.get_dataset_names()"
   ]
  },
  {
   "cell_type": "code",
   "execution_count": null,
   "id": "5c4d8e3d",
   "metadata": {},
   "outputs": [],
   "source": [
    "#1. Head and Tail\n",
    "# Display the first few rows of the DataFrame\n",
    "titanic.head()"
   ]
  },
  {
   "cell_type": "code",
   "execution_count": null,
   "id": "d1c9bbc2",
   "metadata": {
    "scrolled": true
   },
   "outputs": [],
   "source": [
    "# Display the last few rows of the DataFrame\n",
    "titanic.tail()"
   ]
  },
  {
   "cell_type": "code",
   "execution_count": null,
   "id": "b60640e1",
   "metadata": {},
   "outputs": [],
   "source": [
    "# 2. Info\n",
    "# Get a concise summary of the DataFrame\n",
    "titanic.info()"
   ]
  },
  {
   "cell_type": "code",
   "execution_count": null,
   "id": "0dd56c01",
   "metadata": {},
   "outputs": [],
   "source": [
    "# 3. Describe\n",
    "# Generate descriptive statistics\n",
    "titanic.describe()"
   ]
  },
  {
   "cell_type": "code",
   "execution_count": null,
   "id": "2b74e3ca",
   "metadata": {},
   "outputs": [],
   "source": [
    "# 4. Shape\n",
    "# Get the number of rows and columns\n",
    "titanic.shape"
   ]
  },
  {
   "cell_type": "code",
   "execution_count": null,
   "id": "adf6f1e5",
   "metadata": {},
   "outputs": [],
   "source": [
    "# 5. Columns\n",
    "# Get the column names\n",
    "titanic.columns"
   ]
  },
  {
   "cell_type": "code",
   "execution_count": null,
   "id": "f9bd9134",
   "metadata": {},
   "outputs": [],
   "source": [
    "# 6. Isnull and Sum\n",
    "# Detect missing values and sum them up\n",
    "titanic.isnull().sum()"
   ]
  },
  {
   "cell_type": "code",
   "execution_count": null,
   "id": "49278b62",
   "metadata": {},
   "outputs": [],
   "source": [
    "# 7. Value_counts\n",
    "# Get the count of unique values in a column\n",
    "titanic['sex'].value_counts()"
   ]
  },
  {
   "cell_type": "code",
   "execution_count": null,
   "id": "2f4d45f7",
   "metadata": {
    "scrolled": true
   },
   "outputs": [],
   "source": [
    "# 8. Fill missing values\n",
    "titanic['age'].fillna(titanic['age'].median(), inplace=True)\n",
    "titanic['embarked'].fillna('S', inplace=True)\n",
    "titanic.isnull().sum()"
   ]
  },
  {
   "cell_type": "code",
   "execution_count": null,
   "id": "c57ccb88",
   "metadata": {},
   "outputs": [],
   "source": [
    "titanic.query('age == 7')"
   ]
  },
  {
   "cell_type": "code",
   "execution_count": null,
   "id": "e5095021",
   "metadata": {},
   "outputs": [],
   "source": [
    "titanic[titanic['sex'] == 'male']"
   ]
  },
  {
   "cell_type": "code",
   "execution_count": null,
   "id": "f74f96da",
   "metadata": {},
   "outputs": [],
   "source": [
    "titanic.query('sex.str.contains(\"f\")')"
   ]
  },
  {
   "cell_type": "code",
   "execution_count": null,
   "id": "7f676fdb",
   "metadata": {},
   "outputs": [],
   "source": [
    "# Practice Questions:\n",
    "# 1. Load a dataset of your choice and use the head() method to display the first five rows.\n",
    "# 2. Use the info() method to get a summary of the dataset.\n",
    "# 3. Use the describe() method to get descriptive statistics of the dataset.\n",
    "# 4. Find the number of missing values in each column using isnull() and sum()."
   ]
  },
  {
   "cell_type": "markdown",
   "id": "f1386aea",
   "metadata": {},
   "source": [
    "### Data Transformation: Why?\n",
    "\n",
    "- Data transformation is the process of converting data from one format or structure into another.\n",
    "- It is crucial for preparing the data for analysis, ensuring consistency, and improving the performance of machine learning models."
   ]
  },
  {
   "cell_type": "markdown",
   "id": "a51d7c7d",
   "metadata": {},
   "source": [
    "#### Categorical to Numerical\n",
    "\n",
    "- Converting categorical variables to numerical values is essential for many machine learning algorithms that require numerical input."
   ]
  },
  {
   "cell_type": "markdown",
   "id": "573e1542",
   "metadata": {},
   "source": [
    "#### Label Encoder Function\n",
    "\n",
    "- Label Encoding is a technique for converting categorical values to numerical values by assigning a unique integer to each category."
   ]
  },
  {
   "cell_type": "code",
   "execution_count": null,
   "id": "8ecec391",
   "metadata": {},
   "outputs": [],
   "source": [
    "titanic[['sex']].head()"
   ]
  },
  {
   "cell_type": "code",
   "execution_count": null,
   "id": "1400ce71",
   "metadata": {
    "scrolled": true
   },
   "outputs": [],
   "source": [
    "# Example: Label Encoding\n",
    "# Importing the LabelEncoder class from sklearn's preprocessing module\n",
    "from sklearn.preprocessing import LabelEncoder as le\n",
    "\n",
    "# Creating an instance of LabelEncoder\n",
    "label_encoder = le()\n",
    "\n",
    "# Applying the label encoder to the 'sex' column of the titanic DataFrame\n",
    "# This converts the categorical text data ('male', 'female') into numerical labels (e.g., 0, 1)\n",
    "titanic['sex'] = label_encoder.fit_transform(titanic['sex'])\n",
    "\n",
    "# Printing the first 5 rows of the transformed 'sex' column to verify the encoding\n",
    "titanic[['sex']].head()"
   ]
  },
  {
   "cell_type": "markdown",
   "id": "9655d975",
   "metadata": {},
   "source": [
    "#### Label Encoder Dictionary\n",
    "\n",
    "- Creating a dictionary to map original categorical values to numerical values"
   ]
  },
  {
   "cell_type": "code",
   "execution_count": null,
   "id": "b1583126",
   "metadata": {},
   "outputs": [],
   "source": [
    "titanic[['embarked']].tail()"
   ]
  },
  {
   "cell_type": "code",
   "execution_count": null,
   "id": "050aacee",
   "metadata": {},
   "outputs": [],
   "source": [
    "# Example: Label Encoding with a dictionary\n",
    "\n",
    "# Creating a dictionary to map the 'embarked' column values to numerical labels\n",
    "# 'C' -> 0, 'Q' -> 1, 'S' -> 2\n",
    "embarked_mapping = {'C': 0, 'Q': 1, 'S': 2}\n",
    "\n",
    "# Using the map function to transform the 'embarked' column in the titanic DataFrame\n",
    "# This replaces the categorical text data ('C', 'Q', 'S') with the corresponding numerical labels\n",
    "titanic['embarked'] = titanic['embarked'].map(embarked_mapping)\n",
    "\n",
    "# Printing the last 5 rows of the transformed 'embarked' column to verify the encoding\n",
    "titanic[['embarked']].tail()"
   ]
  },
  {
   "cell_type": "code",
   "execution_count": null,
   "id": "85944ee6",
   "metadata": {},
   "outputs": [],
   "source": [
    "# Practice Questions:\n",
    "# 1. Create a dictionary to encode the 'class' column of the Titanic dataset.\n",
    "# 2. Apply the dictionary to the 'class' column using the map() function."
   ]
  },
  {
   "cell_type": "markdown",
   "id": "ed84df9f",
   "metadata": {},
   "source": [
    "### One Hot Encoding\n",
    "\n",
    "- One-Hot Encoding is a technique that converts categorical variables into binary (0 or 1) columns for each category.\n",
    "- This avoids the potential issues of Label Encoding where integer values can mislead algorithms into thinking some categories are greater than others."
   ]
  },
  {
   "cell_type": "code",
   "execution_count": null,
   "id": "78df1b7d",
   "metadata": {},
   "outputs": [],
   "source": [
    "titanic['who'].unique()"
   ]
  },
  {
   "cell_type": "code",
   "execution_count": null,
   "id": "f72a8c6e",
   "metadata": {},
   "outputs": [],
   "source": [
    "# Display first 10 rows\n",
    "titanic.head(10)"
   ]
  },
  {
   "cell_type": "code",
   "execution_count": null,
   "id": "3c02fa54",
   "metadata": {
    "scrolled": true
   },
   "outputs": [],
   "source": [
    "# Example: One-Hot Encoding\n",
    "\n",
    "# Applying one-hot encoding to the 'who' column in the titanic DataFrame\n",
    "# This creates separate binary columns for each unique value in the 'who' column (e.g., 'who_child', 'who_man', 'who_woman')\n",
    "# Each binary column will have a value of 1 if the original value was present in that row and 0 otherwise\n",
    "titanic = pd.get_dummies(titanic, columns=['who'])\n",
    "\n",
    "# Printing the first 5 rows of the DataFrame to verify the one-hot encoding\n",
    "titanic.head(10)"
   ]
  },
  {
   "cell_type": "code",
   "execution_count": null,
   "id": "e39332dd",
   "metadata": {},
   "outputs": [],
   "source": [
    "# Practice Questions:\n",
    "# 1. Reload the Titanic dataset and display basic information using info().\n",
    "# 2. Fill missing values in the 'age' column with the median age and 'embarked' column with the most common value.\n",
    "# 3. Use LabelEncoder to encode the 'sex' column.\n",
    "# 4. Create a dictionary to encode the 'embarked' column and apply it.\n",
    "# 5. Use pd.get_dummies() to one-hot encode the 'class' column."
   ]
  },
  {
   "cell_type": "markdown",
   "id": "64a5d92b",
   "metadata": {},
   "source": [
    "### More on The Loc and iLoc Function"
   ]
  },
  {
   "cell_type": "markdown",
   "id": "ddbfc9ab",
   "metadata": {},
   "source": [
    "##### Basic syntax\n",
    "`DataFrame.loc[row_labels, column_labels]`"
   ]
  },
  {
   "cell_type": "code",
   "execution_count": null,
   "id": "f6b03a82",
   "metadata": {
    "scrolled": true
   },
   "outputs": [],
   "source": [
    "import pandas as pd\n",
    "titanic_df = pd.read_csv('train.csv')\n",
    "titanic_df.head()"
   ]
  },
  {
   "cell_type": "markdown",
   "id": "802d3d2f",
   "metadata": {},
   "source": [
    "#### 1. Selecting Rows by Label\n",
    "\n",
    "You can use `loc` to select specific rows based on their index labels"
   ]
  },
  {
   "cell_type": "code",
   "execution_count": null,
   "id": "d80b8706",
   "metadata": {},
   "outputs": [],
   "source": [
    "# Select a range of rows by label\n",
    "titanic_df.loc[2:13]"
   ]
  },
  {
   "cell_type": "code",
   "execution_count": null,
   "id": "63b3bafa",
   "metadata": {},
   "outputs": [],
   "source": [
    "# Select rows based on a boolean condition\n",
    "titanic_df.loc[titanic_df['Cabin'] == 'C148']"
   ]
  },
  {
   "cell_type": "code",
   "execution_count": null,
   "id": "edd286d3",
   "metadata": {},
   "outputs": [],
   "source": [
    "titanic_df.iloc[[889]]"
   ]
  },
  {
   "cell_type": "markdown",
   "id": "012cf31a",
   "metadata": {},
   "source": [
    "#### 2. Selecting Columns by Label\n",
    "\n",
    "You can also use `loc` to select specific columns based on their labels"
   ]
  },
  {
   "cell_type": "code",
   "execution_count": null,
   "id": "76c24b5e",
   "metadata": {},
   "outputs": [],
   "source": [
    "# Select a single column by label\n",
    "titanic_df.loc[:, ['Cabin']]"
   ]
  },
  {
   "cell_type": "code",
   "execution_count": null,
   "id": "e99bb187",
   "metadata": {},
   "outputs": [],
   "source": [
    "# Select multiple columns by label\n",
    "titanic_df.loc[:, ['Name', 'Cabin']]"
   ]
  },
  {
   "cell_type": "code",
   "execution_count": null,
   "id": "bf1b99a8",
   "metadata": {},
   "outputs": [],
   "source": [
    "# Select columns based on a boolean condition\n",
    "titanic_df.loc[:, titanic_df.columns.str.contains('Se')]"
   ]
  },
  {
   "cell_type": "code",
   "execution_count": null,
   "id": "2c4bfa90",
   "metadata": {},
   "outputs": [],
   "source": [
    "titanic_df.columns.str.contains('Se')"
   ]
  },
  {
   "cell_type": "markdown",
   "id": "67042e75",
   "metadata": {},
   "source": [
    "#### 3. Selecting Rows and Columns Simultaneously\n",
    "\n",
    "`loc` allows you to specify both rows and columns in a single operation:"
   ]
  },
  {
   "cell_type": "code",
   "execution_count": null,
   "id": "de0007db",
   "metadata": {},
   "outputs": [],
   "source": [
    "# Select specific rows and columns\n",
    "titanic_df.loc[[0, 10], ['Name', 'Cabin']]"
   ]
  },
  {
   "cell_type": "code",
   "execution_count": null,
   "id": "e3b66876",
   "metadata": {},
   "outputs": [],
   "source": [
    "# Select specific range of rows and columns\n",
    "titanic_df.loc[0:10, ['Name', 'Cabin']]"
   ]
  },
  {
   "cell_type": "code",
   "execution_count": null,
   "id": "8908b413",
   "metadata": {},
   "outputs": [],
   "source": [
    "# Select rows based on a condition and specific columns\n",
    "titanic_df.loc[titanic_df['Age'] == 7, ['Name', 'Age', 'Cabin']]"
   ]
  },
  {
   "cell_type": "markdown",
   "id": "b20fa4b5",
   "metadata": {},
   "source": [
    "#### 4. Assigning Values with `loc`\n",
    "\n",
    "You can assign values to specific rows and columns using `loc`:"
   ]
  },
  {
   "cell_type": "code",
   "execution_count": null,
   "id": "1fc1a425",
   "metadata": {},
   "outputs": [],
   "source": [
    "titanic_df.head(3)"
   ]
  },
  {
   "cell_type": "code",
   "execution_count": null,
   "id": "2be5db3b",
   "metadata": {},
   "outputs": [],
   "source": [
    "# Assign a value to a specific cell\n",
    "titanic_df.loc[0, 'Cabin'] = 'C149'"
   ]
  },
  {
   "cell_type": "code",
   "execution_count": null,
   "id": "c001a18b",
   "metadata": {},
   "outputs": [],
   "source": [
    "titanic_df.loc[0, 'Cabin']"
   ]
  },
  {
   "cell_type": "code",
   "execution_count": null,
   "id": "339d411a",
   "metadata": {},
   "outputs": [],
   "source": [
    "titanic_df.loc[12:20, 'Cabin']"
   ]
  },
  {
   "cell_type": "code",
   "execution_count": null,
   "id": "921cb880",
   "metadata": {
    "scrolled": true
   },
   "outputs": [],
   "source": [
    "len(titanic_df.loc[12:20, 'Cabin'])"
   ]
  },
  {
   "cell_type": "code",
   "execution_count": null,
   "id": "bcd56e6d",
   "metadata": {},
   "outputs": [],
   "source": [
    "# Assign values to a slice of the DataFrame\n",
    "titanic_df.loc[12:20, 'Cabin'] = ['Hufflepuff', 'Ravenclaw', 'Griffindor',\n",
    "                                  'Slytherin','Ravenclaw', 'Griffindor', 'Hufflepuff', 'Hufflepuff', 'Hufflepuff']"
   ]
  },
  {
   "cell_type": "code",
   "execution_count": null,
   "id": "5b1f9f03",
   "metadata": {},
   "outputs": [],
   "source": [
    "titanic_df.loc[12:20, 'Cabin']"
   ]
  },
  {
   "cell_type": "code",
   "execution_count": null,
   "id": "95fa41dc",
   "metadata": {},
   "outputs": [],
   "source": []
  },
  {
   "cell_type": "markdown",
   "id": "bb13a1df-22f6-47cd-9d90-7b357c4fa45b",
   "metadata": {},
   "source": [
    "---\n",
    "_**Your Dataness**_,  \n",
    "`Obinna Oliseneku` (_**Hybraid**_)  \n",
    "**[LinkedIn](https://www.linkedin.com/in/obinnao/)** | **[GitHub](https://github.com/hybraid6)**  "
   ]
  }
 ],
 "metadata": {
  "kernelspec": {
   "display_name": "Python 3 (ipykernel)",
   "language": "python",
   "name": "python3"
  },
  "language_info": {
   "codemirror_mode": {
    "name": "ipython",
    "version": 3
   },
   "file_extension": ".py",
   "mimetype": "text/x-python",
   "name": "python",
   "nbconvert_exporter": "python",
   "pygments_lexer": "ipython3",
   "version": "3.12.7"
  }
 },
 "nbformat": 4,
 "nbformat_minor": 5
}
