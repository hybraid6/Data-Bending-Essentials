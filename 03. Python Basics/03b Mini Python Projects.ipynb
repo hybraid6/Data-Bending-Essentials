{
 "cells": [
  {
   "cell_type": "markdown",
   "id": "4db68100",
   "metadata": {},
   "source": [
    "# 1. A program to check if  a given number is even or odd\n",
    "- Create a variable called \"number\" and assign any integer value to it.\n",
    "- Use an if-else statement to check if the number is even or odd. You can use the modulo operator (%), which returns the remainder of a division operation, to check if the number is divisible by 2. If the remainder is 0, the number is even, otherwise it is odd.\n",
    "- You can also use logical operator \"and\" to check if the number is divisible by 2 and greater than 10.\n",
    "- You can use logical operator \"or\" to check if the number is either divisible by 2 or greater than 10."
   ]
  },
  {
   "cell_type": "code",
   "execution_count": null,
   "id": "b0c279bc",
   "metadata": {
    "scrolled": true
   },
   "outputs": [],
   "source": []
  },
  {
   "cell_type": "markdown",
   "id": "a942a7db",
   "metadata": {},
   "source": [
    "# 2 "
   ]
  },
  {
   "cell_type": "markdown",
   "id": "43cf9eb2",
   "metadata": {},
   "source": [
    "### A Python program that calculates the number of days, weeks, and months left if you live until 90 years old. The program takes the user's current age as input and outputs the calculated time left using f-Strings:\n"
   ]
  },
  {
   "cell_type": "markdown",
   "id": "a9fcf4eb",
   "metadata": {},
   "source": [
    "### Explanation:\n",
    "1. **Define Constants**:\n",
    "   - `MAX_AGE` is set to 90 years, which is the assumed lifespan.\n",
    "   - `DAYS_IN_YEAR`, `WEEKS_IN_YEAR`, and `MONTHS_IN_YEAR` are set to 365, 52, and 12 respectively, representing the number of days, weeks, and months in a year.\n",
    "\n",
    "2. **Take User Input**:\n",
    "   - The program prompts the user to input their current age using `input()`. The `int()` function converts the input from a string to an integer.\n",
    "\n",
    "3. **Calculate Remaining Time**:\n",
    "   - `years_left` is calculated by subtracting the user's current age from `MAX_AGE`.\n",
    "   - `days_left`, `weeks_left`, and `months_left` are then calculated by multiplying `years_left` by the number of days, weeks, and months in a year, respectively.\n",
    "\n",
    "4. **Output the Result**:\n",
    "   - The program uses an f-String to format and print the calculated days, weeks, and months left.\n",
    "\n",
    "### Example Usage:\n",
    "If the user enters their age as `56`:\n",
    "- `years_left` will be `90 - 56 = 34`\n",
    "- `days_left` will be `34 * 365 = 12410`\n",
    "- `weeks_left` will be `34 * 52 = 1768`\n",
    "- `months_left` will be `34 * 12 = 408`\n"
   ]
  },
  {
   "cell_type": "code",
   "execution_count": null,
   "id": "62632c6d",
   "metadata": {},
   "outputs": [],
   "source": []
  },
  {
   "cell_type": "markdown",
   "id": "499052ab",
   "metadata": {},
   "source": [
    "# 3"
   ]
  },
  {
   "cell_type": "markdown",
   "id": "d080764d",
   "metadata": {},
   "source": [
    "### A Python program that generates a band name based on the city you grew up in and the name of your pet. The program will guide the user through the process with clear prompts and output the generated band name:\n"
   ]
  },
  {
   "cell_type": "markdown",
   "id": "a8e7a17f",
   "metadata": {},
   "source": [
    "### Explanation:\n",
    "1. **Greeting**:\n",
    "   - The program starts by printing a friendly welcome message.\n",
    "\n",
    "2. **Input for City**:\n",
    "   - The program prompts the user to enter the name of the city they grew up in.\n",
    "   - The `\\n` in the `input()` function ensures that the input cursor appears on a new line.\n",
    "\n",
    "3. **Input for Pet's Name**:\n",
    "   - The program prompts the user to enter the name of their pet.\n",
    "   - Again, the `\\n` ensures the input cursor appears on a new line.\n",
    "\n",
    "4. **Generate Band Name**:\n",
    "   - The program combines the city and pet names with a space in between to form the band name.\n",
    "\n",
    "5. **Output the Band Name**:\n",
    "   - The program prints the generated band name using an f-String for a clear and formatted output.\n",
    "\n",
    "### Example Output:\n",
    "```\n",
    "Welcome to the Band Name Generator!\n",
    "What's the name of the city you grew up in?\n",
    "Lagos\n",
    "What's your pet's name?\n",
    "Buddy\n",
    "Your band name could be: Lagos Buddy\n",
    "```"
   ]
  },
  {
   "cell_type": "code",
   "execution_count": null,
   "id": "be73922f",
   "metadata": {},
   "outputs": [],
   "source": []
  },
  {
   "cell_type": "markdown",
   "id": "780e1856",
   "metadata": {},
   "source": [
    "# 4"
   ]
  },
  {
   "cell_type": "markdown",
   "id": "3fdb8969",
   "metadata": {},
   "source": [
    "### A Python program that adds the digits in a 2-digit number, following your instructions and using concepts such as data types, subscripting, and type conversion:"
   ]
  },
  {
   "cell_type": "markdown",
   "id": "798e2d95",
   "metadata": {},
   "source": [
    "### Explanation:\n",
    "1. **User Input**:\n",
    "   - The program prompts the user to enter a 2-digit number using the `input()` function. This input is stored as a string in the variable `two_digit_number`.\n",
    "\n",
    "2. **Extracting Digits**:\n",
    "   - Since `two_digit_number` is a string, we can use subscripting (indexing) to extract individual characters.\n",
    "   - `first_digit = two_digit_number[0]` gets the first character (the first digit).\n",
    "   - `second_digit = two_digit_number[1]` gets the second character (the second digit).\n",
    "\n",
    "3. **Type Conversion**:\n",
    "   - The characters representing digits are converted to integers using the `int()` function.\n",
    "   - This allows us to perform arithmetic operations on them.\n",
    "\n",
    "4. **Adding the Digits**:\n",
    "   - The program adds the two integers and stores the result in the variable `digit_sum`.\n",
    "\n",
    "5. **Output the Result**:\n",
    "   - The program prints the result in the required format using an f-String.\n",
    "\n",
    "### Example Output:\n",
    "For an input of `39`:\n",
    "```\n",
    "Enter a 2-digit number: 39\n",
    "3 + 9 = 12\n",
    "```"
   ]
  },
  {
   "cell_type": "code",
   "execution_count": null,
   "id": "9b07c376",
   "metadata": {},
   "outputs": [],
   "source": []
  },
  {
   "cell_type": "markdown",
   "id": "305ed00a",
   "metadata": {},
   "source": [
    "---\n",
    "_**Your Dataness**_,  \n",
    "`Obinna Oliseneku` (_**Hybraid**_)  \n",
    "**[LinkedIn](https://www.linkedin.com/in/obinnao/)** | **[GitHub](https://github.com/hybraid6)**  "
   ]
  }
 ],
 "metadata": {
  "kernelspec": {
   "display_name": "Python 3 (ipykernel)",
   "language": "python",
   "name": "python3"
  },
  "language_info": {
   "codemirror_mode": {
    "name": "ipython",
    "version": 3
   },
   "file_extension": ".py",
   "mimetype": "text/x-python",
   "name": "python",
   "nbconvert_exporter": "python",
   "pygments_lexer": "ipython3",
   "version": "3.10.9"
  }
 },
 "nbformat": 4,
 "nbformat_minor": 5
}
