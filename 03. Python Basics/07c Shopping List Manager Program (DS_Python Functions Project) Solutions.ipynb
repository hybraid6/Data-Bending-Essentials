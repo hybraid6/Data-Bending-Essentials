{
 "cells": [
  {
   "cell_type": "markdown",
   "id": "71f840e2",
   "metadata": {},
   "source": [
    "## Create a program that acts as a basic shopping list manager.\n",
    "\n",
    "**Instructions:**\n",
    "1. Create a dictionary 'shopping_list' that will store item names as keys and their quantities as values.\n",
    "2. Create a function 'add_item' that prompts the user to input an item name and quantity, then adds the item to the shopping list.\n",
    "3. Create a function 'remove_item' that prompts the user to input an item name, then removes the item from the shopping list.\n",
    "4. Create a function 'update_quantity' that prompts the user to input an item name and new quantity, then updates the quantity of the item in the shopping list.\n",
    "5. Create a function 'display_list' that prints all items and their quantities in the shopping list.\n",
    "6. Create a main function 'shopping_list_manager' that does the following:\n",
    "   - Prints a menu with options to add, remove, update, display, or exit.\n",
    "   - Prompts the user to select an option and calls the corresponding function.\n",
    "   - Continues to show the menu until the user chooses to exit."
   ]
  },
  {
   "cell_type": "code",
   "execution_count": null,
   "id": "66e6eeab",
   "metadata": {},
   "outputs": [],
   "source": [
    "def add_item(shopping_list):\n",
    "    \"\"\"Add an item to the shopping list\"\"\"\n",
    "    # Ask the user for the name of the item they want to add\n",
    "    item = input(\"Enter the item name: \")\n",
    "    # Ask the user how many of that item they want\n",
    "    quantity = int(input(\"Enter the quantity: \"))\n",
    "    # Add the item and its quantity to the shopping list\n",
    "    shopping_list[item] = quantity\n",
    "\n",
    "def remove_item(shopping_list):\n",
    "    \"\"\"Remove an item from the shopping list\"\"\"\n",
    "    # Ask the user for the name of the item they want to remove\n",
    "    item = input(\"Enter the item name to remove: \")\n",
    "    # Check if the item is in the shopping list\n",
    "    if item in shopping_list:\n",
    "        # If the item is found, remove it from the shopping list\n",
    "        del shopping_list[item]\n",
    "    else:\n",
    "        # If the item is not found, tell the user\n",
    "        print(\"Item not found.\")\n",
    "\n",
    "def update_quantity(shopping_list):\n",
    "    \"\"\"Update the quantity of an item in the shopping list\"\"\"\n",
    "    # Ask the user for the name of the item they want to update\n",
    "    item = input(\"Enter the item name to update: \")\n",
    "    # Check if the item is in the shopping list\n",
    "    if item in shopping_list:\n",
    "        # Ask the user for the new quantity of the item\n",
    "        quantity = int(input(\"Enter the new quantity: \"))\n",
    "        # Update the item with the new quantity in the shopping list\n",
    "        shopping_list[item] = quantity\n",
    "    else:\n",
    "        # If the item is not found, tell the user\n",
    "        print(\"Item not found.\")\n",
    "\n",
    "def display_list(shopping_list):\n",
    "    \"\"\"Display the shopping list\"\"\"\n",
    "    # Check if the shopping list is not empty\n",
    "    if shopping_list:\n",
    "        # Print the title \"Shopping List:\"\n",
    "        print(\"Shopping List:\")\n",
    "        # Go through each item and quantity in the shopping list\n",
    "        for item, quantity in shopping_list.items():\n",
    "            # Print each item and its quantity\n",
    "            print(f\"{item}: {quantity}\")\n",
    "    else:\n",
    "        # If the shopping list is empty, tell the user\n",
    "        print(\"The shopping list is empty.\")"
   ]
  },
  {
   "cell_type": "markdown",
   "id": "51ca3e36",
   "metadata": {},
   "source": [
    "###### Bringing it all together"
   ]
  },
  {
   "cell_type": "code",
   "execution_count": null,
   "id": "8d78050f",
   "metadata": {},
   "outputs": [],
   "source": [
    "def shopping_list_manager():\n",
    "    \"\"\"Main shopping list manager function\"\"\"\n",
    "    # Create an empty dictionary to store the shopping list\n",
    "    shopping_list = {}\n",
    "    while True:\n",
    "        # Print the menu options for the user\n",
    "        print(\"\\nMenu:\")\n",
    "        print(\"1. Add item\")\n",
    "        print(\"2. Remove item\")\n",
    "        print(\"3. Update quantity\")\n",
    "        print(\"4. Display list\")\n",
    "        print(\"5. Exit\")\n",
    "        \n",
    "        # Ask the user to choose an option from the menu\n",
    "        choice = input(\"Choose an option: \")\n",
    "        \n",
    "        if choice == '1':\n",
    "            # Call the add_item function if the user chose option 1\n",
    "            add_item(shopping_list)\n",
    "        elif choice == '2':\n",
    "            # Call the remove_item function if the user chose option 2\n",
    "            remove_item(shopping_list)\n",
    "        elif choice == '3':\n",
    "            # Call the update_quantity function if the user chose option 3\n",
    "            update_quantity(shopping_list)\n",
    "        elif choice == '4':\n",
    "            # Call the display_list function if the user chose option 4\n",
    "            display_list(shopping_list)\n",
    "        elif choice == '5':\n",
    "            # Print a message and break the loop to exit if the user chose option 5\n",
    "            print(\"Exiting the shopping list manager.\")\n",
    "            break\n",
    "        else:\n",
    "            # If the user enters an invalid choice, tell them to try again\n",
    "            print(\"Invalid choice. Please try again.\")\n",
    "\n",
    "# Start the shopping list manager\n",
    "shopping_list_manager()\n"
   ]
  },
  {
   "cell_type": "code",
   "execution_count": null,
   "id": "4aaffbd5",
   "metadata": {},
   "outputs": [],
   "source": []
  },
  {
   "cell_type": "markdown",
   "id": "4fc8417d",
   "metadata": {},
   "source": [
    "---\n",
    "_**Your Dataness**_,  \n",
    "`Obinna Oliseneku` (_**Hybraid**_)  \n",
    "**[LinkedIn](https://www.linkedin.com/in/obinnao/)** | **[GitHub](https://github.com/hybraid6)**  "
   ]
  }
 ],
 "metadata": {
  "kernelspec": {
   "display_name": "Python 3 (ipykernel)",
   "language": "python",
   "name": "python3"
  },
  "language_info": {
   "codemirror_mode": {
    "name": "ipython",
    "version": 3
   },
   "file_extension": ".py",
   "mimetype": "text/x-python",
   "name": "python",
   "nbconvert_exporter": "python",
   "pygments_lexer": "ipython3",
   "version": "3.10.9"
  }
 },
 "nbformat": 4,
 "nbformat_minor": 5
}
