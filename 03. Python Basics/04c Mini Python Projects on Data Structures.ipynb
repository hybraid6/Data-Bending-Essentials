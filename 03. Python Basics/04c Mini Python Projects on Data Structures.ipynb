{
 "cells": [
  {
   "cell_type": "markdown",
   "id": "9338dda9",
   "metadata": {},
   "source": [
    "### Question 1\n",
    "Write a Python program that adds all the items in a list.\n",
    "\n",
    "Sample list = [1, 2, 3, 4, 5]\n",
    "\n",
    "*Result = 15*"
   ]
  },
  {
   "cell_type": "code",
   "execution_count": null,
   "id": "0824a405",
   "metadata": {},
   "outputs": [],
   "source": []
  },
  {
   "cell_type": "markdown",
   "id": "36c1194a",
   "metadata": {},
   "source": [
    "### Question 2\n",
    "Write a Python program to get a list, sorted in decreasing order by the 2nd element in each tuple, from a given list of non-empty tuples.\n",
    "\n",
    "Sample List:[(2, 5, 2), (1, 2, 1), (4, 4, 4), (2, 3, 2), (2, 1, 2)]\n",
    "\n",
    "Expected result: [(2, 5, 2), (4, 4, 4), (2, 3, 2), (1, 2, 1), (2, 1, 2)]"
   ]
  },
  {
   "cell_type": "code",
   "execution_count": null,
   "id": "ce2c6257",
   "metadata": {},
   "outputs": [],
   "source": []
  },
  {
   "cell_type": "markdown",
   "id": "ff462414",
   "metadata": {},
   "source": [
    "### Question 3\n",
    "Write a Python program that merges two dictionaries by taking the maximum value for common keys.\n",
    "\n",
    "d1 = {'a': 100, 'b': 200, 'c': 300}\n",
    "\n",
    "d2 = {'a': 300, 'b': 100, 'd': 400}"
   ]
  },
  {
   "cell_type": "code",
   "execution_count": null,
   "id": "e3ad7c90",
   "metadata": {},
   "outputs": [],
   "source": []
  },
  {
   "cell_type": "markdown",
   "id": "74e58fcd",
   "metadata": {},
   "source": [
    "### Question 4\n",
    "With a given integer number `n`, write a program to generate a dictionary that contains (i, i\\*i\\*i) such that `i` is an integer number between 1 and `n` (both included). Then the program should print the dictionary. Suppose the following input is supplied to the program: 5. Then, the output should be: {1: 1, 2: 8, 3: 27, 4: 64, 5: 125}\n"
   ]
  },
  {
   "cell_type": "code",
   "execution_count": null,
   "id": "3a33540a",
   "metadata": {},
   "outputs": [],
   "source": []
  },
  {
   "cell_type": "markdown",
   "id": "1a1bfa32",
   "metadata": {},
   "source": [
    "### Question 5\n",
    "Write a program to sort a list of dictionaries by a key.\n",
    "\n",
    "For example: list = [{'name': 'item1', 'price': '12.20'}, {'name': 'item2', 'price': '15.10'}, {'name': 'item3', 'price': '24.5'}]\n",
    "\n",
    "Expected result: [{'name': 'item3', 'price': '24.5'}, {'name': 'item2', 'price': '15.10'}, {'name': 'item1', 'price': '12.20'}]"
   ]
  },
  {
   "cell_type": "code",
   "execution_count": null,
   "id": "6ba3a4f2",
   "metadata": {},
   "outputs": [],
   "source": []
  },
  {
   "cell_type": "markdown",
   "id": "339d7239",
   "metadata": {},
   "source": [
    "### Question 6\n",
    "Write a Python program to create a dictionary from two lists.\n",
    "\n",
    "Examples:\n",
    "```\n",
    "keys = ['a', 'b', 'c']\n",
    "values = [1, 2, 3]\n",
    "# Expected result: {'a': 1, 'b': 2, 'c': 3}\n",
    "```\n",
    "\n",
    "\n",
    "- Then, Write a Python program to iterate over a dictionary.\n",
    "\n",
    "- Write a Python program to add a key-value pair to a dictionary and remove a key from the dictionary."
   ]
  },
  {
   "cell_type": "code",
   "execution_count": null,
   "id": "d60cf74a",
   "metadata": {},
   "outputs": [],
   "source": []
  }
 ],
 "metadata": {
  "kernelspec": {
   "display_name": "Python 3 (ipykernel)",
   "language": "python",
   "name": "python3"
  },
  "language_info": {
   "codemirror_mode": {
    "name": "ipython",
    "version": 3
   },
   "file_extension": ".py",
   "mimetype": "text/x-python",
   "name": "python",
   "nbconvert_exporter": "python",
   "pygments_lexer": "ipython3",
   "version": "3.10.9"
  }
 },
 "nbformat": 4,
 "nbformat_minor": 5
}
