{
 "cells": [
  {
   "cell_type": "markdown",
   "id": "c3c4e4ae",
   "metadata": {},
   "source": [
    "# Regular Expressions"
   ]
  },
  {
   "cell_type": "markdown",
   "id": "4d8b25da",
   "metadata": {},
   "source": [
    "### What are Regular Expressions?\n",
    "\n",
    "- Regular expressions (regex) are patterns used to match character combinations in strings.\n",
    "- They are used for searching, matching, and manipulating text based on specific patterns."
   ]
  },
  {
   "cell_type": "code",
   "execution_count": 1,
   "id": "436ced29",
   "metadata": {},
   "outputs": [],
   "source": [
    "import re"
   ]
  },
  {
   "cell_type": "markdown",
   "id": "412b719a",
   "metadata": {},
   "source": [
    "### Basic Regular Expression Syntax"
   ]
  },
  {
   "cell_type": "code",
   "execution_count": null,
   "id": "6379698c",
   "metadata": {},
   "outputs": [],
   "source": [
    "# .       - Any character except newline\n",
    "# ^       - Start of string\n",
    "# $       - End of string\n",
    "# *       - 0 or more repetitions\n",
    "# +       - 1 or more repetitions\n",
    "# ?       - 0 or 1 repetition\n",
    "# {n}     - Exactly n repetitions\n",
    "# {n,}    - n or more repetitions\n",
    "# {n,m}   - Between n and m repetitions\n",
    "# [abc]   - Any of a, b, or c\n",
    "# [^abc]  - Not a, b, or c\n",
    "# a|b     - Either a or b\n",
    "# ()      - Grouping"
   ]
  },
  {
   "cell_type": "code",
   "execution_count": null,
   "id": "f28a25f0",
   "metadata": {},
   "outputs": [],
   "source": [
    "# Practice Questions:\n",
    "# 1. What does the '^' symbol represent in regular expressions?\n",
    "# 2. Write a regex pattern to match any string that starts with 'a' and ends with 'z'."
   ]
  },
  {
   "cell_type": "code",
   "execution_count": null,
   "id": "4a0896b4",
   "metadata": {},
   "outputs": [],
   "source": []
  },
  {
   "cell_type": "markdown",
   "id": "2d0a3cef",
   "metadata": {},
   "source": [
    "### Common Functions and Methods in Python"
   ]
  },
  {
   "cell_type": "markdown",
   "id": "75308c15",
   "metadata": {},
   "source": [
    "### 1. `re.match()`\n",
    "- Determines if the regex matches at the beginning of the string."
   ]
  },
  {
   "cell_type": "code",
   "execution_count": 16,
   "id": "3e836566",
   "metadata": {},
   "outputs": [
    {
     "name": "stdout",
     "output_type": "stream",
     "text": [
      "Match found: <re.Match object; span=(0, 5), match='hello'>\n",
      "Match found: hello\n"
     ]
    }
   ],
   "source": [
    "pattern = r'h\\w*o'\n",
    "text = 'hello world'\n",
    "match = re.match(pattern, text)\n",
    "if match:\n",
    "    print('Match found:', match)\n",
    "    print('Match found:', match.group())\n",
    "else:\n",
    "    print('No match')"
   ]
  },
  {
   "cell_type": "markdown",
   "id": "854e7372",
   "metadata": {},
   "source": [
    "### 2. `re.search()`\n",
    "- Searches for the first location where the regex matches."
   ]
  },
  {
   "cell_type": "code",
   "execution_count": 7,
   "id": "a259ac4e",
   "metadata": {},
   "outputs": [
    {
     "name": "stdout",
     "output_type": "stream",
     "text": [
      "Match found: <re.Match object; span=(6, 11), match='world'>\n",
      "Match found: world\n"
     ]
    }
   ],
   "source": [
    "pattern = r'world'\n",
    "search = re.search(pattern, text)\n",
    "if search:\n",
    "    print('Match found:', search)\n",
    "    print('Match found:', search.group())\n",
    "else:\n",
    "    print('No match')"
   ]
  },
  {
   "cell_type": "markdown",
   "id": "35ec72c6",
   "metadata": {},
   "source": [
    "### 3. re.findall()\n",
    "- Returns all non-overlapping matches of the pattern in the string as a list."
   ]
  },
  {
   "cell_type": "code",
   "execution_count": 10,
   "id": "73237237",
   "metadata": {},
   "outputs": [
    {
     "name": "stdout",
     "output_type": "stream",
     "text": [
      "All matches: ['123', '45']\n"
     ]
    }
   ],
   "source": [
    "pattern = r'\\d+'  # Matches one or more digits\n",
    "text = 'There are 123 apples and 45 bananas.'\n",
    "all_matches = re.findall(pattern, text)\n",
    "print('All matches:', all_matches)"
   ]
  },
  {
   "cell_type": "markdown",
   "id": "6a2a4b25",
   "metadata": {},
   "source": [
    "### 4. `re.sub()`\n",
    "- Replaces the matches with the specified string."
   ]
  },
  {
   "cell_type": "code",
   "execution_count": 11,
   "id": "afc66ab8",
   "metadata": {},
   "outputs": [
    {
     "name": "stdout",
     "output_type": "stream",
     "text": [
      "Replaced text: There are 123 oranges and 45 bananas.\n"
     ]
    }
   ],
   "source": [
    "pattern = r'apples'\n",
    "replacement = 'oranges'\n",
    "new_text = re.sub(pattern, replacement, text)\n",
    "print('Replaced text:', new_text)"
   ]
  },
  {
   "cell_type": "code",
   "execution_count": null,
   "id": "ee3f31bb",
   "metadata": {},
   "outputs": [],
   "source": [
    "# Practice Questions:\n",
    "# 1. Use re.match() to check if a string starts with 'Python'.\n",
    "# 2. Use re.search() to find the first occurrence of a digit in a string.\n",
    "# 3. Use re.findall() to find all words in a string.\n",
    "# 4. Use re.sub() to replace all spaces in a string with hyphens."
   ]
  },
  {
   "cell_type": "code",
   "execution_count": null,
   "id": "7784597b",
   "metadata": {},
   "outputs": [],
   "source": [
    "# Answer:\n",
    "# 1. re.match(r'^Python', text)\n",
    "# 2. re.search(r'\\d', text)\n",
    "# 3. re.findall(r'\\b\\w+\\b', text)\n",
    "# 4. re.sub(r' ', '-', text)"
   ]
  },
  {
   "cell_type": "markdown",
   "id": "2c43e0b8",
   "metadata": {},
   "source": [
    "### Practical Examples"
   ]
  },
  {
   "cell_type": "code",
   "execution_count": null,
   "id": "28885307",
   "metadata": {},
   "outputs": [],
   "source": [
    "# Example 1: Validate an Email Address\n",
    "pattern = r'^[a-zA-Z0-9_.+-]+@[a-zA-Z0-9-]+\\.[a-zA-Z0-9-.]+$'\n",
    "email = 'example@example.com'\n",
    "if re.match(pattern, email):\n",
    "    print('Valid email')\n",
    "else:\n",
    "    print('Invalid email')"
   ]
  },
  {
   "cell_type": "code",
   "execution_count": 13,
   "id": "e1d9d951",
   "metadata": {},
   "outputs": [
    {
     "name": "stdout",
     "output_type": "stream",
     "text": [
      "Dates found: ['12/05/2021', '15/06/2021']\n"
     ]
    }
   ],
   "source": [
    "# Example 2: Extract Dates from a Text\n",
    "pattern = r'\\b\\d{2}/\\d{2}/\\d{4}\\b'\n",
    "text = 'The event is scheduled for 12/05/2021 and 15/06/2021.'\n",
    "dates = re.findall(pattern, text)\n",
    "print('Dates found:', dates)"
   ]
  },
  {
   "cell_type": "code",
   "execution_count": 14,
   "id": "2d915c91",
   "metadata": {},
   "outputs": [
    {
     "name": "stdout",
     "output_type": "stream",
     "text": [
      "Fruits: ['apple', 'orange', 'banana', 'pear']\n"
     ]
    }
   ],
   "source": [
    "# Example 3: Split a String by Multiple Delimiters\n",
    "pattern = r'[;, \\n]+'\n",
    "text = 'apple;orange,banana\\npear'\n",
    "fruits = re.split(pattern, text)\n",
    "print('Fruits:', fruits)"
   ]
  },
  {
   "cell_type": "code",
   "execution_count": null,
   "id": "ce22780f",
   "metadata": {},
   "outputs": [],
   "source": [
    "# Practice Questions:\n",
    "# 1. Write a regex pattern to validate a phone number (e.g., (123) 456-7890).\n",
    "# 2. Extract all hashtags from a text (e.g., \"This is a #hashtag example.\").\n",
    "# 3. Split a string by commas, semicolons, and spaces."
   ]
  },
  {
   "cell_type": "code",
   "execution_count": null,
   "id": "af49912d",
   "metadata": {},
   "outputs": [],
   "source": [
    "# Answer:\n",
    "# 1. r'^\\(\\d{3}\\) \\d{3}-\\d{4}$'\n",
    "# 2. re.findall(r'#\\w+', text)\n",
    "# 3. re.split(r'[;, ]+', text)"
   ]
  },
  {
   "cell_type": "code",
   "execution_count": null,
   "id": "2d37b90d",
   "metadata": {},
   "outputs": [],
   "source": [
    "# Complete Example: Parsing a Log File\n",
    "\n",
    "# Step-by-step process:"
   ]
  },
  {
   "cell_type": "code",
   "execution_count": 17,
   "id": "287ca7f5",
   "metadata": {},
   "outputs": [],
   "source": [
    "# 1. Read the log file\n",
    "log_data = \"\"\"\n",
    "127.0.0.1 - - [28/Jul/2021:10:22:04] \"GET /index.html HTTP/1.1\" 200 1043\n",
    "192.168.1.1 - - [28/Jul/2021:10:22:05] \"POST /login HTTP/1.1\" 200 2205\n",
    "\"\"\""
   ]
  },
  {
   "cell_type": "code",
   "execution_count": 24,
   "id": "fa105af8",
   "metadata": {},
   "outputs": [],
   "source": [
    "# 2. Define a regex pattern to extract IP addresses, timestamps, and request methods\n",
    "pattern = r'(\\d+\\.\\d+\\.\\d+\\.\\d+) - - \\[(.*?)\\] \"(.*?)\"'"
   ]
  },
  {
   "cell_type": "code",
   "execution_count": 25,
   "id": "f9c2a9fd",
   "metadata": {},
   "outputs": [],
   "source": [
    "# 3. Use re.findall() to extract the data\n",
    "log_entries = re.findall(pattern, log_data)"
   ]
  },
  {
   "cell_type": "code",
   "execution_count": 26,
   "id": "2b079802",
   "metadata": {},
   "outputs": [
    {
     "data": {
      "text/plain": [
       "[('127.0.0.1', '28/Jul/2021:10:22:04', 'GET /index.html HTTP/1.1'),\n",
       " ('192.168.1.1', '28/Jul/2021:10:22:05', 'POST /login HTTP/1.1')]"
      ]
     },
     "execution_count": 26,
     "metadata": {},
     "output_type": "execute_result"
    }
   ],
   "source": [
    "log_entries"
   ]
  },
  {
   "cell_type": "code",
   "execution_count": 27,
   "id": "318bd0d3",
   "metadata": {},
   "outputs": [
    {
     "name": "stdout",
     "output_type": "stream",
     "text": [
      "IP Address: 127.0.0.1\n",
      "Timestamp: 28/Jul/2021:10:22:04\n",
      "Request: GET /index.html HTTP/1.1\n",
      "----------------------------------------\n",
      "IP Address: 192.168.1.1\n",
      "Timestamp: 28/Jul/2021:10:22:05\n",
      "Request: POST /login HTTP/1.1\n",
      "----------------------------------------\n"
     ]
    }
   ],
   "source": [
    "# 4. Print the extracted data\n",
    "for entry in log_entries:\n",
    "    print('IP Address:', entry[0])\n",
    "    print('Timestamp:', entry[1])\n",
    "    print('Request:', entry[2])\n",
    "    print('-' * 40)"
   ]
  },
  {
   "cell_type": "code",
   "execution_count": null,
   "id": "67baa678",
   "metadata": {},
   "outputs": [],
   "source": [
    "# Practice Questions:\n",
    "# 1. Write a regex pattern to extract the status codes and response sizes from the log entries.\n",
    "# 2. Modify the log parsing example to save the extracted data into a CSV file.\n",
    "\n",
    "# Answer:\n",
    "# 1. r'(\\d+\\.\\d+\\.\\d+\\.\\d+) - - \\[(.*?)\\] \"(.*?)\" (\\d{3}) (\\d+)'\n",
    "# 2. Use the csv module to write the extracted data to a CSV file."
   ]
  },
  {
   "cell_type": "code",
   "execution_count": null,
   "id": "c4759fee-3319-4144-a15d-bfa48f4e3abf",
   "metadata": {},
   "outputs": [],
   "source": []
  },
  {
   "cell_type": "markdown",
   "id": "6207bc58-1c5d-49fc-a2c3-1dafea64f428",
   "metadata": {},
   "source": [
    "---\n",
    "_**Your Dataness**_,  \n",
    "`Obinna Oliseneku` (_**Hybraid**_)  \n",
    "**[LinkedIn](https://www.linkedin.com/in/obinnao/)** | **[GitHub](https://github.com/hybraid6)**  "
   ]
  }
 ],
 "metadata": {
  "kernelspec": {
   "display_name": "Python 3 (ipykernel)",
   "language": "python",
   "name": "python3"
  },
  "language_info": {
   "codemirror_mode": {
    "name": "ipython",
    "version": 3
   },
   "file_extension": ".py",
   "mimetype": "text/x-python",
   "name": "python",
   "nbconvert_exporter": "python",
   "pygments_lexer": "ipython3",
   "version": "3.12.7"
  }
 },
 "nbformat": 4,
 "nbformat_minor": 5
}
