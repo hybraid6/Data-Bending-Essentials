{
 "cells": [
  {
   "cell_type": "markdown",
   "id": "a2d9265c",
   "metadata": {},
   "source": [
    "# Data Structures in Python (Dictionaries and Sets)"
   ]
  },
  {
   "cell_type": "markdown",
   "id": "16811eea",
   "metadata": {},
   "source": [
    "## Dictionaries in Python\n",
    "\n",
    "- A dictionary is an ordered collection of key-value pairs.\n",
    "- Each key is unique and maps to a value.\n",
    "- Dictionaries are created using curly braces {} with key-value pairs separated by colons."
   ]
  },
  {
   "cell_type": "markdown",
   "id": "780ec759",
   "metadata": {},
   "source": [
    "### Example of a dictionary"
   ]
  },
  {
   "cell_type": "code",
   "execution_count": null,
   "id": "8138b989",
   "metadata": {
    "scrolled": true
   },
   "outputs": [],
   "source": [
    "my_dict = {\"name\": \"Alice\", \"age\": 25, \"city\": \"New York\"}\n",
    "print(my_dict)"
   ]
  },
  {
   "cell_type": "code",
   "execution_count": null,
   "id": "5f098d69",
   "metadata": {},
   "outputs": [],
   "source": [
    "my_dict['name']"
   ]
  },
  {
   "cell_type": "code",
   "execution_count": null,
   "id": "56940c29",
   "metadata": {},
   "outputs": [],
   "source": [
    "my_dict = {\"name\": [\"Alice\", 'Thorne', 'Kate', 'Duplikate', 'Ketu'], \"age\": 25, \"city\": \"New York\"}"
   ]
  },
  {
   "cell_type": "code",
   "execution_count": null,
   "id": "2212016e",
   "metadata": {},
   "outputs": [],
   "source": [
    "my_dict[\"name\"]"
   ]
  },
  {
   "cell_type": "markdown",
   "id": "762d7a42",
   "metadata": {},
   "source": [
    "### Accessing Values\n",
    "- You can access the value associated with a key using square brackets []."
   ]
  },
  {
   "cell_type": "code",
   "execution_count": null,
   "id": "7d4b402a",
   "metadata": {},
   "outputs": [],
   "source": [
    "print(my_dict[\"name\"])  # Output: Alice"
   ]
  },
  {
   "cell_type": "markdown",
   "id": "c8d92c1d",
   "metadata": {},
   "source": [
    "### Adding or Updating Values\n",
    "- You can add a new key-value pair or update an existing one."
   ]
  },
  {
   "cell_type": "code",
   "execution_count": null,
   "id": "727a1fa3",
   "metadata": {},
   "outputs": [],
   "source": [
    "my_dict[\"email\"] = \"alice@example.com\"  # Adds a new key-value pair\n",
    "print(my_dict)"
   ]
  },
  {
   "cell_type": "code",
   "execution_count": null,
   "id": "38f78292",
   "metadata": {},
   "outputs": [],
   "source": [
    "my_dict['name2'] = 'Bernice'\n",
    "my_dict"
   ]
  },
  {
   "cell_type": "code",
   "execution_count": null,
   "id": "630396ef",
   "metadata": {},
   "outputs": [],
   "source": [
    "my_dict[\"age\"] = 26  # Updates the value associated with the key \"age\"\n",
    "print(my_dict)"
   ]
  },
  {
   "cell_type": "markdown",
   "id": "ced15c41",
   "metadata": {},
   "source": [
    "### Removing Key-Value Pairs\n",
    "- You can remove a key-value pair using the del statement or the pop() method."
   ]
  },
  {
   "cell_type": "code",
   "execution_count": null,
   "id": "f1c61194",
   "metadata": {},
   "outputs": [],
   "source": [
    "del my_dict[\"name2\"]\n",
    "print(my_dict)"
   ]
  },
  {
   "cell_type": "code",
   "execution_count": null,
   "id": "210f2caf",
   "metadata": {},
   "outputs": [],
   "source": [
    "age = my_dict.pop(\"age\")\n",
    "print(my_dict)\n",
    "print(\"Popped age:\", age)"
   ]
  },
  {
   "cell_type": "markdown",
   "id": "001a28ba",
   "metadata": {},
   "source": [
    "### Looping through Dictionaries\n",
    "- You can loop through keys, values, or key-value pairs using a for loop."
   ]
  },
  {
   "cell_type": "code",
   "execution_count": null,
   "id": "2f16aaeb",
   "metadata": {},
   "outputs": [],
   "source": [
    "my_dict"
   ]
  },
  {
   "cell_type": "code",
   "execution_count": null,
   "id": "e2105a60",
   "metadata": {
    "scrolled": false
   },
   "outputs": [],
   "source": [
    "print('email', my_dict['email'])"
   ]
  },
  {
   "cell_type": "code",
   "execution_count": null,
   "id": "83945305",
   "metadata": {
    "scrolled": false
   },
   "outputs": [],
   "source": [
    "for key in my_dict:\n",
    "    print(key, my_dict[key])"
   ]
  },
  {
   "cell_type": "code",
   "execution_count": null,
   "id": "ce26637a",
   "metadata": {},
   "outputs": [],
   "source": [
    "my_dict.items()"
   ]
  },
  {
   "cell_type": "code",
   "execution_count": null,
   "id": "3c1c8eeb",
   "metadata": {
    "scrolled": true
   },
   "outputs": [],
   "source": [
    "for key, value in my_dict.items():\n",
    "    print(key, value)"
   ]
  },
  {
   "cell_type": "markdown",
   "id": "e18a641f",
   "metadata": {},
   "source": [
    "### Checking for Key Existence\n",
    "- Use the in keyword to check if a key exists in the dictionary."
   ]
  },
  {
   "cell_type": "code",
   "execution_count": null,
   "id": "592db75c",
   "metadata": {},
   "outputs": [],
   "source": [
    "print(\"Alice\" in my_dict)  # Output: True"
   ]
  },
  {
   "cell_type": "markdown",
   "id": "3177ac9a",
   "metadata": {},
   "source": [
    "### Dictionary Methods\n",
    "- There are several useful methods for dictionaries, such as keys(), values(), and items()."
   ]
  },
  {
   "cell_type": "code",
   "execution_count": null,
   "id": "81b45bfc",
   "metadata": {
    "scrolled": true
   },
   "outputs": [],
   "source": [
    "print(my_dict.keys())\n",
    "print(my_dict.values())\n",
    "print(my_dict.items())"
   ]
  },
  {
   "cell_type": "code",
   "execution_count": null,
   "id": "889d29aa",
   "metadata": {},
   "outputs": [],
   "source": [
    "# Practice Questions:\n",
    "# 1. Create a dictionary with keys \"name\", \"age\", and \"city\". Add a key \"email\" and update the \"age\".\n",
    "# 2. Remove the key \"city\" from the dictionary.\n",
    "# 3. Loop through the dictionary and print each key-value pair.\n",
    "# 4. Check if the key \"name\" exists in the dictionary."
   ]
  },
  {
   "cell_type": "markdown",
   "id": "98df10c4",
   "metadata": {},
   "source": [
    "## Sets in Python\n",
    "\n",
    "- A set is an unordered collection of unique elements.\n",
    "- Sets are created using curly braces {} or the set() function."
   ]
  },
  {
   "cell_type": "markdown",
   "id": "c9a955f1",
   "metadata": {},
   "source": [
    "### Example of a set"
   ]
  },
  {
   "cell_type": "code",
   "execution_count": null,
   "id": "2678b4f9",
   "metadata": {},
   "outputs": [],
   "source": [
    "my_set = {1, 2, 3, 4, 5}\n",
    "print(my_set)"
   ]
  },
  {
   "cell_type": "markdown",
   "id": "f5334a9d",
   "metadata": {},
   "source": [
    "### Creating a set from a list (to remove duplicates)"
   ]
  },
  {
   "cell_type": "code",
   "execution_count": null,
   "id": "6ab199b3",
   "metadata": {
    "scrolled": true
   },
   "outputs": [],
   "source": [
    "my_list = [True, 1, 0, False, 2, 2, 3, 5,  4, 4]\n",
    "unique_set = set(my_list)\n",
    "print(unique_set)"
   ]
  },
  {
   "cell_type": "markdown",
   "id": "ba87ba61",
   "metadata": {},
   "source": [
    "### Adding and Removing Elements\n",
    "- You can add an element using the add() method and remove an element using the remove() method."
   ]
  },
  {
   "cell_type": "code",
   "execution_count": null,
   "id": "12ca36ca",
   "metadata": {},
   "outputs": [],
   "source": [
    "my_set.add(6)\n",
    "print(my_set)\n",
    "\n",
    "my_set.remove(3)\n",
    "print(my_set)"
   ]
  },
  {
   "cell_type": "markdown",
   "id": "7385641b",
   "metadata": {},
   "source": [
    "### Set Operations\n",
    "- Sets support several mathematical operations such as union, intersection, difference, and symmetric difference."
   ]
  },
  {
   "cell_type": "markdown",
   "id": "d827efed",
   "metadata": {},
   "source": [
    "### Union: Elements present in either set"
   ]
  },
  {
   "cell_type": "code",
   "execution_count": null,
   "id": "297a500d",
   "metadata": {},
   "outputs": [],
   "source": [
    "set1 = {1, 2, 3}\n",
    "set2 = {3, 4, 5}\n",
    "union_set = set1.union(set2)\n",
    "print(\"Union:\", union_set)  # Output: {1, 2, 3, 4, 5}"
   ]
  },
  {
   "cell_type": "markdown",
   "id": "62da96be",
   "metadata": {},
   "source": [
    "### Intersection: Elements present in both sets"
   ]
  },
  {
   "cell_type": "code",
   "execution_count": null,
   "id": "0c4cca8c",
   "metadata": {},
   "outputs": [],
   "source": [
    "intersection_set = set1.intersection(set2)\n",
    "print(\"Intersection:\", intersection_set)  # Output: {3}"
   ]
  },
  {
   "cell_type": "markdown",
   "id": "25c64e94",
   "metadata": {},
   "source": [
    "### Difference: Elements present in set1 but not in set2"
   ]
  },
  {
   "cell_type": "code",
   "execution_count": null,
   "id": "aded162a",
   "metadata": {},
   "outputs": [],
   "source": [
    "difference_set = set1.difference(set2)\n",
    "print(\"Difference:\", difference_set)  # Output: {1, 2}"
   ]
  },
  {
   "cell_type": "markdown",
   "id": "2afdbe28",
   "metadata": {},
   "source": [
    "### Symmetric Difference: Elements present in either set, but not both"
   ]
  },
  {
   "cell_type": "code",
   "execution_count": null,
   "id": "0e320a27",
   "metadata": {},
   "outputs": [],
   "source": [
    "symmetric_difference_set = set1.symmetric_difference(set2)\n",
    "print(\"Symmetric Difference:\", symmetric_difference_set)  # Output: {1, 2, 4, 5}"
   ]
  },
  {
   "cell_type": "code",
   "execution_count": null,
   "id": "19e14a3b",
   "metadata": {},
   "outputs": [],
   "source": [
    "# Practice Questions:\n",
    "# 1. Create a set with elements 1, 2, 3, 4, 5. Add the element 6 and remove the element 3.\n",
    "# 2. Convert a list with duplicate elements to a set to remove duplicates.\n",
    "# 3. Perform union, intersection, difference, and symmetric difference operations on two sets."
   ]
  },
  {
   "cell_type": "markdown",
   "id": "9a406162",
   "metadata": {},
   "source": [
    "### Advanced Dictionary Operations"
   ]
  },
  {
   "cell_type": "markdown",
   "id": "bab19277",
   "metadata": {},
   "source": [
    "### 1. Merging Dictionaries\n",
    "- You can merge two dictionaries using the update() method or the ** unpacking operator."
   ]
  },
  {
   "cell_type": "code",
   "execution_count": null,
   "id": "26c17454",
   "metadata": {},
   "outputs": [],
   "source": [
    "dict1 = {\"a\": 1, \"b\": 2}\n",
    "dict2 = {\"b\": 3, \"c\": 4}\n",
    "dict1.update(dict2)\n",
    "print(dict1)  # Output: {'a': 1, 'b': 3, 'c': 4}"
   ]
  },
  {
   "cell_type": "markdown",
   "id": "e2f1d077",
   "metadata": {},
   "source": [
    "### Using ** unpacking operator"
   ]
  },
  {
   "cell_type": "code",
   "execution_count": null,
   "id": "ccb266aa",
   "metadata": {},
   "outputs": [],
   "source": [
    "b = {\"a\": 1, \"b\": 2, \"b\": 3, \"c\": 4}\n",
    "b"
   ]
  },
  {
   "cell_type": "code",
   "execution_count": null,
   "id": "4c0db0a8",
   "metadata": {},
   "outputs": [],
   "source": [
    "merged_dict = {**dict1, **dict2}\n",
    "print(merged_dict)  # Output: {'a': 1, 'b': 3, 'c': 4}"
   ]
  },
  {
   "cell_type": "markdown",
   "id": "63b0a541",
   "metadata": {},
   "source": [
    "### 2. Dictionary Comprehension\n",
    "- Dictionary comprehensions provide a concise way to create dictionaries."
   ]
  },
  {
   "cell_type": "code",
   "execution_count": null,
   "id": "da4215aa",
   "metadata": {},
   "outputs": [],
   "source": [
    "squares = {x : x**2 for x in range(5)}\n",
    "print(squares)  # Output: {0: 0, 1: 1, 2: 4, 3: 9, 4: 16}"
   ]
  },
  {
   "cell_type": "code",
   "execution_count": null,
   "id": "59d6b073",
   "metadata": {},
   "outputs": [],
   "source": [
    "# Practice Questions:\n",
    "# 1. Merge two dictionaries and print the result.\n",
    "# 2. Create a dictionary comprehension that maps numbers from 2 to 8 to their squares."
   ]
  },
  {
   "cell_type": "markdown",
   "id": "ea028bb4",
   "metadata": {},
   "source": [
    "### Advanced Set Operations"
   ]
  },
  {
   "cell_type": "markdown",
   "id": "037b9159",
   "metadata": {},
   "source": [
    "### 1. Checking Subset and Superset\n",
    "- Use issubset() and issuperset() methods to check if one set is a subset or superset of another."
   ]
  },
  {
   "cell_type": "code",
   "execution_count": null,
   "id": "191bdb98",
   "metadata": {},
   "outputs": [],
   "source": [
    "set_a = {1, 2, 3}\n",
    "set_b = {1, 2, 3, 4, 5}\n",
    "print(set_a.issubset(set_b))  # Output: True\n",
    "print(set_b.issuperset(set_a))  # Output: True"
   ]
  },
  {
   "cell_type": "markdown",
   "id": "e97e3a52",
   "metadata": {},
   "source": [
    "### 2. Set Comprehension\n",
    "- Set comprehensions provide a concise way to create sets."
   ]
  },
  {
   "cell_type": "code",
   "execution_count": null,
   "id": "44b4e3db",
   "metadata": {
    "scrolled": true
   },
   "outputs": [],
   "source": [
    "plus_three = {x + 3 for x in range(5)}\n",
    "print(plus_three)  # Output: {3, 4, 5, 6, 7}"
   ]
  },
  {
   "cell_type": "code",
   "execution_count": null,
   "id": "b01de777",
   "metadata": {},
   "outputs": [],
   "source": [
    "# Practice Questions:\n",
    "# 1. Check if a set {3, 6, 9} is a subset of {1, 2, 3, 4, 5, 6, 7, 8}.\n",
    "# 2. Create a set comprehension that contains the cubes of numbers from 0 to 4."
   ]
  },
  {
   "cell_type": "markdown",
   "id": "994357a7",
   "metadata": {},
   "source": [
    "---\n",
    "_**Your Dataness**_,  \n",
    "`Obinna Oliseneku` (_**Hybraid**_)  \n",
    "**[LinkedIn](https://www.linkedin.com/in/obinnao/)** | **[GitHub](https://github.com/hybraid6)**  "
   ]
  }
 ],
 "metadata": {
  "kernelspec": {
   "display_name": "Python 3 (ipykernel)",
   "language": "python",
   "name": "python3"
  },
  "language_info": {
   "codemirror_mode": {
    "name": "ipython",
    "version": 3
   },
   "file_extension": ".py",
   "mimetype": "text/x-python",
   "name": "python",
   "nbconvert_exporter": "python",
   "pygments_lexer": "ipython3",
   "version": "3.10.9"
  }
 },
 "nbformat": 4,
 "nbformat_minor": 5
}
