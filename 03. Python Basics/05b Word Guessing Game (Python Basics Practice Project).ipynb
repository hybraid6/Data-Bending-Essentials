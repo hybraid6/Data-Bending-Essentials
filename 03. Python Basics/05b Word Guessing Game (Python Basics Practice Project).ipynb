{
 "cells": [
  {
   "cell_type": "markdown",
   "id": "0e28f411",
   "metadata": {},
   "source": [
    "## Word Guessing Game"
   ]
  },
  {
   "cell_type": "markdown",
   "id": "14024bd4",
   "metadata": {},
   "source": [
    "1. **Task Description**:\n",
    "Create a game that allows a player to guess a word chosen randomly from a predefined list of words.\n",
    "\n",
    "2. **Instructions**:\n",
    "     - **Step 1**: Import the `random` module.\n",
    "     - **Step 2**: Create a list of words called `words_list` containing several words.\n",
    "     - **Step 3**: Print a welcome message to the player, informing them about the game and displaying the list of words they can guess from.\n",
    "     - **Step 4**: Use the `random.choice()` function to select a random word from the `words_list` and assign it to the variable `word_to_guess`.\n",
    "     - **Step 5**: Create a boolean variable called `guessed_correctly` and set it to `False`. This variable will track whether the player has guessed the word correctly.\n",
    "     - **Step 6**: Start a `while` loop that continues until `guessed_correctly` is `True`.\n",
    "     - **Step 7**: Inside the loop, prompt the player to enter their guess using the `input()` function. Strip any leading or trailing whitespace from the input and convert it to lowercase.\n",
    "     - **Step 8**: Check if the guess matches the `word_to_guess`. If it does, print a congratulatory message informing the player that they have guessed the word correctly and set `guessed_correctly` to `True` to end the loop.\n",
    "     - **Step 9**: If the guess is incorrect, inform the player that their guess is incorrect and prompt them to guess again.\n",
    "     - **Step 10**: Continue looping until the player guesses the word correctly."
   ]
  },
  {
   "cell_type": "code",
   "execution_count": null,
   "id": "8b7fd157",
   "metadata": {
    "scrolled": true
   },
   "outputs": [],
   "source": []
  },
  {
   "cell_type": "markdown",
   "id": "97a2a948",
   "metadata": {},
   "source": [
    "---\n",
    "_**Your Dataness**_,  \n",
    "`Obinna Oliseneku` (_**Hybraid**_)  \n",
    "**[LinkedIn](https://www.linkedin.com/in/obinnao/)** | **[GitHub](https://github.com/hybraid6)**  "
   ]
  }
 ],
 "metadata": {
  "kernelspec": {
   "display_name": "Python 3 (ipykernel)",
   "language": "python",
   "name": "python3"
  },
  "language_info": {
   "codemirror_mode": {
    "name": "ipython",
    "version": 3
   },
   "file_extension": ".py",
   "mimetype": "text/x-python",
   "name": "python",
   "nbconvert_exporter": "python",
   "pygments_lexer": "ipython3",
   "version": "3.10.9"
  }
 },
 "nbformat": 4,
 "nbformat_minor": 5
}
