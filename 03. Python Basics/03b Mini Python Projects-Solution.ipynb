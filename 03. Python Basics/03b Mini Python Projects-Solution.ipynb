{
 "cells": [
  {
   "cell_type": "markdown",
   "id": "4db68100",
   "metadata": {},
   "source": [
    "# 1\n",
    "- Create a variable called \"number\" and assign any integer value to it.\n",
    "- Use an if-else statement to check if the number is even or odd. You can use the modulo operator (%), which returns the remainder of a division operation, to check if the number is divisible by 2. If the remainder is 0, the number is even, otherwise it is odd.\n",
    "- You can also use logical operator \"and\" to check if the number is divisible by 2 and greater than 10.\n",
    "- You can use logical operator \"or\" to check if the number is either divisible by 2 or greater than 10."
   ]
  },
  {
   "cell_type": "code",
   "execution_count": null,
   "id": "feaa8cdf",
   "metadata": {},
   "outputs": [],
   "source": [
    "# Step 1: Create a variable called \"number\" and assign any integer value to it.\n",
    "number = 15\n",
    "\n",
    "# Step 2: Use an if-else statement to check if the number is even or odd.\n",
    "# The modulo operator (%) returns the remainder of a division operation.\n",
    "# If a number is divisible by 2, the remainder will be 0, so the number is even.\n",
    "# Otherwise, the number is odd.\n",
    "if number % 2 == 0:\n",
    "    print(f\"{number} is even\")\n",
    "else:\n",
    "    print(f\"{number} is odd\")\n",
    "\n",
    "# Step 3: Use the logical operator \"and\" to check if the number is divisible by 2 and greater than 10.\n",
    "if number % 2 == 0 and number > 10:\n",
    "    print(f\"{number} is even and greater than 10\")\n",
    "else:\n",
    "    print(f\"{number} is either not even or not greater than 10\")\n",
    "\n",
    "# Step 4: Use the logical operator \"or\" to check if the number is either divisible by 2 or greater than 10.\n",
    "if number % 2 == 0 or number > 10:\n",
    "    print(f\"{number} is either even or greater than 10\")\n",
    "else:\n",
    "    print(f\"{number} is neither even nor greater than 10\")"
   ]
  },
  {
   "cell_type": "markdown",
   "id": "2ff69dce",
   "metadata": {},
   "source": [
    "### Explanation:\n",
    "1. **Creating a Variable**:\n",
    "   - We create a variable named `number` and assign it an integer value. You can change this value to test with different numbers.\n",
    "\n",
    "2. **Checking Even or Odd**:\n",
    "   - We use the modulo operator `%` to determine if `number` is even or odd.\n",
    "   - If `number % 2 == 0`, the number is even because it is divisible by 2 with no remainder.\n",
    "   - If not, the number is odd.\n",
    "\n",
    "3. **Checking Divisibility by 2 and Greater than 10**:\n",
    "   - We use the logical operator `and` to check if `number` is both divisible by 2 (`number % 2 == 0`) and greater than 10 (`number > 10`).\n",
    "   - Both conditions must be true for the statement to be true.\n",
    "\n",
    "4. **Checking Divisibility by 2 or Greater than 10**:\n",
    "   - We use the logical operator `or` to check if `number` is either divisible by 2 (`number % 2 == 0`) or greater than 10 (`number > 10`).\n",
    "   - Only one of the conditions needs to be true for the statement to be true.\n",
    "\n",
    "This script will print messages based on the checks performed for the value of `number`."
   ]
  },
  {
   "cell_type": "markdown",
   "id": "a942a7db",
   "metadata": {},
   "source": [
    "# 2 "
   ]
  },
  {
   "cell_type": "markdown",
   "id": "43cf9eb2",
   "metadata": {},
   "source": [
    "### A Python program that calculates the number of days, weeks, and months left if you live until 90 years old. The program takes the user's current age as input and outputs the calculated time left using f-Strings:\n"
   ]
  },
  {
   "cell_type": "code",
   "execution_count": null,
   "id": "62632c6d",
   "metadata": {},
   "outputs": [],
   "source": [
    "\n",
    "# Define constants for the maximum age and conversion factors\n",
    "MAX_AGE = 90\n",
    "DAYS_IN_YEAR = 365\n",
    "WEEKS_IN_YEAR = 52\n",
    "MONTHS_IN_YEAR = 12\n",
    "\n",
    "# Step 1: Take the user's current age as input\n",
    "current_age = int(input(\"Enter your current age: \"))\n",
    "\n",
    "# Step 2: Calculate the remaining years\n",
    "years_left = MAX_AGE - current_age\n",
    "\n",
    "# Step 3: Calculate the remaining days, weeks, and months\n",
    "days_left = years_left * DAYS_IN_YEAR\n",
    "weeks_left = years_left * WEEKS_IN_YEAR\n",
    "months_left = years_left * MONTHS_IN_YEAR\n",
    "\n",
    "# Step 4: Output the result using f-Strings\n",
    "print(f\"You have {days_left} days, {weeks_left} weeks, and {months_left} months left.\")\n"
   ]
  },
  {
   "cell_type": "markdown",
   "id": "a9fcf4eb",
   "metadata": {},
   "source": [
    "### Explanation:\n",
    "1. **Define Constants**:\n",
    "   - `MAX_AGE` is set to 90 years, which is the assumed lifespan.\n",
    "   - `DAYS_IN_YEAR`, `WEEKS_IN_YEAR`, and `MONTHS_IN_YEAR` are set to 365, 52, and 12 respectively, representing the number of days, weeks, and months in a year.\n",
    "\n",
    "2. **Take User Input**:\n",
    "   - The program prompts the user to input their current age using `input()`. The `int()` function converts the input from a string to an integer.\n",
    "\n",
    "3. **Calculate Remaining Time**:\n",
    "   - `years_left` is calculated by subtracting the user's current age from `MAX_AGE`.\n",
    "   - `days_left`, `weeks_left`, and `months_left` are then calculated by multiplying `years_left` by the number of days, weeks, and months in a year, respectively.\n",
    "\n",
    "4. **Output the Result**:\n",
    "   - The program uses an f-String to format and print the calculated days, weeks, and months left.\n",
    "\n",
    "### Example Usage:\n",
    "If the user enters their age as `56`:\n",
    "- `years_left` will be `90 - 56 = 34`\n",
    "- `days_left` will be `34 * 365 = 12410`\n",
    "- `weeks_left` will be `34 * 52 = 1768`\n",
    "- `months_left` will be `34 * 12 = 408`\n"
   ]
  },
  {
   "cell_type": "markdown",
   "id": "499052ab",
   "metadata": {},
   "source": [
    "# 3"
   ]
  },
  {
   "cell_type": "markdown",
   "id": "d080764d",
   "metadata": {},
   "source": [
    "### A Python program that generates a band name based on the city you grew up in and the name of your pet. The program will guide the user through the process with clear prompts and output the generated band name:\n"
   ]
  },
  {
   "cell_type": "code",
   "execution_count": null,
   "id": "85f7878b",
   "metadata": {},
   "outputs": [],
   "source": [
    "# Step 1: Create a greeting for your program\n",
    "print(\"Welcome to the Band Name Generator!\")\n",
    "\n",
    "# Step 2: Ask the user for the city that they grew up in\n",
    "city = input(\"What's the name of the city you grew up in?\\n\")\n",
    "\n",
    "# Step 3: Ask the user for the name of a pet\n",
    "pet = input(\"What's your pet's name?\\n\")\n",
    "\n",
    "# Step 4: Combine the name of their city and pet to generate the band name\n",
    "band_name = city + \" \" + pet\n",
    "\n",
    "# Step 5: Show the generated band name to the user\n",
    "print(f\"Your band name could be: {band_name}\")\n"
   ]
  },
  {
   "cell_type": "markdown",
   "id": "a8e7a17f",
   "metadata": {},
   "source": [
    "### Explanation:\n",
    "1. **Greeting**:\n",
    "   - The program starts by printing a friendly welcome message.\n",
    "\n",
    "2. **Input for City**:\n",
    "   - The program prompts the user to enter the name of the city they grew up in.\n",
    "   - The `\\n` in the `input()` function ensures that the input cursor appears on a new line.\n",
    "\n",
    "3. **Input for Pet's Name**:\n",
    "   - The program prompts the user to enter the name of their pet.\n",
    "   - Again, the `\\n` ensures the input cursor appears on a new line.\n",
    "\n",
    "4. **Generate Band Name**:\n",
    "   - The program combines the city and pet names with a space in between to form the band name.\n",
    "\n",
    "5. **Output the Band Name**:\n",
    "   - The program prints the generated band name using an f-String for a clear and formatted output.\n",
    "\n",
    "### Example Output:\n",
    "```\n",
    "Welcome to the Band Name Generator!\n",
    "What's the name of the city you grew up in?\n",
    "Lagos\n",
    "What's your pet's name?\n",
    "Buddy\n",
    "Your band name could be: Lagos Buddy\n",
    "```"
   ]
  },
  {
   "cell_type": "markdown",
   "id": "780e1856",
   "metadata": {},
   "source": [
    "# 4"
   ]
  },
  {
   "cell_type": "markdown",
   "id": "3fdb8969",
   "metadata": {},
   "source": [
    "### A Python program that adds the digits in a 2-digit number, following your instructions and using concepts such as data types, subscripting, and type conversion:"
   ]
  },
  {
   "cell_type": "code",
   "execution_count": null,
   "id": "6672dc5c",
   "metadata": {},
   "outputs": [],
   "source": [
    "# Step 1: Prompt the user to enter a 2-digit number\n",
    "two_digit_number = input(\"Enter a 2-digit number: \")\n",
    "\n",
    "# Step 2: Extract the digits using subscripting\n",
    "# Since the input is a string, we can use indexing to get individual characters\n",
    "first_digit = two_digit_number[0]\n",
    "second_digit = two_digit_number[1]\n",
    "\n",
    "# Step 3: Convert the string digits to integers\n",
    "first_digit = int(first_digit)\n",
    "second_digit = int(second_digit)\n",
    "\n",
    "# Step 4: Add the two digits\n",
    "digit_sum = first_digit + second_digit\n",
    "\n",
    "# Step 5: Print the result in the required format\n",
    "print(f\"{first_digit} + {second_digit} = {digit_sum}\")\n"
   ]
  },
  {
   "cell_type": "markdown",
   "id": "798e2d95",
   "metadata": {},
   "source": [
    "### Explanation:\n",
    "1. **User Input**:\n",
    "   - The program prompts the user to enter a 2-digit number using the `input()` function. This input is stored as a string in the variable `two_digit_number`.\n",
    "\n",
    "2. **Extracting Digits**:\n",
    "   - Since `two_digit_number` is a string, we can use subscripting (indexing) to extract individual characters.\n",
    "   - `first_digit = two_digit_number[0]` gets the first character (the first digit).\n",
    "   - `second_digit = two_digit_number[1]` gets the second character (the second digit).\n",
    "\n",
    "3. **Type Conversion**:\n",
    "   - The characters representing digits are converted to integers using the `int()` function.\n",
    "   - This allows us to perform arithmetic operations on them.\n",
    "\n",
    "4. **Adding the Digits**:\n",
    "   - The program adds the two integers and stores the result in the variable `digit_sum`.\n",
    "\n",
    "5. **Output the Result**:\n",
    "   - The program prints the result in the required format using an f-String.\n",
    "\n",
    "### Example Output:\n",
    "For an input of `39`:\n",
    "```\n",
    "Enter a 2-digit number: 39\n",
    "3 + 9 = 12\n",
    "```"
   ]
  },
  {
   "cell_type": "code",
   "execution_count": null,
   "id": "6b4e1de2",
   "metadata": {},
   "outputs": [],
   "source": []
  }
 ],
 "metadata": {
  "kernelspec": {
   "display_name": "Python 3 (ipykernel)",
   "language": "python",
   "name": "python3"
  },
  "language_info": {
   "codemirror_mode": {
    "name": "ipython",
    "version": 3
   },
   "file_extension": ".py",
   "mimetype": "text/x-python",
   "name": "python",
   "nbconvert_exporter": "python",
   "pygments_lexer": "ipython3",
   "version": "3.10.9"
  }
 },
 "nbformat": 4,
 "nbformat_minor": 5
}
